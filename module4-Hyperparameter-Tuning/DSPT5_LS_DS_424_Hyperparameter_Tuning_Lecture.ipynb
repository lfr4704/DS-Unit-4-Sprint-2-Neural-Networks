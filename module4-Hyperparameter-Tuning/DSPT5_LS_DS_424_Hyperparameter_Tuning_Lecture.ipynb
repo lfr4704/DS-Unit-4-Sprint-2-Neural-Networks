{
  "nbformat": 4,
  "nbformat_minor": 0,
  "metadata": {
    "kernelspec": {
      "display_name": "U4-S2-NNF-DS12",
      "language": "python",
      "name": "u4-s2-nnf-ds12"
    },
    "language_info": {
      "codemirror_mode": {
        "name": "ipython",
        "version": 3
      },
      "file_extension": ".py",
      "mimetype": "text/x-python",
      "name": "python",
      "nbconvert_exporter": "python",
      "pygments_lexer": "ipython3",
      "version": "3.7.7"
    },
    "colab": {
      "name": "DSPT5_LS_DS_424_Hyperparameter_Tuning_Lecture.ipynb",
      "provenance": [],
      "collapsed_sections": []
    }
  },
  "cells": [
    {
      "cell_type": "markdown",
      "metadata": {
        "colab_type": "text",
        "id": "41TS0Sa0rDNx"
      },
      "source": [
        "Lambda School Data Science\n",
        "\n",
        "*Unit 4, Sprint 2, Module 4*\n",
        "\n",
        "---"
      ]
    },
    {
      "cell_type": "markdown",
      "metadata": {
        "colab_type": "text",
        "id": "u5EbNocPE-rG"
      },
      "source": [
        "# Neural Networks & GPUs (Prepare)\n",
        "*aka Hyperparameter Tuning*\n",
        "\n",
        "*aka Big Servers for Big Problems*"
      ]
    },
    {
      "cell_type": "markdown",
      "metadata": {
        "colab_type": "text",
        "id": "RUtS3IB4E-rH"
      },
      "source": [
        "## Learning Objectives\n",
        "* <a href=\"#p1\">Part 1</a>: Describe the major hyperparemeters to tune\n",
        "* <a href=\"#p2\">Part 2</a>: Implement an experiment tracking framework\n",
        "* <a href=\"#p3\">Part 3</a>: Search the hyperparameter space using RandomSearch (Optional)"
      ]
    },
    {
      "cell_type": "code",
      "metadata": {
        "id": "6Z4Lo0FIE-rH",
        "colab_type": "code",
        "colab": {}
      },
      "source": [
        "wandb_group = \"alexkim\"\n",
        "wandb_project = \"dspt5-proj\""
      ],
      "execution_count": null,
      "outputs": []
    },
    {
      "cell_type": "code",
      "metadata": {
        "id": "1duW0Bb_dU2H",
        "colab_type": "code",
        "colab": {
          "base_uri": "https://localhost:8080/",
          "height": 1000
        },
        "outputId": "586ae1da-f9c4-4566-870f-b00d607ef064"
      },
      "source": [
        "!pip install --upgrade wandb"
      ],
      "execution_count": null,
      "outputs": [
        {
          "output_type": "stream",
          "text": [
            "Collecting wandb\n",
            "\u001b[?25l  Downloading https://files.pythonhosted.org/packages/94/19/f8db9eff4b0173adf6dd2e8b0c3d8de0bfe10ec9ed63d247665980d82258/wandb-0.9.4-py2.py3-none-any.whl (1.4MB)\n",
            "\u001b[K     |████████████████████████████████| 1.4MB 5.1MB/s \n",
            "\u001b[?25hRequirement already satisfied, skipping upgrade: python-dateutil>=2.6.1 in /usr/local/lib/python3.6/dist-packages (from wandb) (2.8.1)\n",
            "Collecting subprocess32>=3.5.3\n",
            "\u001b[?25l  Downloading https://files.pythonhosted.org/packages/32/c8/564be4d12629b912ea431f1a50eb8b3b9d00f1a0b1ceff17f266be190007/subprocess32-3.5.4.tar.gz (97kB)\n",
            "\u001b[K     |████████████████████████████████| 102kB 9.8MB/s \n",
            "\u001b[?25hRequirement already satisfied, skipping upgrade: six>=1.10.0 in /usr/local/lib/python3.6/dist-packages (from wandb) (1.15.0)\n",
            "Requirement already satisfied, skipping upgrade: psutil>=5.0.0 in /usr/local/lib/python3.6/dist-packages (from wandb) (5.4.8)\n",
            "Requirement already satisfied, skipping upgrade: Click>=7.0 in /usr/local/lib/python3.6/dist-packages (from wandb) (7.1.2)\n",
            "Collecting configparser>=3.8.1\n",
            "  Downloading https://files.pythonhosted.org/packages/4b/6b/01baa293090240cf0562cc5eccb69c6f5006282127f2b846fad011305c79/configparser-5.0.0-py3-none-any.whl\n",
            "Collecting sentry-sdk>=0.4.0\n",
            "\u001b[?25l  Downloading https://files.pythonhosted.org/packages/19/2a/5461e1fe0026d6eab10571f81d052894328e97f15614abb6a576c65bc82d/sentry_sdk-0.16.2-py2.py3-none-any.whl (109kB)\n",
            "\u001b[K     |████████████████████████████████| 112kB 20.2MB/s \n",
            "\u001b[?25hCollecting watchdog>=0.8.3\n",
            "\u001b[?25l  Downloading https://files.pythonhosted.org/packages/0e/06/121302598a4fc01aca942d937f4a2c33430b7181137b35758913a8db10ad/watchdog-0.10.3.tar.gz (94kB)\n",
            "\u001b[K     |████████████████████████████████| 102kB 8.5MB/s \n",
            "\u001b[?25hRequirement already satisfied, skipping upgrade: nvidia-ml-py3>=7.352.0 in /usr/local/lib/python3.6/dist-packages (from wandb) (7.352.0)\n",
            "Collecting gql==0.2.0\n",
            "  Downloading https://files.pythonhosted.org/packages/c4/6f/cf9a3056045518f06184e804bae89390eb706168349daa9dff8ac609962a/gql-0.2.0.tar.gz\n",
            "Requirement already satisfied, skipping upgrade: requests>=2.0.0 in /usr/local/lib/python3.6/dist-packages (from wandb) (2.23.0)\n",
            "Collecting docker-pycreds>=0.4.0\n",
            "  Downloading https://files.pythonhosted.org/packages/f5/e8/f6bd1eee09314e7e6dee49cbe2c5e22314ccdb38db16c9fc72d2fa80d054/docker_pycreds-0.4.0-py2.py3-none-any.whl\n",
            "Collecting GitPython>=1.0.0\n",
            "\u001b[?25l  Downloading https://files.pythonhosted.org/packages/f9/1e/a45320cab182bf1c8656107b3d4c042e659742822fc6bff150d769a984dd/GitPython-3.1.7-py3-none-any.whl (158kB)\n",
            "\u001b[K     |████████████████████████████████| 163kB 30.9MB/s \n",
            "\u001b[?25hCollecting shortuuid>=0.5.0\n",
            "  Downloading https://files.pythonhosted.org/packages/25/a6/2ecc1daa6a304e7f1b216f0896b26156b78e7c38e1211e9b798b4716c53d/shortuuid-1.0.1-py3-none-any.whl\n",
            "Requirement already satisfied, skipping upgrade: PyYAML>=3.10 in /usr/local/lib/python3.6/dist-packages (from wandb) (3.13)\n",
            "Requirement already satisfied, skipping upgrade: urllib3>=1.10.0 in /usr/local/lib/python3.6/dist-packages (from sentry-sdk>=0.4.0->wandb) (1.24.3)\n",
            "Requirement already satisfied, skipping upgrade: certifi in /usr/local/lib/python3.6/dist-packages (from sentry-sdk>=0.4.0->wandb) (2020.6.20)\n",
            "Collecting pathtools>=0.1.1\n",
            "  Downloading https://files.pythonhosted.org/packages/e7/7f/470d6fcdf23f9f3518f6b0b76be9df16dcc8630ad409947f8be2eb0ed13a/pathtools-0.1.2.tar.gz\n",
            "Collecting graphql-core<2,>=0.5.0\n",
            "\u001b[?25l  Downloading https://files.pythonhosted.org/packages/b0/89/00ad5e07524d8c523b14d70c685e0299a8b0de6d0727e368c41b89b7ed0b/graphql-core-1.1.tar.gz (70kB)\n",
            "\u001b[K     |████████████████████████████████| 71kB 8.1MB/s \n",
            "\u001b[?25hRequirement already satisfied, skipping upgrade: promise<3,>=2.0 in /usr/local/lib/python3.6/dist-packages (from gql==0.2.0->wandb) (2.3)\n",
            "Requirement already satisfied, skipping upgrade: chardet<4,>=3.0.2 in /usr/local/lib/python3.6/dist-packages (from requests>=2.0.0->wandb) (3.0.4)\n",
            "Requirement already satisfied, skipping upgrade: idna<3,>=2.5 in /usr/local/lib/python3.6/dist-packages (from requests>=2.0.0->wandb) (2.10)\n",
            "Collecting gitdb<5,>=4.0.1\n",
            "\u001b[?25l  Downloading https://files.pythonhosted.org/packages/48/11/d1800bca0a3bae820b84b7d813ad1eff15a48a64caea9c823fc8c1b119e8/gitdb-4.0.5-py3-none-any.whl (63kB)\n",
            "\u001b[K     |████████████████████████████████| 71kB 7.5MB/s \n",
            "\u001b[?25hCollecting smmap<4,>=3.0.1\n",
            "  Downloading https://files.pythonhosted.org/packages/b0/9a/4d409a6234eb940e6a78dfdfc66156e7522262f5f2fecca07dc55915952d/smmap-3.0.4-py2.py3-none-any.whl\n",
            "Building wheels for collected packages: subprocess32, watchdog, gql, pathtools, graphql-core\n",
            "  Building wheel for subprocess32 (setup.py) ... \u001b[?25l\u001b[?25hdone\n",
            "  Created wheel for subprocess32: filename=subprocess32-3.5.4-cp36-none-any.whl size=6489 sha256=b89a40a20331739be191f9c40cd927a893569997d6e88500bed5891f5ad7f9bd\n",
            "  Stored in directory: /root/.cache/pip/wheels/68/39/1a/5e402bdfdf004af1786c8b853fd92f8c4a04f22aad179654d1\n",
            "  Building wheel for watchdog (setup.py) ... \u001b[?25l\u001b[?25hdone\n",
            "  Created wheel for watchdog: filename=watchdog-0.10.3-cp36-none-any.whl size=73870 sha256=43765d7ae13880b98d57bf77cbb445398a733bc84c46db40e00e7e079e0380ff\n",
            "  Stored in directory: /root/.cache/pip/wheels/a8/1d/38/2c19bb311f67cc7b4d07a2ec5ea36ab1a0a0ea50db994a5bc7\n",
            "  Building wheel for gql (setup.py) ... \u001b[?25l\u001b[?25hdone\n",
            "  Created wheel for gql: filename=gql-0.2.0-cp36-none-any.whl size=7630 sha256=5beddd7a6319b403204402c3ea9316bfae8913b6d8eabd4a19b404d5bb0ff915\n",
            "  Stored in directory: /root/.cache/pip/wheels/ce/0e/7b/58a8a5268655b3ad74feef5aa97946f0addafb3cbb6bd2da23\n",
            "  Building wheel for pathtools (setup.py) ... \u001b[?25l\u001b[?25hdone\n",
            "  Created wheel for pathtools: filename=pathtools-0.1.2-cp36-none-any.whl size=8784 sha256=5a7a92da7fdec8d4e380610061a01b0920517c1a461efed8429aef9754e6af51\n",
            "  Stored in directory: /root/.cache/pip/wheels/0b/04/79/c3b0c3a0266a3cb4376da31e5bfe8bba0c489246968a68e843\n",
            "  Building wheel for graphql-core (setup.py) ... \u001b[?25l\u001b[?25hdone\n",
            "  Created wheel for graphql-core: filename=graphql_core-1.1-cp36-none-any.whl size=104650 sha256=3694f22df005972f2ffd08685262f6f48de5422225b0def83ad71d2cff0e8443\n",
            "  Stored in directory: /root/.cache/pip/wheels/45/99/d7/c424029bb0fe910c63b68dbf2aa20d3283d023042521bcd7d5\n",
            "Successfully built subprocess32 watchdog gql pathtools graphql-core\n",
            "Installing collected packages: subprocess32, configparser, sentry-sdk, pathtools, watchdog, graphql-core, gql, docker-pycreds, smmap, gitdb, GitPython, shortuuid, wandb\n",
            "Successfully installed GitPython-3.1.7 configparser-5.0.0 docker-pycreds-0.4.0 gitdb-4.0.5 gql-0.2.0 graphql-core-1.1 pathtools-0.1.2 sentry-sdk-0.16.2 shortuuid-1.0.1 smmap-3.0.4 subprocess32-3.5.4 wandb-0.9.4 watchdog-0.10.3\n"
          ],
          "name": "stdout"
        }
      ]
    },
    {
      "cell_type": "code",
      "metadata": {
        "id": "2qUFOcmPdW05",
        "colab_type": "code",
        "colab": {
          "base_uri": "https://localhost:8080/",
          "height": 52
        },
        "outputId": "ee7bc9f0-0020-4363-fc91-a60e0faf20c7"
      },
      "source": [
        "!wandb login 0906297a317da857ba9e43f80af64e7cb721ac2a"
      ],
      "execution_count": null,
      "outputs": [
        {
          "output_type": "stream",
          "text": [
            "\u001b[34m\u001b[1mwandb\u001b[0m: Appending key for api.wandb.ai to your netrc file: /root/.netrc\n",
            "\u001b[32mSuccessfully logged in to Weights & Biases!\u001b[0m\n"
          ],
          "name": "stdout"
        }
      ]
    },
    {
      "cell_type": "markdown",
      "metadata": {
        "id": "95DDiPc8E-rK",
        "colab_type": "text"
      },
      "source": [
        "# Hyperparameter Options (Learn)\n",
        "<a id=\"p1\"></a>"
      ]
    },
    {
      "cell_type": "markdown",
      "metadata": {
        "id": "LNpcLpvLE-rK",
        "colab_type": "text"
      },
      "source": [
        "## Overview\n",
        "\n",
        "Hyperparameter tuning is much more important with neural networks than it has been with any other models that we have considered up to this point. Other supervised learning models might have a couple of parameters, but neural networks can have dozens. These can substantially affect the accuracy of our models and although it can be a time consuming process is a necessary step when working with neural networks.\n",
        "​\n",
        "Hyperparameter tuning comes with a challenge. How can we compare models specified with different hyperparameters if our model's final error metric can vary somewhat erratically? How do we avoid just getting unlucky and selecting the wrong hyperparameter? This is a problem that to a certain degree we just have to live with as we test and test again. However, we can minimize it somewhat by pairing our experiments with Cross Validation to reduce the variance of our final accuracy values."
      ]
    },
    {
      "cell_type": "markdown",
      "metadata": {
        "colab_type": "text",
        "id": "0s0o2pqBs88q"
      },
      "source": [
        "### Load Boston Housing Data"
      ]
    },
    {
      "cell_type": "code",
      "metadata": {
        "id": "bwWjtILAE-rL",
        "colab_type": "code",
        "colab": {
          "base_uri": "https://localhost:8080/",
          "height": 52
        },
        "outputId": "baa75c5d-5f3a-468c-f696-2e9420724dbc"
      },
      "source": [
        "from tensorflow.keras.datasets import boston_housing\n",
        "\n",
        "(x_train, y_train), (x_test, y_test) = boston_housing.load_data()"
      ],
      "execution_count": null,
      "outputs": [
        {
          "output_type": "stream",
          "text": [
            "Downloading data from https://storage.googleapis.com/tensorflow/tf-keras-datasets/boston_housing.npz\n",
            "57344/57026 [==============================] - 0s 0us/step\n"
          ],
          "name": "stdout"
        }
      ]
    },
    {
      "cell_type": "markdown",
      "metadata": {
        "colab_type": "text",
        "id": "Pm7zow5IvaTt"
      },
      "source": [
        "### Normalizing Input Data\n",
        "\n",
        "It's not 100% necessary to normalize/scale your input data before feeding it to a neural network, the network can learn the appropriate weights to deal with data of as long as it is numerically represented,  but it is recommended as it can help **make training faster** and **reduces the chances that gradient descent might get stuck in a local optimum**.\n",
        "\n",
        "<https://stackoverflow.com/questions/4674623/why-do-we-have-to-normalize-the-input-for-an-artificial-neural-network>"
      ]
    },
    {
      "cell_type": "code",
      "metadata": {
        "id": "AWVKdm-3E-rO",
        "colab_type": "code",
        "colab": {
          "base_uri": "https://localhost:8080/",
          "height": 545
        },
        "outputId": "407daa45-c217-40a4-fb4b-c93fd61148cb"
      },
      "source": [
        "from sklearn.preprocessing import StandardScaler\n",
        "\n",
        "scaler = StandardScaler()\n",
        "\n",
        "x_train = scaler.fit_transform(x_train)\n",
        "x_test = scaler.transform(x_test)\n",
        "print(x_train[:10])"
      ],
      "execution_count": null,
      "outputs": [
        {
          "output_type": "stream",
          "text": [
            "[[-0.27224633 -0.48361547 -0.43576161 -0.25683275 -0.1652266  -0.1764426\n",
            "   0.81306188  0.1166983  -0.62624905 -0.59517003  1.14850044  0.44807713\n",
            "   0.8252202 ]\n",
            " [-0.40342651  2.99178419 -1.33391162 -0.25683275 -1.21518188  1.89434613\n",
            "  -1.91036058  1.24758524 -0.85646254 -0.34843254 -1.71818909  0.43190599\n",
            "  -1.32920239]\n",
            " [ 0.1249402  -0.48361547  1.0283258  -0.25683275  0.62864202 -1.82968811\n",
            "   1.11048828 -1.18743907  1.67588577  1.5652875   0.78447637  0.22061726\n",
            "  -1.30850006]\n",
            " [-0.40149354 -0.48361547 -0.86940196 -0.25683275 -0.3615597  -0.3245576\n",
            "  -1.23667187  1.10717989 -0.51114231 -1.094663    0.78447637  0.44807713\n",
            "  -0.65292624]\n",
            " [-0.0056343  -0.48361547  1.0283258  -0.25683275  1.32861221  0.15364225\n",
            "   0.69480801 -0.57857203  1.67588577  1.5652875   0.78447637  0.3898823\n",
            "   0.26349695]\n",
            " [-0.37502238 -0.48361547 -0.54747912 -0.25683275 -0.54935658 -0.78865126\n",
            "   0.18954148  0.48371503 -0.51114231 -0.71552978  0.51145832  0.38669063\n",
            "  -0.13812828]\n",
            " [ 0.58963463 -0.48361547  1.0283258  -0.25683275  1.21764133 -1.03127774\n",
            "   1.11048828 -1.06518235  1.67588577  1.5652875   0.78447637  0.44807713\n",
            "   1.49873604]\n",
            " [ 0.0381708  -0.48361547  1.24588095 -0.25683275  2.67733525 -1.12719983\n",
            "   1.11048828 -1.14833073 -0.51114231 -0.01744323 -1.71818909  0.44807713\n",
            "   1.88793986]\n",
            " [-0.17228416 -0.48361547  1.24588095 -0.25683275  2.67733525 -0.90150078\n",
            "   1.11048828 -1.09664657 -0.51114231 -0.01744323 -1.71818909 -1.97365769\n",
            "   0.53952803]\n",
            " [-0.22932104 -0.48361547  1.58544339 -0.25683275  0.56888847 -1.76056777\n",
            "   1.11048828 -1.13471925 -0.62624905  0.18716835  1.23950646  0.44807713\n",
            "   2.99068404]]\n"
          ],
          "name": "stdout"
        }
      ]
    },
    {
      "cell_type": "markdown",
      "metadata": {
        "colab_type": "text",
        "id": "l6hgCWbir90R"
      },
      "source": [
        "### Model Validation using an automatic verification Dataset\n",
        "\n",
        "Instead of doing seperate train test split class, Keras has a really nice feature that you can set the validation.data argument when fitting your model and Keras will take that portion of your test data and use it as a validation dataset. "
      ]
    },
    {
      "cell_type": "code",
      "metadata": {
        "colab_type": "code",
        "id": "GMXVfmzXp1Oo",
        "colab": {
          "base_uri": "https://localhost:8080/",
          "height": 1000
        },
        "outputId": "5d45467d-968b-40da-b71f-4d851aaef316"
      },
      "source": [
        "from tensorflow import keras\n",
        "from tensorflow.keras.models import Sequential\n",
        "from tensorflow.keras.layers import Dense\n",
        "\n",
        "# Important Hyperparameters\n",
        "inputs = x_train.shape[1]\n",
        "epochs = 75\n",
        "batch_size = 10\n",
        "\n",
        "\n",
        "# Create Model\n",
        "model = Sequential()\n",
        "model.add(Dense(64, activation='relu', input_shape=(inputs,)))\n",
        "model.add(Dense(64, activation='relu'))\n",
        "model.add(Dense(1))\n",
        "\n",
        "# Compile Model\n",
        "model.compile(optimizer='adam', loss='mse', metrics=['mse', 'mae'])\n",
        "\n",
        "# Fit Model\n",
        "model.fit(x_train, y_train, \n",
        "          validation_data=(x_test,y_test), \n",
        "          epochs=epochs, \n",
        "          batch_size=batch_size\n",
        "         )"
      ],
      "execution_count": null,
      "outputs": [
        {
          "output_type": "stream",
          "text": [
            "Epoch 1/75\n",
            "41/41 [==============================] - 0s 6ms/step - loss: 485.5177 - mse: 485.5177 - mae: 20.0551 - val_loss: 387.0335 - val_mse: 387.0335 - val_mae: 17.6871\n",
            "Epoch 2/75\n",
            "41/41 [==============================] - 0s 3ms/step - loss: 232.0718 - mse: 232.0718 - mae: 12.8446 - val_loss: 93.6691 - val_mse: 93.6691 - val_mae: 8.1600\n",
            "Epoch 3/75\n",
            "41/41 [==============================] - 0s 3ms/step - loss: 63.2683 - mse: 63.2683 - mae: 6.0932 - val_loss: 44.5753 - val_mse: 44.5753 - val_mae: 5.3518\n",
            "Epoch 4/75\n",
            "41/41 [==============================] - 0s 3ms/step - loss: 34.4130 - mse: 34.4130 - mae: 4.2834 - val_loss: 32.5772 - val_mse: 32.5772 - val_mae: 4.5190\n",
            "Epoch 5/75\n",
            "41/41 [==============================] - 0s 3ms/step - loss: 25.3066 - mse: 25.3066 - mae: 3.6062 - val_loss: 28.6484 - val_mse: 28.6484 - val_mae: 4.1846\n",
            "Epoch 6/75\n",
            "41/41 [==============================] - 0s 3ms/step - loss: 21.5664 - mse: 21.5664 - mae: 3.2466 - val_loss: 26.8323 - val_mse: 26.8323 - val_mae: 4.0372\n",
            "Epoch 7/75\n",
            "41/41 [==============================] - 0s 3ms/step - loss: 19.6581 - mse: 19.6581 - mae: 3.1750 - val_loss: 26.4540 - val_mse: 26.4540 - val_mae: 3.9298\n",
            "Epoch 8/75\n",
            "41/41 [==============================] - 0s 3ms/step - loss: 17.4198 - mse: 17.4198 - mae: 2.9389 - val_loss: 25.1230 - val_mse: 25.1230 - val_mae: 3.7698\n",
            "Epoch 9/75\n",
            "41/41 [==============================] - 0s 3ms/step - loss: 15.8606 - mse: 15.8606 - mae: 2.7986 - val_loss: 25.2413 - val_mse: 25.2413 - val_mae: 3.7303\n",
            "Epoch 10/75\n",
            "41/41 [==============================] - 0s 3ms/step - loss: 14.9173 - mse: 14.9173 - mae: 2.7060 - val_loss: 24.0799 - val_mse: 24.0799 - val_mae: 3.5795\n",
            "Epoch 11/75\n",
            "41/41 [==============================] - 0s 3ms/step - loss: 13.8860 - mse: 13.8860 - mae: 2.6623 - val_loss: 24.7686 - val_mse: 24.7686 - val_mae: 3.5363\n",
            "Epoch 12/75\n",
            "41/41 [==============================] - 0s 3ms/step - loss: 13.2182 - mse: 13.2182 - mae: 2.5814 - val_loss: 24.1260 - val_mse: 24.1260 - val_mae: 3.4545\n",
            "Epoch 13/75\n",
            "41/41 [==============================] - 0s 3ms/step - loss: 12.3689 - mse: 12.3689 - mae: 2.4666 - val_loss: 23.8924 - val_mse: 23.8924 - val_mae: 3.3855\n",
            "Epoch 14/75\n",
            "41/41 [==============================] - 0s 3ms/step - loss: 11.8826 - mse: 11.8826 - mae: 2.4749 - val_loss: 23.5221 - val_mse: 23.5221 - val_mae: 3.3255\n",
            "Epoch 15/75\n",
            "41/41 [==============================] - 0s 3ms/step - loss: 11.6882 - mse: 11.6882 - mae: 2.4151 - val_loss: 24.2390 - val_mse: 24.2390 - val_mae: 3.3249\n",
            "Epoch 16/75\n",
            "41/41 [==============================] - 0s 3ms/step - loss: 11.1962 - mse: 11.1962 - mae: 2.3605 - val_loss: 24.4966 - val_mse: 24.4966 - val_mae: 3.2827\n",
            "Epoch 17/75\n",
            "41/41 [==============================] - 0s 3ms/step - loss: 10.6478 - mse: 10.6478 - mae: 2.3112 - val_loss: 23.7177 - val_mse: 23.7177 - val_mae: 3.2067\n",
            "Epoch 18/75\n",
            "41/41 [==============================] - 0s 3ms/step - loss: 10.5667 - mse: 10.5667 - mae: 2.3025 - val_loss: 24.1205 - val_mse: 24.1205 - val_mae: 3.2872\n",
            "Epoch 19/75\n",
            "41/41 [==============================] - 0s 3ms/step - loss: 10.3218 - mse: 10.3218 - mae: 2.2706 - val_loss: 25.1432 - val_mse: 25.1432 - val_mae: 3.3246\n",
            "Epoch 20/75\n",
            "41/41 [==============================] - 0s 3ms/step - loss: 10.0603 - mse: 10.0603 - mae: 2.2742 - val_loss: 23.0459 - val_mse: 23.0459 - val_mae: 3.1268\n",
            "Epoch 21/75\n",
            "41/41 [==============================] - 0s 3ms/step - loss: 9.8425 - mse: 9.8425 - mae: 2.2257 - val_loss: 23.6920 - val_mse: 23.6920 - val_mae: 3.1808\n",
            "Epoch 22/75\n",
            "41/41 [==============================] - 0s 3ms/step - loss: 9.5489 - mse: 9.5489 - mae: 2.1951 - val_loss: 23.5748 - val_mse: 23.5748 - val_mae: 3.2266\n",
            "Epoch 23/75\n",
            "41/41 [==============================] - 0s 3ms/step - loss: 9.8164 - mse: 9.8164 - mae: 2.2549 - val_loss: 23.1738 - val_mse: 23.1738 - val_mae: 3.2377\n",
            "Epoch 24/75\n",
            "41/41 [==============================] - 0s 3ms/step - loss: 9.5793 - mse: 9.5793 - mae: 2.1907 - val_loss: 23.5462 - val_mse: 23.5462 - val_mae: 3.1806\n",
            "Epoch 25/75\n",
            "41/41 [==============================] - 0s 3ms/step - loss: 9.2935 - mse: 9.2935 - mae: 2.1451 - val_loss: 24.4840 - val_mse: 24.4840 - val_mae: 3.1984\n",
            "Epoch 26/75\n",
            "41/41 [==============================] - 0s 3ms/step - loss: 9.0701 - mse: 9.0701 - mae: 2.1484 - val_loss: 21.6605 - val_mse: 21.6605 - val_mae: 3.0047\n",
            "Epoch 27/75\n",
            "41/41 [==============================] - 0s 3ms/step - loss: 9.1363 - mse: 9.1363 - mae: 2.1209 - val_loss: 22.4190 - val_mse: 22.4190 - val_mae: 3.1040\n",
            "Epoch 28/75\n",
            "41/41 [==============================] - 0s 3ms/step - loss: 8.8929 - mse: 8.8929 - mae: 2.1112 - val_loss: 23.4074 - val_mse: 23.4074 - val_mae: 3.0866\n",
            "Epoch 29/75\n",
            "41/41 [==============================] - 0s 3ms/step - loss: 8.8558 - mse: 8.8558 - mae: 2.0979 - val_loss: 23.8372 - val_mse: 23.8372 - val_mae: 3.1064\n",
            "Epoch 30/75\n",
            "41/41 [==============================] - 0s 3ms/step - loss: 8.7137 - mse: 8.7137 - mae: 2.1367 - val_loss: 20.9019 - val_mse: 20.9019 - val_mae: 2.9400\n",
            "Epoch 31/75\n",
            "41/41 [==============================] - 0s 3ms/step - loss: 8.4875 - mse: 8.4875 - mae: 2.0639 - val_loss: 22.1747 - val_mse: 22.1747 - val_mae: 2.9886\n",
            "Epoch 32/75\n",
            "41/41 [==============================] - 0s 3ms/step - loss: 8.6197 - mse: 8.6197 - mae: 2.0651 - val_loss: 21.4583 - val_mse: 21.4583 - val_mae: 2.9556\n",
            "Epoch 33/75\n",
            "41/41 [==============================] - 0s 3ms/step - loss: 8.4498 - mse: 8.4498 - mae: 2.0834 - val_loss: 20.1714 - val_mse: 20.1714 - val_mae: 2.8698\n",
            "Epoch 34/75\n",
            "41/41 [==============================] - 0s 3ms/step - loss: 8.3651 - mse: 8.3651 - mae: 2.0577 - val_loss: 20.7438 - val_mse: 20.7438 - val_mae: 2.8785\n",
            "Epoch 35/75\n",
            "41/41 [==============================] - 0s 3ms/step - loss: 8.3185 - mse: 8.3185 - mae: 2.0203 - val_loss: 22.6841 - val_mse: 22.6841 - val_mae: 3.0406\n",
            "Epoch 36/75\n",
            "41/41 [==============================] - 0s 2ms/step - loss: 8.1646 - mse: 8.1646 - mae: 2.0094 - val_loss: 20.9245 - val_mse: 20.9245 - val_mae: 2.9764\n",
            "Epoch 37/75\n",
            "41/41 [==============================] - 0s 3ms/step - loss: 8.2271 - mse: 8.2271 - mae: 2.0543 - val_loss: 20.9531 - val_mse: 20.9531 - val_mae: 2.9016\n",
            "Epoch 38/75\n",
            "41/41 [==============================] - 0s 3ms/step - loss: 7.9647 - mse: 7.9647 - mae: 2.0220 - val_loss: 21.7438 - val_mse: 21.7438 - val_mae: 2.9442\n",
            "Epoch 39/75\n",
            "41/41 [==============================] - 0s 3ms/step - loss: 8.0103 - mse: 8.0103 - mae: 1.9915 - val_loss: 22.1855 - val_mse: 22.1855 - val_mae: 2.9921\n",
            "Epoch 40/75\n",
            "41/41 [==============================] - 0s 3ms/step - loss: 7.6957 - mse: 7.6957 - mae: 1.9748 - val_loss: 21.0168 - val_mse: 21.0168 - val_mae: 2.9176\n",
            "Epoch 41/75\n",
            "41/41 [==============================] - 0s 3ms/step - loss: 7.6340 - mse: 7.6340 - mae: 1.9460 - val_loss: 21.4108 - val_mse: 21.4108 - val_mae: 2.9000\n",
            "Epoch 42/75\n",
            "41/41 [==============================] - 0s 3ms/step - loss: 7.7653 - mse: 7.7653 - mae: 1.9516 - val_loss: 20.3519 - val_mse: 20.3519 - val_mae: 2.8452\n",
            "Epoch 43/75\n",
            "41/41 [==============================] - 0s 3ms/step - loss: 7.4839 - mse: 7.4839 - mae: 1.9395 - val_loss: 20.8171 - val_mse: 20.8171 - val_mae: 2.8276\n",
            "Epoch 44/75\n",
            "41/41 [==============================] - 0s 3ms/step - loss: 7.3655 - mse: 7.3655 - mae: 1.9638 - val_loss: 19.3483 - val_mse: 19.3483 - val_mae: 2.8565\n",
            "Epoch 45/75\n",
            "41/41 [==============================] - 0s 3ms/step - loss: 7.2313 - mse: 7.2313 - mae: 1.8889 - val_loss: 20.0339 - val_mse: 20.0339 - val_mae: 2.8263\n",
            "Epoch 46/75\n",
            "41/41 [==============================] - 0s 3ms/step - loss: 7.3151 - mse: 7.3151 - mae: 1.9551 - val_loss: 18.9449 - val_mse: 18.9449 - val_mae: 2.8617\n",
            "Epoch 47/75\n",
            "41/41 [==============================] - 0s 3ms/step - loss: 7.3908 - mse: 7.3908 - mae: 1.9530 - val_loss: 18.7538 - val_mse: 18.7538 - val_mae: 2.7557\n",
            "Epoch 48/75\n",
            "41/41 [==============================] - 0s 3ms/step - loss: 7.0939 - mse: 7.0939 - mae: 1.8858 - val_loss: 18.8061 - val_mse: 18.8061 - val_mae: 2.8366\n",
            "Epoch 49/75\n",
            "41/41 [==============================] - 0s 2ms/step - loss: 6.9883 - mse: 6.9883 - mae: 1.8727 - val_loss: 19.1876 - val_mse: 19.1876 - val_mae: 2.7616\n",
            "Epoch 50/75\n",
            "41/41 [==============================] - 0s 3ms/step - loss: 6.7738 - mse: 6.7738 - mae: 1.8560 - val_loss: 18.2545 - val_mse: 18.2545 - val_mae: 2.7302\n",
            "Epoch 51/75\n",
            "41/41 [==============================] - 0s 3ms/step - loss: 6.8040 - mse: 6.8040 - mae: 1.8181 - val_loss: 18.8926 - val_mse: 18.8926 - val_mae: 2.7139\n",
            "Epoch 52/75\n",
            "41/41 [==============================] - 0s 3ms/step - loss: 6.8320 - mse: 6.8320 - mae: 1.8615 - val_loss: 18.2238 - val_mse: 18.2238 - val_mae: 2.8299\n",
            "Epoch 53/75\n",
            "41/41 [==============================] - 0s 3ms/step - loss: 6.7677 - mse: 6.7677 - mae: 1.8359 - val_loss: 18.5852 - val_mse: 18.5852 - val_mae: 2.7269\n",
            "Epoch 54/75\n",
            "41/41 [==============================] - 0s 3ms/step - loss: 6.6132 - mse: 6.6132 - mae: 1.8271 - val_loss: 18.4790 - val_mse: 18.4790 - val_mae: 2.7434\n",
            "Epoch 55/75\n",
            "41/41 [==============================] - 0s 3ms/step - loss: 6.3631 - mse: 6.3631 - mae: 1.7783 - val_loss: 18.9014 - val_mse: 18.9013 - val_mae: 2.8518\n",
            "Epoch 56/75\n",
            "41/41 [==============================] - 0s 3ms/step - loss: 6.4268 - mse: 6.4268 - mae: 1.7706 - val_loss: 18.7135 - val_mse: 18.7135 - val_mae: 2.7097\n",
            "Epoch 57/75\n",
            "41/41 [==============================] - 0s 3ms/step - loss: 6.6150 - mse: 6.6150 - mae: 1.8152 - val_loss: 19.7980 - val_mse: 19.7980 - val_mae: 2.8318\n",
            "Epoch 58/75\n",
            "41/41 [==============================] - 0s 3ms/step - loss: 6.6512 - mse: 6.6512 - mae: 1.8109 - val_loss: 20.0062 - val_mse: 20.0062 - val_mae: 2.8382\n",
            "Epoch 59/75\n",
            "41/41 [==============================] - 0s 3ms/step - loss: 6.2602 - mse: 6.2602 - mae: 1.7925 - val_loss: 17.2790 - val_mse: 17.2790 - val_mae: 2.7009\n",
            "Epoch 60/75\n",
            "41/41 [==============================] - 0s 3ms/step - loss: 6.1149 - mse: 6.1149 - mae: 1.7401 - val_loss: 17.1483 - val_mse: 17.1483 - val_mae: 2.6353\n",
            "Epoch 61/75\n",
            "41/41 [==============================] - 0s 3ms/step - loss: 6.0924 - mse: 6.0924 - mae: 1.7483 - val_loss: 17.1857 - val_mse: 17.1857 - val_mae: 2.6327\n",
            "Epoch 62/75\n",
            "41/41 [==============================] - 0s 3ms/step - loss: 6.0658 - mse: 6.0658 - mae: 1.7158 - val_loss: 17.4062 - val_mse: 17.4062 - val_mae: 2.6367\n",
            "Epoch 63/75\n",
            "41/41 [==============================] - 0s 3ms/step - loss: 5.9975 - mse: 5.9975 - mae: 1.7361 - val_loss: 16.9691 - val_mse: 16.9691 - val_mae: 2.6312\n",
            "Epoch 64/75\n",
            "41/41 [==============================] - 0s 3ms/step - loss: 5.9432 - mse: 5.9432 - mae: 1.7267 - val_loss: 17.1289 - val_mse: 17.1289 - val_mae: 2.6317\n",
            "Epoch 65/75\n",
            "41/41 [==============================] - 0s 2ms/step - loss: 5.9051 - mse: 5.9051 - mae: 1.7071 - val_loss: 17.7663 - val_mse: 17.7663 - val_mae: 2.6860\n",
            "Epoch 66/75\n",
            "41/41 [==============================] - 0s 2ms/step - loss: 5.9479 - mse: 5.9479 - mae: 1.7340 - val_loss: 16.8490 - val_mse: 16.8490 - val_mae: 2.7042\n",
            "Epoch 67/75\n",
            "41/41 [==============================] - 0s 3ms/step - loss: 5.8717 - mse: 5.8717 - mae: 1.7087 - val_loss: 16.3759 - val_mse: 16.3759 - val_mae: 2.5662\n",
            "Epoch 68/75\n",
            "41/41 [==============================] - 0s 3ms/step - loss: 5.7613 - mse: 5.7613 - mae: 1.7184 - val_loss: 15.7317 - val_mse: 15.7317 - val_mae: 2.5608\n",
            "Epoch 69/75\n",
            "41/41 [==============================] - 0s 3ms/step - loss: 5.6533 - mse: 5.6533 - mae: 1.6566 - val_loss: 16.9093 - val_mse: 16.9093 - val_mae: 2.6618\n",
            "Epoch 70/75\n",
            "41/41 [==============================] - 0s 3ms/step - loss: 5.4451 - mse: 5.4451 - mae: 1.6466 - val_loss: 14.9887 - val_mse: 14.9887 - val_mae: 2.4857\n",
            "Epoch 71/75\n",
            "41/41 [==============================] - 0s 3ms/step - loss: 5.4992 - mse: 5.4992 - mae: 1.6428 - val_loss: 15.9572 - val_mse: 15.9572 - val_mae: 2.5582\n",
            "Epoch 72/75\n",
            "41/41 [==============================] - 0s 3ms/step - loss: 5.5127 - mse: 5.5127 - mae: 1.6769 - val_loss: 16.3966 - val_mse: 16.3966 - val_mae: 2.6200\n",
            "Epoch 73/75\n",
            "41/41 [==============================] - 0s 3ms/step - loss: 5.3524 - mse: 5.3524 - mae: 1.6483 - val_loss: 15.5416 - val_mse: 15.5416 - val_mae: 2.5282\n",
            "Epoch 74/75\n",
            "41/41 [==============================] - 0s 3ms/step - loss: 5.4627 - mse: 5.4627 - mae: 1.6540 - val_loss: 14.0686 - val_mse: 14.0686 - val_mae: 2.4775\n",
            "Epoch 75/75\n",
            "41/41 [==============================] - 0s 3ms/step - loss: 5.3708 - mse: 5.3708 - mae: 1.5979 - val_loss: 14.9363 - val_mse: 14.9363 - val_mae: 2.5034\n"
          ],
          "name": "stdout"
        },
        {
          "output_type": "execute_result",
          "data": {
            "text/plain": [
              "<tensorflow.python.keras.callbacks.History at 0x7efd3b5d69b0>"
            ]
          },
          "metadata": {
            "tags": []
          },
          "execution_count": 6
        }
      ]
    },
    {
      "cell_type": "markdown",
      "metadata": {
        "colab_type": "text",
        "id": "sYJ8t_ezHP4W"
      },
      "source": [
        "### Hyperparameter Tuning Approaches:\n",
        "\n",
        "#### 1) Babysitting AKA \"Grad Student Descent\".\n",
        "\n",
        "If you fiddled with any hyperparameters yesterday, this is basically what you did. This approach is 100% manual and is pretty common among researchers where finding that 1 exact specification that jumps your model to a level of accuracy never seen before is the difference between publishing and not publishing a paper. Of course the professors don't do this themselves, that's grunt work. This is also known as the fiddle with hyperparameters until you run out of time method.\n",
        "\n",
        "#### 2) Grid Search\n",
        "\n",
        "Grid Search is the Grad Student galaxy brain realization of: why don't I just specify all the experiments I want to run and let the computer try every possible combination of them while I go and grab lunch. This has a specific downside in that if I specify 5 hyperparameters with 5 options each then I've just created 5^5 combinations of hyperparameters to check. Which means that I have to train 3125 different versions of my model Then if I use 5-fold Cross Validation on that then my model has to run 15,525 times. This is the brute-force method of hyperparameter tuning, but it can be very profitable if done wisely. \n",
        "\n",
        "When using Grid Search here's what I suggest: don't use it to test combinations of different hyperparameters, only use it to test different specifications of **a single** hyperparameter. It's rare that combinations between different hyperparameters lead to big performance gains. You'll get 90-95% of the way there if you just Grid Search one parameter and take the best result, then retain that best result while you test another, and then retain the best specification from that while you train another. This at least makes the situation much more manageable and leads to pretty good results. \n",
        "\n",
        "#### 3) Random Search\n",
        "\n",
        "Do Grid Search for a couple of hours and you'll say to yourself - \"There's got to be a better way.\" Enter Random Search. For Random search you specify a hyperparameter space and it picks specifications from that randomly, tries them out, gives you the best results and says - That's going to have to be good enough, go home and spend time with your family. \n",
        "\n",
        "Grid Search treats every parameter as if it was equally important, but this just isn't the case, some are known to move the needle a lot more than others (we'll talk about that in a minute). Random Search allows searching to be specified along the most important parameter and experiments less along the dimensions of less important hyperparameters. The downside of Random search is that it won't find the absolute best hyperparameters, but it is much less costly to perform than Grid Search. \n",
        "\n",
        "#### 4) Bayesian Methods\n",
        "\n",
        "One thing that can make more manual methods like babysitting and gridsearch effective is that as the experimenter sees results he can then make updates to his future searches taking into account the results of past specifications. If only we could hyperparameter tune our hyperparameter tuning. Well, we kind of can. Enter Bayesian Optimization. Neural Networks are like an optimization problem within an optimization problem, and Bayesian Optimization is a search strategy that tries to take into account the results of past searches in order to improve future ones. Check out the new library `keras-tuner` for easy implementations of Bayesian methods. \n"
      ]
    },
    {
      "cell_type": "markdown",
      "metadata": {
        "colab_type": "text",
        "id": "HfQ7D043OMMn"
      },
      "source": [
        "## What Hyperparameters are there to test?\n",
        "\n",
        "- batch_size\n",
        "- training epochs\n",
        "- optimization algorithms\n",
        "- learning rate\n",
        "- momentum\n",
        "- activation functions\n",
        "- dropout regularization\n",
        "- number of neurons in the hidden layer\n",
        "\n",
        "There are more, but these are the most important."
      ]
    },
    {
      "cell_type": "markdown",
      "metadata": {
        "id": "uSKW-Bx9E-rT",
        "colab_type": "text"
      },
      "source": [
        "## Follow Along"
      ]
    },
    {
      "cell_type": "markdown",
      "metadata": {
        "colab_type": "text",
        "id": "Mri5-kXzVKAa"
      },
      "source": [
        "## Batch Size\n",
        "\n",
        "Batch size determines how many observations the model is shown before it calculates loss/error and updates the model weights via gradient descent. You're looking for a sweet spot here where you're showing it enough observations that you have enough information to updates the weights, but not such a large batch size that you don't get a lot of weight update iterations performed in a given epoch. Feed-forward Neural Networks aren't as sensitive to bach_size as other networks, but it is still an important hyperparameter to tune. Smaller batch sizes will also take longer to train. \n",
        "\n",
        "Traditionally, batch size is set in powers of 2 starting at 32 up to 512. Keras defaults to a batch size of 32 if you do not specify it. Yann LeCun famously Twitted: \n",
        "\n",
        "> Training with large minibatches is bad for your health.\n",
        "More importantly, it's bad for your test error.\n",
        "Friends dont let friends use minibatches larger than 32.\n",
        "\n",
        "Check out this paper for more reference on his tweet. https://arxiv.org/abs/1804.07612. \n",
        "\n",
        "Check out this SO question on why batch size is typically set in powers of two: https://datascience.stackexchange.com/questions/20179/what-is-the-advantage-of-keeping-batch-size-a-power-of-2\n",
        "\n"
      ]
    },
    {
      "cell_type": "code",
      "metadata": {
        "colab_type": "code",
        "id": "2smXfriNAGn7",
        "colab": {
          "base_uri": "https://localhost:8080/",
          "height": 140
        },
        "outputId": "2fc2c655-b283-47a5-90fa-c87df9dc41aa"
      },
      "source": [
        "import numpy\n",
        "import pandas as pd\n",
        "from sklearn.model_selection import GridSearchCV\n",
        "from tensorflow.keras.models import Sequential\n",
        "from tensorflow.keras.layers import Dense\n",
        "from tensorflow.keras.wrappers.scikit_learn import KerasClassifier\n",
        "\n",
        "# fix random seed for reproducibility\n",
        "seed = 7\n",
        "numpy.random.seed(seed)\n",
        "\n",
        "# load dataset\n",
        "url =\"https://raw.githubusercontent.com/jbrownlee/Datasets/master/pima-indians-diabetes.data.csv\"\n",
        "\n",
        "dataset = pd.read_csv(url, header=None).values\n",
        "\n",
        "# split into input (X) and output (Y) variables\n",
        "X = dataset[:,0:8]\n",
        "Y = dataset[:,8]\n",
        "\n",
        "# Function to create model, required for KerasClassifier\n",
        "def create_model():\n",
        "    # create model\n",
        "    model = Sequential()\n",
        "    model.add(Dense(12, input_dim=8, activation='relu'))\n",
        "    model.add(Dense(1, activation='sigmoid'))\n",
        "    # Compile model\n",
        "    model.compile(loss='binary_crossentropy', optimizer='adam', metrics=['accuracy'])\n",
        "    return model\n",
        "\n",
        "# create model\n",
        "model = KerasClassifier(build_fn=create_model, verbose=0)\n",
        "\n",
        "# define the grid search parameters\n",
        "# batch_size = [10, 20, 40, 60, 80, 100]\n",
        "# param_grid = dict(batch_size=batch_size, epochs=epochs)\n",
        "\n",
        "# define the grid search parameters\n",
        "param_grid = {'batch_size': [10, 20, 40, 60, 80, 100],\n",
        "              'epochs': [20]}\n",
        "\n",
        "# Create Grid Search\n",
        "grid = GridSearchCV(estimator=model, param_grid=param_grid, n_jobs=1)\n",
        "grid_result = grid.fit(X, Y)\n",
        "\n",
        "# Report Results\n",
        "print(f\"Best: {grid_result.best_score_} using {grid_result.best_params_}\")\n",
        "means = grid_result.cv_results_['mean_test_score']\n",
        "stds = grid_result.cv_results_['std_test_score']\n",
        "params = grid_result.cv_results_['params']\n",
        "for mean, stdev, param in zip(means, stds, params):\n",
        "    print(f\"Means: {mean}, Stdev: {stdev} with: {param}\") "
      ],
      "execution_count": null,
      "outputs": [
        {
          "output_type": "stream",
          "text": [
            "Best: 0.6640353202819824 using {'batch_size': 10, 'epochs': 20}\n",
            "Means: 0.6640353202819824, Stdev: 0.02163808003014106 with: {'batch_size': 10, 'epochs': 20}\n",
            "Means: 0.5924030303955078, Stdev: 0.02809517761641496 with: {'batch_size': 20, 'epochs': 20}\n",
            "Means: 0.6392581343650818, Stdev: 0.035592062851777524 with: {'batch_size': 40, 'epochs': 20}\n",
            "Means: 0.6210169076919556, Stdev: 0.07449863853987253 with: {'batch_size': 60, 'epochs': 20}\n",
            "Means: 0.5714710175991058, Stdev: 0.0938954307481131 with: {'batch_size': 80, 'epochs': 20}\n",
            "Means: 0.6028690338134766, Stdev: 0.04440000336643938 with: {'batch_size': 100, 'epochs': 20}\n"
          ],
          "name": "stdout"
        }
      ]
    },
    {
      "cell_type": "markdown",
      "metadata": {
        "colab_type": "text",
        "id": "EKcuY6OiaLfz"
      },
      "source": [
        "## Optimizer\n",
        "\n",
        "Remember that there's a different optimizers [optimizers](https://keras.io/optimizers/). At some point, take some time to read up on them a little bit. \"adam\" usually gives the best results. The thing to know about choosing an optimizer is that different optimizers have different hyperparameters like learning rate, momentum, etc. So based on the optimizer you choose you might also have to tune the learning rate and momentum of those optimizers after that. "
      ]
    },
    {
      "cell_type": "markdown",
      "metadata": {
        "colab_type": "text",
        "id": "DG3wq5iOaLig"
      },
      "source": [
        "## Learning Rate\n",
        "\n",
        "Remember that the Learning Rate is a hyperparameter that is specific to your gradient-descent based optimizer selection. A learning rate that is too high will cause divergent behavior, but a Learning Rate that is too low will fail to converge, again, you're looking for the sweet spot. I would start out tuning learning rates by orders of magnitude: [.001, .01, .1, .2, .3, .5] etc. I wouldn't go above .5, but you can try it and see what the behavior is like. \n",
        "\n",
        "Once you have narrowed it down, make the window even smaller and try it again. If after running the above specification your model reports that .1 is the best optimizer, then you should probably try things like [.05, .08, .1, .12, .15] to try and narrow it down. \n",
        "\n",
        "It can also be good to tune the number of epochs in combination with the learning rate since the number of iterations that you allow the learning rate to reach the minimum can determine if you have let it run long enough to converge to the minimum. "
      ]
    },
    {
      "cell_type": "code",
      "metadata": {
        "id": "QLJaTm6NE-rY",
        "colab_type": "code",
        "colab": {
          "base_uri": "https://localhost:8080/",
          "height": 140
        },
        "outputId": "712f08c7-ef6a-4eca-9230-b6cea99119bf"
      },
      "source": [
        "from tensorflow.keras.optimizers import Adam\n",
        "\n",
        "# Function to create model, required for KerasClassifier\n",
        "def create_model(lr):\n",
        "    # create optimizer\n",
        "    adam = Adam(learning_rate=lr)\n",
        "    # create model\n",
        "    model = Sequential()\n",
        "    model.add(Dense(12, input_dim=8, activation='relu'))\n",
        "    model.add(Dense(1, activation='sigmoid'))\n",
        "    # Compile model\n",
        "    model.compile(loss='binary_crossentropy', optimizer='adam', metrics=['accuracy'])\n",
        "    return model\n",
        "\n",
        "# create model\n",
        "model = KerasClassifier(build_fn=create_model, verbose=0)\n",
        "\n",
        "# define the grid search parameters\n",
        "# batch_size = [10, 20, 40, 60, 80, 100]\n",
        "# param_grid = dict(batch_size=batch_size, epochs=epochs)\n",
        "\n",
        "# define the grid search parameters\n",
        "param_grid = {'lr': [.001, .01, .1, .2, .3, .5], \n",
        "              'batch_size': [10],\n",
        "              'epochs': [20]}\n",
        "\n",
        "# Create Grid Search\n",
        "grid = GridSearchCV(estimator=model, param_grid=param_grid, n_jobs=1)\n",
        "grid_result = grid.fit(X, Y)\n",
        "\n",
        "# Report Results\n",
        "print(f\"Best: {grid_result.best_score_} using {grid_result.best_params_}\")\n",
        "means = grid_result.cv_results_['mean_test_score']\n",
        "stds = grid_result.cv_results_['std_test_score']\n",
        "params = grid_result.cv_results_['params']\n",
        "for mean, stdev, param in zip(means, stds, params):\n",
        "    print(f\"Means: {mean}, Stdev: {stdev} with: {param}\") "
      ],
      "execution_count": null,
      "outputs": [
        {
          "output_type": "stream",
          "text": [
            "Best: 0.6732450604438782 using {'batch_size': 10, 'epochs': 20, 'lr': 0.01}\n",
            "Means: 0.6654188990592956, Stdev: 0.03259659365893253 with: {'batch_size': 10, 'epochs': 20, 'lr': 0.001}\n",
            "Means: 0.6732450604438782, Stdev: 0.03445865941841243 with: {'batch_size': 10, 'epochs': 20, 'lr': 0.01}\n",
            "Means: 0.6472965002059936, Stdev: 0.07299236069783364 with: {'batch_size': 10, 'epochs': 20, 'lr': 0.1}\n",
            "Means: 0.6432985305786133, Stdev: 0.042855658941839646 with: {'batch_size': 10, 'epochs': 20, 'lr': 0.2}\n",
            "Means: 0.6458110570907593, Stdev: 0.030055600339924778 with: {'batch_size': 10, 'epochs': 20, 'lr': 0.3}\n",
            "Means: 0.6654358744621277, Stdev: 0.023214948047639967 with: {'batch_size': 10, 'epochs': 20, 'lr': 0.5}\n"
          ],
          "name": "stdout"
        }
      ]
    },
    {
      "cell_type": "markdown",
      "metadata": {
        "colab_type": "text",
        "id": "gNTBUWd1aLlA"
      },
      "source": [
        "## Momentum\n",
        "\n",
        "Momentum is a hyperparameter that is more commonly associated with Stochastic Gradient Descent. SGD is a common optimizer because it's what people understand and know, but I doubt it will get you the best results, you can try hyperparameter tuning its attributes and see if you can beat the performance from adam. Momentum is a property that decides the willingness of an optimizer to overshoot the minimum. Imagine a ball rolling down one side of a bowl and then up the opposite side a little bit before settling back to the bottom. The purpose of momentum is to try and escale local minima."
      ]
    },
    {
      "cell_type": "markdown",
      "metadata": {
        "colab_type": "text",
        "id": "xnEG-bCJaLnZ"
      },
      "source": [
        "## Activation Functions\n",
        "\n",
        "We've talked about this a little bit, typically you'l want to use ReLU for hidden layers and either Sigmoid, or Softmax for output layers of binary and multi-class classification implementations respectively, but try other activation functions and see if you can get any better results with sigmoid or tanh or something. There are a lot of activation functions that we haven't really talked about. Maybe you'll get good results with them. Maybe you won't. :) <https://keras.io/activations/>"
      ]
    },
    {
      "cell_type": "markdown",
      "metadata": {
        "colab_type": "text",
        "id": "oul9sPq-dU-h"
      },
      "source": [
        "## Network Weight Initialization\n",
        "\n",
        "You saw how big of an effect the way that we initialize our network's weights can have on our results. There are **a lot** of what are called initialization modes. I don't understand all of them, but they can have a big affect on your model's initial accuracy. Your model will get further with less epochs if you initialize it with weights that are well suited to the problem you're trying to solve.\n",
        "\n",
        "`init_mode = ['uniform', 'lecun_uniform', 'normal', 'zero', 'glorot_normal', 'glorot_uniform', 'he_normal', 'he_uniform']`"
      ]
    },
    {
      "cell_type": "markdown",
      "metadata": {
        "colab_type": "text",
        "id": "bqtEuxeQaLqE"
      },
      "source": [
        "## Dropout Regularization and the Weight Constraint\n",
        "\n",
        "the Dropout Regularization value is a percentage of neurons that you want to be randomly deactivated during training. The weight constraint is a second regularization parameter that works in tandem with dropout regularization. You should tune these two values at the same time. \n",
        "\n",
        "Using dropout on visible vs hidden layers might have a different effect. Using dropout on hidden layers might not have any effect while using dropout on hidden layers might have a substantial effect. You don't necessarily need to turn use dropout unless you see that your model has overfitting and generalizability problems."
      ]
    },
    {
      "cell_type": "markdown",
      "metadata": {
        "colab_type": "text",
        "id": "P2c5Cv6oaLtO"
      },
      "source": [
        "## Neurons in Hidden Layer \n",
        "\n",
        "Remember that when we only had a single perceptron our model was only able to fit to linearly separable data, but as we have added layers and nodes to those layers our network has become a powerhouse of fitting nonlinearity in data. The larger the network and the more nodes generally the stronger the network's capacity to fit nonlinear patterns in data. The more nodes and layers the longer it will take to train a network, and higher the probability of overfitting. The larger your network gets the more you'll need dropout regularization or other regularization techniques to keep it in check. \n",
        "\n",
        "Typically depth (more layers) is more important than width (more nodes) for neural networks. This is part of why Deep Learning is so highly touted. Certain deep learning architectures have truly been huge breakthroughs for certain machine learning tasks. \n",
        "\n",
        "You might borrow ideas from other network architectures. For example if I was doing image recognition and I wasn't taking cues from state of the art architectures like resnet, alexnet, googlenet, etc. Then I'm probably going to have to do a lot more experimentation on my own before I find something that works.\n",
        "\n",
        "There are some heuristics, but I am highly skeptical of them. I think you're better off experimenting on your own and forming your own intuition for these kinds of problems. \n",
        "\n",
        "- https://machinelearningmastery.com/how-to-configure-the-number-of-layers-and-nodes-in-a-neural-network/"
      ]
    },
    {
      "cell_type": "markdown",
      "metadata": {
        "id": "Xoe0HIPdE-rd",
        "colab_type": "text"
      },
      "source": [
        "## Challenge\n",
        "You will be expected to tune several hyperparameters in today's module project. "
      ]
    },
    {
      "cell_type": "markdown",
      "metadata": {
        "id": "fEseAXTYE-rd",
        "colab_type": "text"
      },
      "source": [
        "# Experiment Tracking Framework (Learn)\n",
        "<a id=\"p2\"></a>"
      ]
    },
    {
      "cell_type": "markdown",
      "metadata": {
        "id": "YEtOeWcmE-re",
        "colab_type": "text"
      },
      "source": [
        "## Overview\n",
        "\n",
        "You will notice quickly that managing the results of all the experiments you are running becomes challenging. Which set of parameters did the best? Are my results today different than my results yesterday? Although we use Ipython Notebooks to work, the format is not well suited to logging experimental results. Enter experiment tracking frameworks like [Comet.ml](https://comet.ml) and [Weights and Biases](https://wandb.ai/).\n",
        "\n",
        "Those tools will help you track your experiments, store the results, and the code associated with those experiments. Experimental results can also be readily visualized to see changes in performance across any metric you care about. Data is sent to the tool as each epoch is completed, so you can also see if your model is converging. Let's check out Weights & Biases today. "
      ]
    },
    {
      "cell_type": "markdown",
      "metadata": {
        "id": "YSIJgEjtE-re",
        "colab_type": "text"
      },
      "source": [
        "## Follow Along\n",
        "\n",
        "Make sure you login into `wandb` in the terminal before running the next cell. "
      ]
    },
    {
      "cell_type": "code",
      "metadata": {
        "id": "edFJB_p5E-rf",
        "colab_type": "code",
        "colab": {}
      },
      "source": [
        "import wandb\n",
        "from wandb.keras import WandbCallback"
      ],
      "execution_count": null,
      "outputs": []
    },
    {
      "cell_type": "code",
      "metadata": {
        "id": "3B_Y1MIWqP1W",
        "colab_type": "code",
        "colab": {
          "base_uri": "https://localhost:8080/",
          "height": 35
        },
        "outputId": "370071c7-5c25-42f0-8ed0-1733db281163"
      },
      "source": [
        "wandb_project"
      ],
      "execution_count": null,
      "outputs": [
        {
          "output_type": "execute_result",
          "data": {
            "application/vnd.google.colaboratory.intrinsic+json": {
              "type": "string"
            },
            "text/plain": [
              "'dspt5-proj'"
            ]
          },
          "metadata": {
            "tags": []
          },
          "execution_count": 10
        }
      ]
    },
    {
      "cell_type": "code",
      "metadata": {
        "id": "jq6uE7IcqQx9",
        "colab_type": "code",
        "colab": {
          "base_uri": "https://localhost:8080/",
          "height": 35
        },
        "outputId": "5d6933f2-5f7b-4e71-a924-bf0849c4cad5"
      },
      "source": [
        "wandb_group"
      ],
      "execution_count": null,
      "outputs": [
        {
          "output_type": "execute_result",
          "data": {
            "application/vnd.google.colaboratory.intrinsic+json": {
              "type": "string"
            },
            "text/plain": [
              "'alexkim'"
            ]
          },
          "metadata": {
            "tags": []
          },
          "execution_count": 13
        }
      ]
    },
    {
      "cell_type": "code",
      "metadata": {
        "colab_type": "code",
        "id": "nGb5lkBlE-rh",
        "colab": {
          "base_uri": "https://localhost:8080/",
          "height": 1000
        },
        "outputId": "364f94ca-0678-44ae-b1b5-51bce082ab66"
      },
      "source": [
        "wandb.init(project=wandb_project, entity=wandb_group) #Initializes and Experiment\n",
        "\n",
        "# Important Hyperparameters\n",
        "X =  x_train\n",
        "y =  y_train\n",
        "\n",
        "inputs = X.shape[1]\n",
        "wandb.config.epochs = 50\n",
        "wandb.config.batch_size = 10\n",
        "wandb.config.n_neurons = 128\n",
        "# Create Model\n",
        "model = Sequential()\n",
        "model.add(Dense(wandb.config.n_neurons, activation='relu', input_shape=(inputs,)))\n",
        "model.add(Dense(wandb.config.n_neurons, activation='relu'))\n",
        "model.add(Dense(wandb.config.n_neurons, activation='relu'))\n",
        "model.add(Dense(1))\n",
        "# Compile Model\n",
        "model.compile(optimizer='adam', loss='mse', metrics=['mse', 'mae'])\n",
        "\n",
        "# Fit Model\n",
        "model.fit(X, y, \n",
        "          validation_split=0.33, \n",
        "          epochs=wandb.config.epochs, \n",
        "          batch_size=wandb.config.batch_size, \n",
        "          callbacks=[WandbCallback()]\n",
        "         )"
      ],
      "execution_count": null,
      "outputs": [
        {
          "output_type": "display_data",
          "data": {
            "text/html": [
              "\n",
              "                Logging results to <a href=\"https://wandb.com\" target=\"_blank\">Weights & Biases</a> <a href=\"https://docs.wandb.com/integrations/jupyter.html\" target=\"_blank\">(Documentation)</a>.<br/>\n",
              "                Project page: <a href=\"https://app.wandb.ai/alexkim/dspt5-proj\" target=\"_blank\">https://app.wandb.ai/alexkim/dspt5-proj</a><br/>\n",
              "                Run page: <a href=\"https://app.wandb.ai/alexkim/dspt5-proj/runs/26ud4rhx\" target=\"_blank\">https://app.wandb.ai/alexkim/dspt5-proj/runs/26ud4rhx</a><br/>\n",
              "            "
            ],
            "text/plain": [
              "<IPython.core.display.HTML object>"
            ]
          },
          "metadata": {
            "tags": []
          }
        },
        {
          "output_type": "stream",
          "text": [
            "Epoch 1/50\n",
            "27/27 [==============================] - 0s 11ms/step - loss: 381.3174 - mse: 381.3174 - mae: 17.2541 - val_loss: 158.6144 - val_mse: 158.6144 - val_mae: 9.9043\n",
            "Epoch 2/50\n",
            "27/27 [==============================] - 0s 9ms/step - loss: 64.4305 - mse: 64.4305 - mae: 5.9298 - val_loss: 62.1455 - val_mse: 62.1455 - val_mae: 5.4295\n",
            "Epoch 3/50\n",
            "27/27 [==============================] - 0s 6ms/step - loss: 26.2153 - mse: 26.2153 - mae: 3.6925 - val_loss: 32.9554 - val_mse: 32.9554 - val_mae: 3.8951\n",
            "Epoch 4/50\n",
            "27/27 [==============================] - 0s 6ms/step - loss: 18.1468 - mse: 18.1468 - mae: 3.0804 - val_loss: 31.6926 - val_mse: 31.6926 - val_mae: 3.6420\n",
            "Epoch 5/50\n",
            "27/27 [==============================] - 0s 5ms/step - loss: 15.0067 - mse: 15.0067 - mae: 2.8015 - val_loss: 23.4238 - val_mse: 23.4238 - val_mae: 3.0941\n",
            "Epoch 6/50\n",
            "27/27 [==============================] - 0s 6ms/step - loss: 12.4311 - mse: 12.4311 - mae: 2.5558 - val_loss: 21.4522 - val_mse: 21.4522 - val_mae: 2.9613\n",
            "Epoch 7/50\n",
            "27/27 [==============================] - 0s 5ms/step - loss: 11.7372 - mse: 11.7372 - mae: 2.4974 - val_loss: 22.0686 - val_mse: 22.0686 - val_mae: 3.1459\n",
            "Epoch 8/50\n",
            "27/27 [==============================] - 0s 6ms/step - loss: 10.7104 - mse: 10.7104 - mae: 2.4648 - val_loss: 19.3595 - val_mse: 19.3595 - val_mae: 2.8952\n",
            "Epoch 9/50\n",
            "27/27 [==============================] - 0s 5ms/step - loss: 9.2183 - mse: 9.2183 - mae: 2.2860 - val_loss: 20.1615 - val_mse: 20.1615 - val_mae: 2.9569\n",
            "Epoch 10/50\n",
            "27/27 [==============================] - 0s 6ms/step - loss: 8.6499 - mse: 8.6499 - mae: 2.1529 - val_loss: 18.2675 - val_mse: 18.2675 - val_mae: 2.7816\n",
            "Epoch 11/50\n",
            "27/27 [==============================] - 0s 4ms/step - loss: 8.2863 - mse: 8.2863 - mae: 2.1086 - val_loss: 18.8553 - val_mse: 18.8553 - val_mae: 2.8618\n",
            "Epoch 12/50\n",
            "27/27 [==============================] - 0s 5ms/step - loss: 8.3538 - mse: 8.3538 - mae: 2.2114 - val_loss: 16.4379 - val_mse: 16.4379 - val_mae: 2.6699\n",
            "Epoch 13/50\n",
            "27/27 [==============================] - 0s 4ms/step - loss: 7.3319 - mse: 7.3319 - mae: 2.0143 - val_loss: 16.8014 - val_mse: 16.8014 - val_mae: 2.7634\n",
            "Epoch 14/50\n",
            "27/27 [==============================] - 0s 5ms/step - loss: 6.5764 - mse: 6.5764 - mae: 1.8852 - val_loss: 16.1811 - val_mse: 16.1811 - val_mae: 2.6692\n",
            "Epoch 15/50\n",
            "27/27 [==============================] - 0s 5ms/step - loss: 7.2401 - mse: 7.2401 - mae: 2.0524 - val_loss: 15.9307 - val_mse: 15.9307 - val_mae: 2.6528\n",
            "Epoch 16/50\n",
            "27/27 [==============================] - 0s 5ms/step - loss: 6.4595 - mse: 6.4595 - mae: 1.8536 - val_loss: 17.0263 - val_mse: 17.0263 - val_mae: 2.7335\n",
            "Epoch 17/50\n",
            "27/27 [==============================] - 0s 6ms/step - loss: 6.1606 - mse: 6.1606 - mae: 1.8100 - val_loss: 15.7275 - val_mse: 15.7275 - val_mae: 2.5780\n",
            "Epoch 18/50\n",
            "27/27 [==============================] - 0s 5ms/step - loss: 6.1984 - mse: 6.1984 - mae: 1.8484 - val_loss: 16.2544 - val_mse: 16.2544 - val_mae: 2.7345\n",
            "Epoch 19/50\n",
            "27/27 [==============================] - 0s 6ms/step - loss: 5.9419 - mse: 5.9419 - mae: 1.7985 - val_loss: 15.2688 - val_mse: 15.2688 - val_mae: 2.6375\n",
            "Epoch 20/50\n",
            "27/27 [==============================] - 0s 6ms/step - loss: 5.6174 - mse: 5.6174 - mae: 1.7485 - val_loss: 14.5441 - val_mse: 14.5441 - val_mae: 2.5466\n",
            "Epoch 21/50\n",
            "27/27 [==============================] - 0s 4ms/step - loss: 5.5617 - mse: 5.5617 - mae: 1.7812 - val_loss: 17.2758 - val_mse: 17.2758 - val_mae: 2.8492\n",
            "Epoch 22/50\n",
            "27/27 [==============================] - 0s 5ms/step - loss: 6.0250 - mse: 6.0250 - mae: 1.8692 - val_loss: 16.4604 - val_mse: 16.4604 - val_mae: 2.8309\n",
            "Epoch 23/50\n",
            "27/27 [==============================] - 0s 4ms/step - loss: 4.8638 - mse: 4.8638 - mae: 1.6408 - val_loss: 14.7343 - val_mse: 14.7343 - val_mae: 2.5978\n",
            "Epoch 24/50\n",
            "27/27 [==============================] - 0s 5ms/step - loss: 5.0448 - mse: 5.0448 - mae: 1.6776 - val_loss: 14.9027 - val_mse: 14.9027 - val_mae: 2.5772\n",
            "Epoch 25/50\n",
            "27/27 [==============================] - 0s 4ms/step - loss: 4.8115 - mse: 4.8115 - mae: 1.6090 - val_loss: 14.9396 - val_mse: 14.9396 - val_mae: 2.5265\n",
            "Epoch 26/50\n",
            "27/27 [==============================] - 0s 4ms/step - loss: 4.7116 - mse: 4.7116 - mae: 1.5909 - val_loss: 15.3610 - val_mse: 15.3610 - val_mae: 2.6871\n",
            "Epoch 27/50\n",
            "27/27 [==============================] - 0s 5ms/step - loss: 4.7727 - mse: 4.7727 - mae: 1.6688 - val_loss: 14.2481 - val_mse: 14.2481 - val_mae: 2.5343\n",
            "Epoch 28/50\n",
            "27/27 [==============================] - 0s 4ms/step - loss: 3.9204 - mse: 3.9204 - mae: 1.4702 - val_loss: 14.8729 - val_mse: 14.8729 - val_mae: 2.6027\n",
            "Epoch 29/50\n",
            "27/27 [==============================] - 0s 6ms/step - loss: 4.3372 - mse: 4.3372 - mae: 1.6169 - val_loss: 13.7582 - val_mse: 13.7582 - val_mae: 2.4908\n",
            "Epoch 30/50\n",
            "27/27 [==============================] - 0s 5ms/step - loss: 4.1071 - mse: 4.1071 - mae: 1.5482 - val_loss: 14.9103 - val_mse: 14.9103 - val_mae: 2.6283\n",
            "Epoch 31/50\n",
            "27/27 [==============================] - 0s 4ms/step - loss: 3.9367 - mse: 3.9367 - mae: 1.4769 - val_loss: 14.3018 - val_mse: 14.3018 - val_mae: 2.5651\n",
            "Epoch 32/50\n",
            "27/27 [==============================] - 0s 4ms/step - loss: 3.9009 - mse: 3.9009 - mae: 1.4624 - val_loss: 14.3052 - val_mse: 14.3052 - val_mae: 2.5940\n",
            "Epoch 33/50\n",
            "27/27 [==============================] - 0s 4ms/step - loss: 4.1812 - mse: 4.1812 - mae: 1.5251 - val_loss: 15.1463 - val_mse: 15.1463 - val_mae: 2.6211\n",
            "Epoch 34/50\n",
            "27/27 [==============================] - 0s 4ms/step - loss: 3.9080 - mse: 3.9080 - mae: 1.4761 - val_loss: 15.4858 - val_mse: 15.4858 - val_mae: 2.6619\n",
            "Epoch 35/50\n",
            "27/27 [==============================] - 0s 6ms/step - loss: 3.8706 - mse: 3.8706 - mae: 1.4573 - val_loss: 13.4813 - val_mse: 13.4813 - val_mae: 2.4253\n",
            "Epoch 36/50\n",
            "27/27 [==============================] - 0s 5ms/step - loss: 3.5247 - mse: 3.5247 - mae: 1.4291 - val_loss: 14.1498 - val_mse: 14.1498 - val_mae: 2.5236\n",
            "Epoch 37/50\n",
            "27/27 [==============================] - 0s 4ms/step - loss: 3.3842 - mse: 3.3842 - mae: 1.4086 - val_loss: 14.2573 - val_mse: 14.2573 - val_mae: 2.5385\n",
            "Epoch 38/50\n",
            "27/27 [==============================] - 0s 5ms/step - loss: 3.1105 - mse: 3.1105 - mae: 1.3400 - val_loss: 13.5543 - val_mse: 13.5543 - val_mae: 2.4653\n",
            "Epoch 39/50\n",
            "27/27 [==============================] - 0s 5ms/step - loss: 3.1271 - mse: 3.1271 - mae: 1.3613 - val_loss: 14.8235 - val_mse: 14.8235 - val_mae: 2.5391\n",
            "Epoch 40/50\n",
            "27/27 [==============================] - 0s 5ms/step - loss: 2.9909 - mse: 2.9909 - mae: 1.2961 - val_loss: 13.1195 - val_mse: 13.1195 - val_mae: 2.4101\n",
            "Epoch 41/50\n",
            "27/27 [==============================] - 0s 5ms/step - loss: 3.2858 - mse: 3.2858 - mae: 1.3833 - val_loss: 13.8250 - val_mse: 13.8250 - val_mae: 2.5414\n",
            "Epoch 42/50\n",
            "27/27 [==============================] - 0s 5ms/step - loss: 3.0877 - mse: 3.0877 - mae: 1.3402 - val_loss: 13.5586 - val_mse: 13.5586 - val_mae: 2.5366\n",
            "Epoch 43/50\n",
            "27/27 [==============================] - 0s 4ms/step - loss: 3.0150 - mse: 3.0150 - mae: 1.3279 - val_loss: 13.7284 - val_mse: 13.7284 - val_mae: 2.5006\n",
            "Epoch 44/50\n",
            "27/27 [==============================] - 0s 4ms/step - loss: 2.7770 - mse: 2.7770 - mae: 1.2259 - val_loss: 13.4285 - val_mse: 13.4285 - val_mae: 2.3920\n",
            "Epoch 45/50\n",
            "27/27 [==============================] - 0s 5ms/step - loss: 2.6519 - mse: 2.6519 - mae: 1.2581 - val_loss: 13.3407 - val_mse: 13.3407 - val_mae: 2.4980\n",
            "Epoch 46/50\n",
            "27/27 [==============================] - 0s 5ms/step - loss: 2.6949 - mse: 2.6949 - mae: 1.2491 - val_loss: 14.4075 - val_mse: 14.4075 - val_mae: 2.5405\n",
            "Epoch 47/50\n",
            "27/27 [==============================] - 0s 5ms/step - loss: 3.1075 - mse: 3.1075 - mae: 1.3767 - val_loss: 14.7158 - val_mse: 14.7158 - val_mae: 2.6569\n",
            "Epoch 48/50\n",
            "27/27 [==============================] - 0s 6ms/step - loss: 2.5745 - mse: 2.5745 - mae: 1.2101 - val_loss: 12.4673 - val_mse: 12.4673 - val_mae: 2.3820\n",
            "Epoch 49/50\n",
            "27/27 [==============================] - 0s 5ms/step - loss: 2.4992 - mse: 2.4992 - mae: 1.1890 - val_loss: 13.5058 - val_mse: 13.5058 - val_mae: 2.4565\n",
            "Epoch 50/50\n",
            "27/27 [==============================] - 0s 4ms/step - loss: 2.2060 - mse: 2.2060 - mae: 1.0885 - val_loss: 13.1278 - val_mse: 13.1278 - val_mae: 2.4356\n"
          ],
          "name": "stdout"
        },
        {
          "output_type": "execute_result",
          "data": {
            "text/plain": [
              "<tensorflow.python.keras.callbacks.History at 0x7efd2d264cc0>"
            ]
          },
          "metadata": {
            "tags": []
          },
          "execution_count": 17
        }
      ]
    },
    {
      "cell_type": "markdown",
      "metadata": {
        "id": "CIMyIiuTE-rj",
        "colab_type": "text"
      },
      "source": [
        "### Your Turn\n",
        "\n",
        "Pick a few hyparameters that we *have not* tuned. Using the same code above, try changing a few parameters you're interested in and submitting the results to weights & biases. :) "
      ]
    },
    {
      "cell_type": "code",
      "metadata": {
        "id": "23uB2k8mE-rk",
        "colab_type": "code",
        "colab": {
          "base_uri": "https://localhost:8080/",
          "height": 1000
        },
        "outputId": "4833f8a6-435f-4a94-c2cb-d40927f6efad"
      },
      "source": [
        "from tensorflow.keras import regularizers\n",
        "from tensorflow.keras.layers import Dropout\n",
        "wandb.init(project=wandb_project, entity=wandb_group) #Initializes and Experiment\n",
        "\n",
        "\n",
        "wandb.config.epochs = 100\n",
        "wandb.config.batch_size = 10\n",
        "wandb.config.n_neurons = 128\n",
        "wandb.config.l1_reg = 1e-5\n",
        "wandb.config.l2_reg = 1e-4\n",
        "# Create Model\n",
        "model = Sequential()\n",
        "model.add(Dense(wandb.config.n_neurons, \n",
        "                kernel_regularizer=regularizers.l1_l2(l1=wandb.config.l1_reg, l2=wandb.config.l2_reg),\n",
        "                activation='relu', \n",
        "                input_shape=(inputs,)))\n",
        "model.add(Dense(wandb.config.n_neurons, \n",
        "                kernel_regularizer=regularizers.l1_l2(l1=wandb.config.l1_reg, l2=wandb.config.l2_reg),\n",
        "                activation='relu'))\n",
        "model.add(Dropout(0.1))\n",
        "model.add(Dense(wandb.config.n_neurons, \n",
        "                kernel_regularizer=regularizers.l1_l2(l1=wandb.config.l1_reg, l2=wandb.config.l2_reg),\n",
        "                activation='relu'))\n",
        "model.add(Dense(1))\n",
        "# Compile Model\n",
        "model.compile(optimizer='adam', loss='mse', metrics=['mse', 'mae'])\n",
        "\n",
        "# Fit Model\n",
        "model.fit(X, y, \n",
        "          validation_split=0.33, \n",
        "          epochs=wandb.config.epochs, \n",
        "          batch_size=wandb.config.batch_size, \n",
        "          callbacks=[WandbCallback()]\n",
        "         )"
      ],
      "execution_count": null,
      "outputs": [
        {
          "output_type": "display_data",
          "data": {
            "text/html": [
              "\n",
              "                Logging results to <a href=\"https://wandb.com\" target=\"_blank\">Weights & Biases</a> <a href=\"https://docs.wandb.com/integrations/jupyter.html\" target=\"_blank\">(Documentation)</a>.<br/>\n",
              "                Project page: <a href=\"https://app.wandb.ai/alexkim/dspt5-proj\" target=\"_blank\">https://app.wandb.ai/alexkim/dspt5-proj</a><br/>\n",
              "                Run page: <a href=\"https://app.wandb.ai/alexkim/dspt5-proj/runs/kxo6wv1a\" target=\"_blank\">https://app.wandb.ai/alexkim/dspt5-proj/runs/kxo6wv1a</a><br/>\n",
              "            "
            ],
            "text/plain": [
              "<IPython.core.display.HTML object>"
            ]
          },
          "metadata": {
            "tags": []
          }
        },
        {
          "output_type": "stream",
          "text": [
            "Epoch 1/100\n",
            "27/27 [==============================] - 0s 13ms/step - loss: 406.0036 - mse: 405.9490 - mae: 18.1491 - val_loss: 217.7262 - val_mse: 217.6706 - val_mae: 12.1658\n",
            "Epoch 2/100\n",
            "27/27 [==============================] - 0s 7ms/step - loss: 73.7108 - mse: 73.6543 - mae: 6.4165 - val_loss: 51.7609 - val_mse: 51.7046 - val_mae: 5.2814\n",
            "Epoch 3/100\n",
            "27/27 [==============================] - 0s 6ms/step - loss: 25.2651 - mse: 25.2086 - mae: 3.7110 - val_loss: 28.1360 - val_mse: 28.0793 - val_mae: 3.5957\n",
            "Epoch 4/100\n",
            "27/27 [==============================] - 0s 6ms/step - loss: 19.5348 - mse: 19.4782 - mae: 3.2168 - val_loss: 23.3880 - val_mse: 23.3313 - val_mae: 3.1755\n",
            "Epoch 5/100\n",
            "27/27 [==============================] - 0s 6ms/step - loss: 15.6746 - mse: 15.6181 - mae: 2.8528 - val_loss: 21.9844 - val_mse: 21.9277 - val_mae: 3.0444\n",
            "Epoch 6/100\n",
            "27/27 [==============================] - 0s 6ms/step - loss: 13.2316 - mse: 13.1749 - mae: 2.6983 - val_loss: 20.8042 - val_mse: 20.7475 - val_mae: 2.9625\n",
            "Epoch 7/100\n",
            "27/27 [==============================] - 0s 6ms/step - loss: 12.6339 - mse: 12.5773 - mae: 2.6569 - val_loss: 19.6381 - val_mse: 19.5814 - val_mae: 2.9502\n",
            "Epoch 8/100\n",
            "27/27 [==============================] - 0s 5ms/step - loss: 12.9563 - mse: 12.8995 - mae: 2.6999 - val_loss: 20.8232 - val_mse: 20.7664 - val_mae: 3.0731\n",
            "Epoch 9/100\n",
            "27/27 [==============================] - 0s 6ms/step - loss: 11.5126 - mse: 11.4558 - mae: 2.5399 - val_loss: 17.8222 - val_mse: 17.7652 - val_mae: 2.8471\n",
            "Epoch 10/100\n",
            "27/27 [==============================] - 0s 5ms/step - loss: 10.7312 - mse: 10.6743 - mae: 2.5456 - val_loss: 18.8504 - val_mse: 18.7935 - val_mae: 2.9637\n",
            "Epoch 11/100\n",
            "27/27 [==============================] - 0s 5ms/step - loss: 9.5339 - mse: 9.4770 - mae: 2.2838 - val_loss: 18.2078 - val_mse: 18.1507 - val_mae: 2.9308\n",
            "Epoch 12/100\n",
            "27/27 [==============================] - 0s 6ms/step - loss: 10.5920 - mse: 10.5350 - mae: 2.4656 - val_loss: 16.9163 - val_mse: 16.8593 - val_mae: 2.7475\n",
            "Epoch 13/100\n",
            "27/27 [==============================] - 0s 5ms/step - loss: 9.1411 - mse: 9.0840 - mae: 2.1761 - val_loss: 16.3629 - val_mse: 16.3057 - val_mae: 2.7227\n",
            "Epoch 14/100\n",
            "27/27 [==============================] - 0s 5ms/step - loss: 9.1330 - mse: 9.0758 - mae: 2.2527 - val_loss: 19.6189 - val_mse: 19.5617 - val_mae: 3.0305\n",
            "Epoch 15/100\n",
            "27/27 [==============================] - 0s 6ms/step - loss: 9.8414 - mse: 9.7841 - mae: 2.4078 - val_loss: 15.8475 - val_mse: 15.7902 - val_mae: 2.7247\n",
            "Epoch 16/100\n",
            "27/27 [==============================] - 0s 5ms/step - loss: 9.4518 - mse: 9.3944 - mae: 2.3133 - val_loss: 18.0361 - val_mse: 17.9788 - val_mae: 2.9297\n",
            "Epoch 17/100\n",
            "27/27 [==============================] - 0s 6ms/step - loss: 8.4755 - mse: 8.4180 - mae: 2.1480 - val_loss: 15.5390 - val_mse: 15.4814 - val_mae: 2.6319\n",
            "Epoch 18/100\n",
            "27/27 [==============================] - 0s 5ms/step - loss: 8.7466 - mse: 8.6890 - mae: 2.1571 - val_loss: 16.9998 - val_mse: 16.9421 - val_mae: 2.8484\n",
            "Epoch 19/100\n",
            "27/27 [==============================] - 0s 6ms/step - loss: 8.3212 - mse: 8.2636 - mae: 2.1504 - val_loss: 15.4428 - val_mse: 15.3851 - val_mae: 2.6529\n",
            "Epoch 20/100\n",
            "27/27 [==============================] - 0s 5ms/step - loss: 7.3988 - mse: 7.3410 - mae: 2.0053 - val_loss: 15.6128 - val_mse: 15.5550 - val_mae: 2.6735\n",
            "Epoch 21/100\n",
            "27/27 [==============================] - 0s 7ms/step - loss: 6.7343 - mse: 6.6764 - mae: 1.9790 - val_loss: 15.3037 - val_mse: 15.2458 - val_mae: 2.6182\n",
            "Epoch 22/100\n",
            "27/27 [==============================] - 0s 6ms/step - loss: 6.3973 - mse: 6.3393 - mae: 1.8666 - val_loss: 14.9192 - val_mse: 14.8611 - val_mae: 2.5853\n",
            "Epoch 23/100\n",
            "27/27 [==============================] - 0s 5ms/step - loss: 6.7000 - mse: 6.6420 - mae: 1.9235 - val_loss: 15.9499 - val_mse: 15.8919 - val_mae: 2.7234\n",
            "Epoch 24/100\n",
            "27/27 [==============================] - 0s 5ms/step - loss: 7.6205 - mse: 7.5623 - mae: 2.0408 - val_loss: 16.0300 - val_mse: 15.9717 - val_mae: 2.6900\n",
            "Epoch 25/100\n",
            "27/27 [==============================] - 0s 5ms/step - loss: 6.5188 - mse: 6.4605 - mae: 1.9317 - val_loss: 16.5672 - val_mse: 16.5089 - val_mae: 2.7595\n",
            "Epoch 26/100\n",
            "27/27 [==============================] - 0s 5ms/step - loss: 7.0414 - mse: 6.9830 - mae: 1.9238 - val_loss: 15.3904 - val_mse: 15.3320 - val_mae: 2.6496\n",
            "Epoch 27/100\n",
            "27/27 [==============================] - 0s 4ms/step - loss: 6.8542 - mse: 6.7957 - mae: 1.9450 - val_loss: 15.2735 - val_mse: 15.2151 - val_mae: 2.6375\n",
            "Epoch 28/100\n",
            "27/27 [==============================] - 0s 6ms/step - loss: 5.3590 - mse: 5.3005 - mae: 1.6618 - val_loss: 14.5375 - val_mse: 14.4789 - val_mae: 2.5367\n",
            "Epoch 29/100\n",
            "27/27 [==============================] - 0s 5ms/step - loss: 5.1002 - mse: 5.0415 - mae: 1.7276 - val_loss: 14.7824 - val_mse: 14.7237 - val_mae: 2.5623\n",
            "Epoch 30/100\n",
            "27/27 [==============================] - 0s 4ms/step - loss: 6.6170 - mse: 6.5582 - mae: 1.8919 - val_loss: 15.2596 - val_mse: 15.2008 - val_mae: 2.6856\n",
            "Epoch 31/100\n",
            "27/27 [==============================] - 0s 5ms/step - loss: 6.6809 - mse: 6.6220 - mae: 1.9643 - val_loss: 16.0177 - val_mse: 15.9587 - val_mae: 2.6670\n",
            "Epoch 32/100\n",
            "27/27 [==============================] - 0s 4ms/step - loss: 6.2024 - mse: 6.1433 - mae: 1.8353 - val_loss: 18.1313 - val_mse: 18.0724 - val_mae: 2.9139\n",
            "Epoch 33/100\n",
            "27/27 [==============================] - 0s 5ms/step - loss: 5.8238 - mse: 5.7647 - mae: 1.7853 - val_loss: 15.1963 - val_mse: 15.1372 - val_mae: 2.5920\n",
            "Epoch 34/100\n",
            "27/27 [==============================] - 0s 4ms/step - loss: 5.0419 - mse: 4.9828 - mae: 1.6682 - val_loss: 15.1677 - val_mse: 15.1084 - val_mae: 2.6592\n",
            "Epoch 35/100\n",
            "27/27 [==============================] - 0s 5ms/step - loss: 5.4037 - mse: 5.3444 - mae: 1.7198 - val_loss: 14.9082 - val_mse: 14.8489 - val_mae: 2.5781\n",
            "Epoch 36/100\n",
            "27/27 [==============================] - 0s 5ms/step - loss: 5.2535 - mse: 5.1941 - mae: 1.7471 - val_loss: 13.8601 - val_mse: 13.8006 - val_mae: 2.4413\n",
            "Epoch 37/100\n",
            "27/27 [==============================] - 0s 5ms/step - loss: 4.6861 - mse: 4.6267 - mae: 1.6485 - val_loss: 14.4509 - val_mse: 14.3914 - val_mae: 2.4816\n",
            "Epoch 38/100\n",
            "27/27 [==============================] - 0s 5ms/step - loss: 5.3441 - mse: 5.2847 - mae: 1.7093 - val_loss: 15.5457 - val_mse: 15.4862 - val_mae: 2.5894\n",
            "Epoch 39/100\n",
            "27/27 [==============================] - 0s 5ms/step - loss: 5.3043 - mse: 5.2448 - mae: 1.7296 - val_loss: 15.1952 - val_mse: 15.1356 - val_mae: 2.6200\n",
            "Epoch 40/100\n",
            "27/27 [==============================] - 0s 4ms/step - loss: 5.2491 - mse: 5.1893 - mae: 1.7511 - val_loss: 15.0934 - val_mse: 15.0336 - val_mae: 2.6127\n",
            "Epoch 41/100\n",
            "27/27 [==============================] - 0s 5ms/step - loss: 5.6188 - mse: 5.5590 - mae: 1.6242 - val_loss: 13.8347 - val_mse: 13.7748 - val_mae: 2.4491\n",
            "Epoch 42/100\n",
            "27/27 [==============================] - 0s 5ms/step - loss: 4.6642 - mse: 4.6043 - mae: 1.6078 - val_loss: 14.0690 - val_mse: 14.0090 - val_mae: 2.5566\n",
            "Epoch 43/100\n",
            "27/27 [==============================] - 0s 5ms/step - loss: 5.1232 - mse: 5.0633 - mae: 1.7096 - val_loss: 14.4330 - val_mse: 14.3730 - val_mae: 2.4990\n",
            "Epoch 44/100\n",
            "27/27 [==============================] - 0s 5ms/step - loss: 4.7948 - mse: 4.7348 - mae: 1.6292 - val_loss: 15.9800 - val_mse: 15.9200 - val_mae: 2.6779\n",
            "Epoch 45/100\n",
            "27/27 [==============================] - 0s 4ms/step - loss: 5.0185 - mse: 4.9584 - mae: 1.6860 - val_loss: 14.1817 - val_mse: 14.1215 - val_mae: 2.4564\n",
            "Epoch 46/100\n",
            "27/27 [==============================] - 0s 5ms/step - loss: 4.4523 - mse: 4.3921 - mae: 1.6010 - val_loss: 13.8807 - val_mse: 13.8205 - val_mae: 2.4424\n",
            "Epoch 47/100\n",
            "27/27 [==============================] - 0s 4ms/step - loss: 4.4442 - mse: 4.3839 - mae: 1.4939 - val_loss: 14.0171 - val_mse: 13.9567 - val_mae: 2.4666\n",
            "Epoch 48/100\n",
            "27/27 [==============================] - 0s 5ms/step - loss: 4.1944 - mse: 4.1339 - mae: 1.5663 - val_loss: 14.7744 - val_mse: 14.7140 - val_mae: 2.5700\n",
            "Epoch 49/100\n",
            "27/27 [==============================] - 0s 5ms/step - loss: 4.6316 - mse: 4.5710 - mae: 1.6498 - val_loss: 14.1158 - val_mse: 14.0552 - val_mae: 2.4742\n",
            "Epoch 50/100\n",
            "27/27 [==============================] - 0s 5ms/step - loss: 4.2553 - mse: 4.1947 - mae: 1.5671 - val_loss: 15.4892 - val_mse: 15.4285 - val_mae: 2.6414\n",
            "Epoch 51/100\n",
            "27/27 [==============================] - 0s 6ms/step - loss: 4.5234 - mse: 4.4627 - mae: 1.6312 - val_loss: 13.7511 - val_mse: 13.6904 - val_mae: 2.4883\n",
            "Epoch 52/100\n",
            "27/27 [==============================] - 0s 6ms/step - loss: 4.3229 - mse: 4.2621 - mae: 1.5215 - val_loss: 13.0960 - val_mse: 13.0351 - val_mae: 2.4797\n",
            "Epoch 53/100\n",
            "27/27 [==============================] - 0s 5ms/step - loss: 4.2748 - mse: 4.2139 - mae: 1.5509 - val_loss: 14.5429 - val_mse: 14.4820 - val_mae: 2.5343\n",
            "Epoch 54/100\n",
            "27/27 [==============================] - 0s 4ms/step - loss: 4.1461 - mse: 4.0851 - mae: 1.5427 - val_loss: 15.0308 - val_mse: 14.9697 - val_mae: 2.5733\n",
            "Epoch 55/100\n",
            "27/27 [==============================] - 0s 5ms/step - loss: 4.3874 - mse: 4.3262 - mae: 1.5658 - val_loss: 13.9616 - val_mse: 13.9003 - val_mae: 2.5812\n",
            "Epoch 56/100\n",
            "27/27 [==============================] - 0s 5ms/step - loss: 3.5556 - mse: 3.4943 - mae: 1.3920 - val_loss: 14.5942 - val_mse: 14.5329 - val_mae: 2.5482\n",
            "Epoch 57/100\n",
            "27/27 [==============================] - 0s 5ms/step - loss: 3.8709 - mse: 3.8095 - mae: 1.4581 - val_loss: 14.8912 - val_mse: 14.8298 - val_mae: 2.5488\n",
            "Epoch 58/100\n",
            "27/27 [==============================] - 0s 5ms/step - loss: 3.6734 - mse: 3.6120 - mae: 1.4495 - val_loss: 14.0780 - val_mse: 14.0166 - val_mae: 2.4381\n",
            "Epoch 59/100\n",
            "27/27 [==============================] - 0s 5ms/step - loss: 3.8901 - mse: 3.8285 - mae: 1.4998 - val_loss: 15.3387 - val_mse: 15.2771 - val_mae: 2.5244\n",
            "Epoch 60/100\n",
            "27/27 [==============================] - 0s 5ms/step - loss: 4.0416 - mse: 3.9800 - mae: 1.4857 - val_loss: 13.6587 - val_mse: 13.5970 - val_mae: 2.4732\n",
            "Epoch 61/100\n",
            "27/27 [==============================] - 0s 5ms/step - loss: 4.1097 - mse: 4.0481 - mae: 1.5439 - val_loss: 15.9451 - val_mse: 15.8833 - val_mae: 2.5908\n",
            "Epoch 62/100\n",
            "27/27 [==============================] - 0s 5ms/step - loss: 4.2556 - mse: 4.1939 - mae: 1.5544 - val_loss: 13.9538 - val_mse: 13.8920 - val_mae: 2.4388\n",
            "Epoch 63/100\n",
            "27/27 [==============================] - 0s 4ms/step - loss: 3.1591 - mse: 3.0972 - mae: 1.3965 - val_loss: 14.1082 - val_mse: 14.0462 - val_mae: 2.5193\n",
            "Epoch 64/100\n",
            "27/27 [==============================] - 0s 5ms/step - loss: 3.6910 - mse: 3.6290 - mae: 1.4138 - val_loss: 14.4238 - val_mse: 14.3618 - val_mae: 2.5232\n",
            "Epoch 65/100\n",
            "27/27 [==============================] - 0s 4ms/step - loss: 3.7341 - mse: 3.6720 - mae: 1.5035 - val_loss: 14.7982 - val_mse: 14.7362 - val_mae: 2.5674\n",
            "Epoch 66/100\n",
            "27/27 [==============================] - 0s 5ms/step - loss: 3.7268 - mse: 3.6646 - mae: 1.3971 - val_loss: 14.8548 - val_mse: 14.7927 - val_mae: 2.6083\n",
            "Epoch 67/100\n",
            "27/27 [==============================] - 0s 5ms/step - loss: 3.4236 - mse: 3.3614 - mae: 1.4212 - val_loss: 13.7032 - val_mse: 13.6409 - val_mae: 2.4389\n",
            "Epoch 68/100\n",
            "27/27 [==============================] - 0s 5ms/step - loss: 3.7805 - mse: 3.7182 - mae: 1.4500 - val_loss: 13.4969 - val_mse: 13.4345 - val_mae: 2.4146\n",
            "Epoch 69/100\n",
            "27/27 [==============================] - 0s 5ms/step - loss: 3.3369 - mse: 3.2745 - mae: 1.3879 - val_loss: 12.9820 - val_mse: 12.9196 - val_mae: 2.3914\n",
            "Epoch 70/100\n",
            "27/27 [==============================] - 0s 5ms/step - loss: 2.9958 - mse: 2.9334 - mae: 1.2987 - val_loss: 14.2078 - val_mse: 14.1454 - val_mae: 2.4579\n",
            "Epoch 71/100\n",
            "27/27 [==============================] - 0s 5ms/step - loss: 3.3996 - mse: 3.3371 - mae: 1.4009 - val_loss: 14.2016 - val_mse: 14.1390 - val_mae: 2.5204\n",
            "Epoch 72/100\n",
            "27/27 [==============================] - 0s 5ms/step - loss: 3.1510 - mse: 3.0884 - mae: 1.3359 - val_loss: 15.6859 - val_mse: 15.6233 - val_mae: 2.6007\n",
            "Epoch 73/100\n",
            "27/27 [==============================] - 0s 5ms/step - loss: 4.0651 - mse: 4.0025 - mae: 1.4956 - val_loss: 16.1799 - val_mse: 16.1173 - val_mae: 2.6325\n",
            "Epoch 74/100\n",
            "27/27 [==============================] - 0s 4ms/step - loss: 4.1068 - mse: 4.0441 - mae: 1.6149 - val_loss: 16.0709 - val_mse: 16.0080 - val_mae: 2.7271\n",
            "Epoch 75/100\n",
            "27/27 [==============================] - 0s 4ms/step - loss: 4.5156 - mse: 4.4528 - mae: 1.6014 - val_loss: 14.1587 - val_mse: 14.0958 - val_mae: 2.4891\n",
            "Epoch 76/100\n",
            "27/27 [==============================] - 0s 5ms/step - loss: 3.8955 - mse: 3.8327 - mae: 1.4599 - val_loss: 14.2781 - val_mse: 14.2152 - val_mae: 2.5188\n",
            "Epoch 77/100\n",
            "27/27 [==============================] - 0s 4ms/step - loss: 3.2919 - mse: 3.2290 - mae: 1.3680 - val_loss: 16.7012 - val_mse: 16.6383 - val_mae: 2.6468\n",
            "Epoch 78/100\n",
            "27/27 [==============================] - 0s 4ms/step - loss: 3.1461 - mse: 3.0832 - mae: 1.3511 - val_loss: 14.2402 - val_mse: 14.1773 - val_mae: 2.4081\n",
            "Epoch 79/100\n",
            "27/27 [==============================] - 0s 5ms/step - loss: 2.7070 - mse: 2.6441 - mae: 1.2530 - val_loss: 14.8126 - val_mse: 14.7497 - val_mae: 2.5812\n",
            "Epoch 80/100\n",
            "27/27 [==============================] - 0s 4ms/step - loss: 3.5160 - mse: 3.4529 - mae: 1.3730 - val_loss: 14.0384 - val_mse: 13.9752 - val_mae: 2.4466\n",
            "Epoch 81/100\n",
            "27/27 [==============================] - 0s 5ms/step - loss: 2.8686 - mse: 2.8054 - mae: 1.3096 - val_loss: 13.3955 - val_mse: 13.3323 - val_mae: 2.3827\n",
            "Epoch 82/100\n",
            "27/27 [==============================] - 0s 5ms/step - loss: 3.0968 - mse: 3.0336 - mae: 1.2779 - val_loss: 14.0954 - val_mse: 14.0321 - val_mae: 2.4584\n",
            "Epoch 83/100\n",
            "27/27 [==============================] - 0s 4ms/step - loss: 2.6203 - mse: 2.5570 - mae: 1.2195 - val_loss: 14.5000 - val_mse: 14.4367 - val_mae: 2.3823\n",
            "Epoch 84/100\n",
            "27/27 [==============================] - 0s 5ms/step - loss: 2.5936 - mse: 2.5302 - mae: 1.2045 - val_loss: 14.1720 - val_mse: 14.1086 - val_mae: 2.4485\n",
            "Epoch 85/100\n",
            "27/27 [==============================] - 0s 4ms/step - loss: 2.3575 - mse: 2.2941 - mae: 1.1925 - val_loss: 14.2824 - val_mse: 14.2190 - val_mae: 2.4000\n",
            "Epoch 86/100\n",
            "27/27 [==============================] - 0s 4ms/step - loss: 2.9471 - mse: 2.8837 - mae: 1.2678 - val_loss: 15.0470 - val_mse: 14.9836 - val_mae: 2.5222\n",
            "Epoch 87/100\n",
            "27/27 [==============================] - 0s 5ms/step - loss: 3.2981 - mse: 3.2347 - mae: 1.3432 - val_loss: 14.0667 - val_mse: 14.0031 - val_mae: 2.4927\n",
            "Epoch 88/100\n",
            "27/27 [==============================] - 0s 4ms/step - loss: 2.6898 - mse: 2.6262 - mae: 1.2102 - val_loss: 14.5613 - val_mse: 14.4977 - val_mae: 2.4166\n",
            "Epoch 89/100\n",
            "27/27 [==============================] - 0s 4ms/step - loss: 2.8157 - mse: 2.7520 - mae: 1.2349 - val_loss: 13.9996 - val_mse: 13.9358 - val_mae: 2.4669\n",
            "Epoch 90/100\n",
            "27/27 [==============================] - 0s 5ms/step - loss: 3.5209 - mse: 3.4571 - mae: 1.4261 - val_loss: 13.2071 - val_mse: 13.1432 - val_mae: 2.4099\n",
            "Epoch 91/100\n",
            "27/27 [==============================] - 0s 5ms/step - loss: 3.1130 - mse: 3.0492 - mae: 1.2972 - val_loss: 14.6939 - val_mse: 14.6301 - val_mae: 2.4810\n",
            "Epoch 92/100\n",
            "27/27 [==============================] - 0s 4ms/step - loss: 2.6150 - mse: 2.5512 - mae: 1.2410 - val_loss: 14.3136 - val_mse: 14.2497 - val_mae: 2.4223\n",
            "Epoch 93/100\n",
            "27/27 [==============================] - 0s 5ms/step - loss: 2.8754 - mse: 2.8116 - mae: 1.2895 - val_loss: 14.7603 - val_mse: 14.6965 - val_mae: 2.4527\n",
            "Epoch 94/100\n",
            "27/27 [==============================] - 0s 5ms/step - loss: 2.5615 - mse: 2.4976 - mae: 1.1906 - val_loss: 14.5912 - val_mse: 14.5273 - val_mae: 2.4730\n",
            "Epoch 95/100\n",
            "27/27 [==============================] - 0s 5ms/step - loss: 3.4135 - mse: 3.3496 - mae: 1.3457 - val_loss: 15.7767 - val_mse: 15.7127 - val_mae: 2.6796\n",
            "Epoch 96/100\n",
            "27/27 [==============================] - 0s 5ms/step - loss: 2.6847 - mse: 2.6208 - mae: 1.3005 - val_loss: 15.3056 - val_mse: 15.2417 - val_mae: 2.5545\n",
            "Epoch 97/100\n",
            "27/27 [==============================] - 0s 4ms/step - loss: 2.3285 - mse: 2.2646 - mae: 1.1476 - val_loss: 13.6642 - val_mse: 13.6001 - val_mae: 2.4365\n",
            "Epoch 98/100\n",
            "27/27 [==============================] - 0s 5ms/step - loss: 2.7422 - mse: 2.6782 - mae: 1.2572 - val_loss: 15.3531 - val_mse: 15.2890 - val_mae: 2.5260\n",
            "Epoch 99/100\n",
            "27/27 [==============================] - 0s 4ms/step - loss: 2.8188 - mse: 2.7548 - mae: 1.2501 - val_loss: 14.0331 - val_mse: 13.9690 - val_mae: 2.5088\n",
            "Epoch 100/100\n",
            "27/27 [==============================] - 0s 5ms/step - loss: 3.1898 - mse: 3.1256 - mae: 1.3570 - val_loss: 14.9530 - val_mse: 14.8888 - val_mae: 2.5150\n"
          ],
          "name": "stdout"
        },
        {
          "output_type": "execute_result",
          "data": {
            "text/plain": [
              "<tensorflow.python.keras.callbacks.History at 0x7efd2fadceb8>"
            ]
          },
          "metadata": {
            "tags": []
          },
          "execution_count": 20
        }
      ]
    },
    {
      "cell_type": "markdown",
      "metadata": {
        "id": "TRcCliWfE-rl",
        "colab_type": "text"
      },
      "source": [
        "## Challenge\n",
        "\n",
        "You will be expected to use Weights & Biases to try to tune your model during your module assignment today. "
      ]
    },
    {
      "cell_type": "markdown",
      "metadata": {
        "id": "86WcPI1mE-rm",
        "colab_type": "text"
      },
      "source": [
        "# Hyperparameters with RandomSearchCV (Learn)"
      ]
    },
    {
      "cell_type": "markdown",
      "metadata": {
        "id": "Dqgxv2MBE-rm",
        "colab_type": "text"
      },
      "source": [
        "## Overview\n",
        "\n",
        "Basically `GridSearchCV` takes forever. You'll want to adopt a slightly more sophiscated strategy.\n",
        "\n",
        "Let's also take a look at an alternative with Keras-Tuner."
      ]
    },
    {
      "cell_type": "code",
      "metadata": {
        "id": "-B7Kue2PE-rm",
        "colab_type": "code",
        "colab": {
          "base_uri": "https://localhost:8080/",
          "height": 527
        },
        "outputId": "f57988d7-9d2e-40d9-c4ea-e6c02382d917"
      },
      "source": [
        "!pip install keras-tuner"
      ],
      "execution_count": null,
      "outputs": [
        {
          "output_type": "stream",
          "text": [
            "Collecting keras-tuner\n",
            "\u001b[?25l  Downloading https://files.pythonhosted.org/packages/a7/f7/4b41b6832abf4c9bef71a664dc563adb25afc5812831667c6db572b1a261/keras-tuner-1.0.1.tar.gz (54kB)\n",
            "\r\u001b[K     |██████                          | 10kB 14.0MB/s eta 0:00:01\r\u001b[K     |████████████                    | 20kB 6.5MB/s eta 0:00:01\r\u001b[K     |██████████████████              | 30kB 7.9MB/s eta 0:00:01\r\u001b[K     |████████████████████████        | 40kB 9.0MB/s eta 0:00:01\r\u001b[K     |██████████████████████████████  | 51kB 7.1MB/s eta 0:00:01\r\u001b[K     |████████████████████████████████| 61kB 4.1MB/s \n",
            "\u001b[?25hRequirement already satisfied: future in /usr/local/lib/python3.6/dist-packages (from keras-tuner) (0.16.0)\n",
            "Requirement already satisfied: numpy in /usr/local/lib/python3.6/dist-packages (from keras-tuner) (1.18.5)\n",
            "Requirement already satisfied: tabulate in /usr/local/lib/python3.6/dist-packages (from keras-tuner) (0.8.7)\n",
            "Collecting terminaltables\n",
            "  Downloading https://files.pythonhosted.org/packages/9b/c4/4a21174f32f8a7e1104798c445dacdc1d4df86f2f26722767034e4de4bff/terminaltables-3.1.0.tar.gz\n",
            "Collecting colorama\n",
            "  Downloading https://files.pythonhosted.org/packages/c9/dc/45cdef1b4d119eb96316b3117e6d5708a08029992b2fee2c143c7a0a5cc5/colorama-0.4.3-py2.py3-none-any.whl\n",
            "Requirement already satisfied: tqdm in /usr/local/lib/python3.6/dist-packages (from keras-tuner) (4.41.1)\n",
            "Requirement already satisfied: requests in /usr/local/lib/python3.6/dist-packages (from keras-tuner) (2.23.0)\n",
            "Requirement already satisfied: scipy in /usr/local/lib/python3.6/dist-packages (from keras-tuner) (1.4.1)\n",
            "Requirement already satisfied: scikit-learn in /usr/local/lib/python3.6/dist-packages (from keras-tuner) (0.22.2.post1)\n",
            "Requirement already satisfied: certifi>=2017.4.17 in /usr/local/lib/python3.6/dist-packages (from requests->keras-tuner) (2020.6.20)\n",
            "Requirement already satisfied: urllib3!=1.25.0,!=1.25.1,<1.26,>=1.21.1 in /usr/local/lib/python3.6/dist-packages (from requests->keras-tuner) (1.24.3)\n",
            "Requirement already satisfied: chardet<4,>=3.0.2 in /usr/local/lib/python3.6/dist-packages (from requests->keras-tuner) (3.0.4)\n",
            "Requirement already satisfied: idna<3,>=2.5 in /usr/local/lib/python3.6/dist-packages (from requests->keras-tuner) (2.10)\n",
            "Requirement already satisfied: joblib>=0.11 in /usr/local/lib/python3.6/dist-packages (from scikit-learn->keras-tuner) (0.16.0)\n",
            "Building wheels for collected packages: keras-tuner, terminaltables\n",
            "  Building wheel for keras-tuner (setup.py) ... \u001b[?25l\u001b[?25hdone\n",
            "  Created wheel for keras-tuner: filename=keras_tuner-1.0.1-cp36-none-any.whl size=73200 sha256=67b3c009b47f3c0988ed42b483fb7ed5a1e53ea7ab08a63ac9de000f5650ca68\n",
            "  Stored in directory: /root/.cache/pip/wheels/b9/cc/62/52716b70dd90f3db12519233c3a93a5360bc672da1a10ded43\n",
            "  Building wheel for terminaltables (setup.py) ... \u001b[?25l\u001b[?25hdone\n",
            "  Created wheel for terminaltables: filename=terminaltables-3.1.0-cp36-none-any.whl size=15356 sha256=73f9c9bb575b345b9517286c74cb862781565d924e1ea43ed95de535b2be4389\n",
            "  Stored in directory: /root/.cache/pip/wheels/30/6b/50/6c75775b681fb36cdfac7f19799888ef9d8813aff9e379663e\n",
            "Successfully built keras-tuner terminaltables\n",
            "Installing collected packages: terminaltables, colorama, keras-tuner\n",
            "Successfully installed colorama-0.4.3 keras-tuner-1.0.1 terminaltables-3.1.0\n"
          ],
          "name": "stdout"
        }
      ]
    },
    {
      "cell_type": "markdown",
      "metadata": {
        "id": "t00TeAp2E-ro",
        "colab_type": "text"
      },
      "source": [
        "## Follow Along"
      ]
    },
    {
      "cell_type": "code",
      "metadata": {
        "id": "NSKCO7xxE-rp",
        "colab_type": "code",
        "colab": {}
      },
      "source": [
        "from tensorflow import keras\n",
        "from tensorflow.keras import layers\n",
        "from kerastuner.tuners import RandomSearch\n",
        "\n",
        "\"\"\"\n",
        "This model Tunes:\n",
        "- Number of Neurons in the Hidden Layer\n",
        "- Learning Rate in Adam\n",
        "\n",
        "\"\"\"\n",
        "\n",
        "def build_model(hp):\n",
        "    model = keras.Sequential()\n",
        "    model.add(layers.Dense(units=hp.Int('units',\n",
        "                                        min_value=32,\n",
        "                                        max_value=512,\n",
        "                                        step=32),\n",
        "                           activation='relu'))\n",
        "    model.add(layers.Dense(1))\n",
        "    model.compile(\n",
        "        optimizer=keras.optimizers.Adam(\n",
        "            hp.Choice('learning_rate',\n",
        "                      values=[1e-2, 1e-3, 1e-4])),\n",
        "        loss='mse',\n",
        "        metrics=['mse', 'mae'])\n",
        "    \n",
        "    return model"
      ],
      "execution_count": null,
      "outputs": []
    },
    {
      "cell_type": "code",
      "metadata": {
        "id": "s2cZeBhsE-rq",
        "colab_type": "code",
        "colab": {
          "base_uri": "https://localhost:8080/",
          "height": 35
        },
        "outputId": "09cc54a5-6588-425c-9388-b4e45b5d89f6"
      },
      "source": [
        "tuner = RandomSearch(\n",
        "    build_model,\n",
        "    objective='mse',\n",
        "    max_trials=5,\n",
        "    executions_per_trial=3,\n",
        "    directory='./keras-tuner-trial',\n",
        "    project_name='helloworld')"
      ],
      "execution_count": null,
      "outputs": [
        {
          "output_type": "stream",
          "text": [
            "INFO:tensorflow:Reloading Oracle from existing project ./keras-tuner-trial/helloworld/oracle.json\n"
          ],
          "name": "stdout"
        }
      ]
    },
    {
      "cell_type": "code",
      "metadata": {
        "id": "uh2JpmvpE-rs",
        "colab_type": "code",
        "colab": {
          "base_uri": "https://localhost:8080/",
          "height": 283
        },
        "outputId": "96be43b6-7522-4818-fff4-16f5b4d5ee90"
      },
      "source": [
        "tuner.search_space_summary()"
      ],
      "execution_count": null,
      "outputs": [
        {
          "output_type": "display_data",
          "data": {
            "text/html": [
              "<span style=\"color:#4527A0\"><h1 style=\"font-size:18px\">Search space summary</h1></span>"
            ],
            "text/plain": [
              "<IPython.core.display.HTML object>"
            ]
          },
          "metadata": {
            "tags": []
          }
        },
        {
          "output_type": "display_data",
          "data": {
            "text/html": [
              "<span style=\"color:cyan\"> |-Default search space size: 2</span>"
            ],
            "text/plain": [
              "<IPython.core.display.HTML object>"
            ]
          },
          "metadata": {
            "tags": []
          }
        },
        {
          "output_type": "display_data",
          "data": {
            "text/html": [
              "<span style=\"color:#7E57C2\"><h2 style=\"font-size:16px\">units (Int)</h2></span>"
            ],
            "text/plain": [
              "<IPython.core.display.HTML object>"
            ]
          },
          "metadata": {
            "tags": []
          }
        },
        {
          "output_type": "display_data",
          "data": {
            "text/html": [
              "<span style=\"color:cyan\"> |-default: None</span>"
            ],
            "text/plain": [
              "<IPython.core.display.HTML object>"
            ]
          },
          "metadata": {
            "tags": []
          }
        },
        {
          "output_type": "display_data",
          "data": {
            "text/html": [
              "<span style=\"color:blue\"> |-max_value: 512</span>"
            ],
            "text/plain": [
              "<IPython.core.display.HTML object>"
            ]
          },
          "metadata": {
            "tags": []
          }
        },
        {
          "output_type": "display_data",
          "data": {
            "text/html": [
              "<span style=\"color:cyan\"> |-min_value: 32</span>"
            ],
            "text/plain": [
              "<IPython.core.display.HTML object>"
            ]
          },
          "metadata": {
            "tags": []
          }
        },
        {
          "output_type": "display_data",
          "data": {
            "text/html": [
              "<span style=\"color:blue\"> |-sampling: None</span>"
            ],
            "text/plain": [
              "<IPython.core.display.HTML object>"
            ]
          },
          "metadata": {
            "tags": []
          }
        },
        {
          "output_type": "display_data",
          "data": {
            "text/html": [
              "<span style=\"color:cyan\"> |-step: 32</span>"
            ],
            "text/plain": [
              "<IPython.core.display.HTML object>"
            ]
          },
          "metadata": {
            "tags": []
          }
        },
        {
          "output_type": "display_data",
          "data": {
            "text/html": [
              "<span style=\"color:#7E57C2\"><h2 style=\"font-size:16px\">learning_rate (Choice)</h2></span>"
            ],
            "text/plain": [
              "<IPython.core.display.HTML object>"
            ]
          },
          "metadata": {
            "tags": []
          }
        },
        {
          "output_type": "display_data",
          "data": {
            "text/html": [
              "<span style=\"color:cyan\"> |-default: 0.01</span>"
            ],
            "text/plain": [
              "<IPython.core.display.HTML object>"
            ]
          },
          "metadata": {
            "tags": []
          }
        },
        {
          "output_type": "display_data",
          "data": {
            "text/html": [
              "<span style=\"color:blue\"> |-ordered: True</span>"
            ],
            "text/plain": [
              "<IPython.core.display.HTML object>"
            ]
          },
          "metadata": {
            "tags": []
          }
        },
        {
          "output_type": "display_data",
          "data": {
            "text/html": [
              "<span style=\"color:cyan\"> |-values: [0.01, 0.001, 0.0001]</span>"
            ],
            "text/plain": [
              "<IPython.core.display.HTML object>"
            ]
          },
          "metadata": {
            "tags": []
          }
        }
      ]
    },
    {
      "cell_type": "code",
      "metadata": {
        "id": "h9eSjSwjE-ru",
        "colab_type": "code",
        "colab": {
          "base_uri": "https://localhost:8080/",
          "height": 1000
        },
        "outputId": "9091d717-4bfa-4a91-9b69-f0502cb029d3"
      },
      "source": [
        "tuner.search(X, y, epochs=5, validation_split=0.3)"
      ],
      "execution_count": null,
      "outputs": [
        {
          "output_type": "stream",
          "text": [
            "Epoch 1/5\n",
            "WARNING:tensorflow:Layer dense is casting an input tensor from dtype float64 to the layer's dtype of float32, which is new behavior in TensorFlow 2.  The layer has dtype float32 because it's dtype defaults to floatx.\n",
            "\n",
            "If you intended to run this layer in float32, you can safely ignore this warning. If in doubt, this warning is likely only an issue if you are porting a TensorFlow 1.X model to TensorFlow 2.\n",
            "\n",
            "To change all layers to have dtype float64 by default, call `tf.keras.backend.set_floatx('float64')`. To change just this layer, pass dtype='float64' to the layer constructor. If you are the author of this layer, you can disable autocasting by passing autocast=False to the base Layer constructor.\n",
            "\n",
            "9/9 [==============================] - 0s 20ms/step - loss: 556.8633 - mse: 556.8633 - mae: 21.8467 - val_loss: 647.7242 - val_mse: 647.7242 - val_mae: 23.2266\n",
            "Epoch 2/5\n",
            "9/9 [==============================] - 0s 8ms/step - loss: 553.1770 - mse: 553.1770 - mae: 21.7687 - val_loss: 643.8431 - val_mse: 643.8431 - val_mae: 23.1493\n",
            "Epoch 3/5\n",
            "9/9 [==============================] - 0s 9ms/step - loss: 549.4987 - mse: 549.4987 - mae: 21.6924 - val_loss: 639.9897 - val_mse: 639.9897 - val_mae: 23.0721\n",
            "Epoch 4/5\n",
            "9/9 [==============================] - 0s 9ms/step - loss: 545.9558 - mse: 545.9558 - mae: 21.6176 - val_loss: 636.1289 - val_mse: 636.1289 - val_mae: 22.9946\n",
            "Epoch 5/5\n",
            "9/9 [==============================] - 0s 9ms/step - loss: 542.3468 - mse: 542.3468 - mae: 21.5409 - val_loss: 632.3030 - val_mse: 632.3030 - val_mae: 22.9174\n",
            "Epoch 1/5\n",
            "WARNING:tensorflow:Layer dense is casting an input tensor from dtype float64 to the layer's dtype of float32, which is new behavior in TensorFlow 2.  The layer has dtype float32 because it's dtype defaults to floatx.\n",
            "\n",
            "If you intended to run this layer in float32, you can safely ignore this warning. If in doubt, this warning is likely only an issue if you are porting a TensorFlow 1.X model to TensorFlow 2.\n",
            "\n",
            "To change all layers to have dtype float64 by default, call `tf.keras.backend.set_floatx('float64')`. To change just this layer, pass dtype='float64' to the layer constructor. If you are the author of this layer, you can disable autocasting by passing autocast=False to the base Layer constructor.\n",
            "\n",
            "9/9 [==============================] - 0s 16ms/step - loss: 561.3637 - mse: 561.3636 - mae: 22.0075 - val_loss: 652.2358 - val_mse: 652.2358 - val_mae: 23.3890\n",
            "Epoch 2/5\n",
            "9/9 [==============================] - 0s 7ms/step - loss: 557.9539 - mse: 557.9539 - mae: 21.9361 - val_loss: 648.5706 - val_mse: 648.5706 - val_mae: 23.3168\n",
            "Epoch 3/5\n",
            "9/9 [==============================] - 0s 8ms/step - loss: 554.5263 - mse: 554.5263 - mae: 21.8646 - val_loss: 644.9547 - val_mse: 644.9547 - val_mae: 23.2448\n",
            "Epoch 4/5\n",
            "9/9 [==============================] - 0s 7ms/step - loss: 551.0501 - mse: 551.0501 - mae: 21.7927 - val_loss: 641.3778 - val_mse: 641.3778 - val_mae: 23.1728\n",
            "Epoch 5/5\n",
            "9/9 [==============================] - 0s 7ms/step - loss: 547.7124 - mse: 547.7124 - mae: 21.7220 - val_loss: 637.7701 - val_mse: 637.7701 - val_mae: 23.1005\n",
            "Epoch 1/5\n",
            "WARNING:tensorflow:Layer dense is casting an input tensor from dtype float64 to the layer's dtype of float32, which is new behavior in TensorFlow 2.  The layer has dtype float32 because it's dtype defaults to floatx.\n",
            "\n",
            "If you intended to run this layer in float32, you can safely ignore this warning. If in doubt, this warning is likely only an issue if you are porting a TensorFlow 1.X model to TensorFlow 2.\n",
            "\n",
            "To change all layers to have dtype float64 by default, call `tf.keras.backend.set_floatx('float64')`. To change just this layer, pass dtype='float64' to the layer constructor. If you are the author of this layer, you can disable autocasting by passing autocast=False to the base Layer constructor.\n",
            "\n",
            "9/9 [==============================] - 0s 16ms/step - loss: 547.5898 - mse: 547.5898 - mae: 21.6908 - val_loss: 636.2879 - val_mse: 636.2879 - val_mae: 23.0584\n",
            "Epoch 2/5\n",
            "9/9 [==============================] - 0s 7ms/step - loss: 544.0449 - mse: 544.0449 - mae: 21.6147 - val_loss: 632.4682 - val_mse: 632.4682 - val_mae: 22.9810\n",
            "Epoch 3/5\n",
            "9/9 [==============================] - 0s 7ms/step - loss: 540.4576 - mse: 540.4576 - mae: 21.5383 - val_loss: 628.7200 - val_mse: 628.7200 - val_mae: 22.9046\n",
            "Epoch 4/5\n",
            "9/9 [==============================] - 0s 7ms/step - loss: 536.9141 - mse: 536.9141 - mae: 21.4617 - val_loss: 624.9418 - val_mse: 624.9418 - val_mae: 22.8280\n",
            "Epoch 5/5\n",
            "9/9 [==============================] - 0s 7ms/step - loss: 533.3563 - mse: 533.3563 - mae: 21.3856 - val_loss: 621.1559 - val_mse: 621.1559 - val_mae: 22.7507\n"
          ],
          "name": "stdout"
        },
        {
          "output_type": "display_data",
          "data": {
            "text/html": [
              "<span style=\"color:#4527A0\"><h1 style=\"font-size:18px\">Trial complete</h1></span>"
            ],
            "text/plain": [
              "<IPython.core.display.HTML object>"
            ]
          },
          "metadata": {
            "tags": []
          }
        },
        {
          "output_type": "display_data",
          "data": {
            "text/html": [
              "<span style=\"color:#4527A0\"><h1 style=\"font-size:18px\">Trial summary</h1></span>"
            ],
            "text/plain": [
              "<IPython.core.display.HTML object>"
            ]
          },
          "metadata": {
            "tags": []
          }
        },
        {
          "output_type": "display_data",
          "data": {
            "text/html": [
              "<span style=\"color:cyan\"> |-Trial ID: 351421d0260472ed55c48e8941043b65</span>"
            ],
            "text/plain": [
              "<IPython.core.display.HTML object>"
            ]
          },
          "metadata": {
            "tags": []
          }
        },
        {
          "output_type": "display_data",
          "data": {
            "text/html": [
              "<span style=\"color:cyan\"> |-Score: 541.1384887695312</span>"
            ],
            "text/plain": [
              "<IPython.core.display.HTML object>"
            ]
          },
          "metadata": {
            "tags": []
          }
        },
        {
          "output_type": "display_data",
          "data": {
            "text/html": [
              "<span style=\"color:cyan\"> |-Best step: 0</span>"
            ],
            "text/plain": [
              "<IPython.core.display.HTML object>"
            ]
          },
          "metadata": {
            "tags": []
          }
        },
        {
          "output_type": "display_data",
          "data": {
            "text/html": [
              "<span style=\"color:#7E57C2\"><h2 style=\"font-size:16px\">Hyperparameters:</h2></span>"
            ],
            "text/plain": [
              "<IPython.core.display.HTML object>"
            ]
          },
          "metadata": {
            "tags": []
          }
        },
        {
          "output_type": "display_data",
          "data": {
            "text/html": [
              "<span style=\"color:cyan\"> |-learning_rate: 0.0001</span>"
            ],
            "text/plain": [
              "<IPython.core.display.HTML object>"
            ]
          },
          "metadata": {
            "tags": []
          }
        },
        {
          "output_type": "display_data",
          "data": {
            "text/html": [
              "<span style=\"color:blue\"> |-units: 320</span>"
            ],
            "text/plain": [
              "<IPython.core.display.HTML object>"
            ]
          },
          "metadata": {
            "tags": []
          }
        },
        {
          "output_type": "stream",
          "text": [
            "Epoch 1/5\n",
            "WARNING:tensorflow:Layer dense is casting an input tensor from dtype float64 to the layer's dtype of float32, which is new behavior in TensorFlow 2.  The layer has dtype float32 because it's dtype defaults to floatx.\n",
            "\n",
            "If you intended to run this layer in float32, you can safely ignore this warning. If in doubt, this warning is likely only an issue if you are porting a TensorFlow 1.X model to TensorFlow 2.\n",
            "\n",
            "To change all layers to have dtype float64 by default, call `tf.keras.backend.set_floatx('float64')`. To change just this layer, pass dtype='float64' to the layer constructor. If you are the author of this layer, you can disable autocasting by passing autocast=False to the base Layer constructor.\n",
            "\n",
            "9/9 [==============================] - 0s 19ms/step - loss: 550.2438 - mse: 550.2438 - mae: 21.8675 - val_loss: 624.3380 - val_mse: 624.3380 - val_mae: 22.8918\n",
            "Epoch 2/5\n",
            "9/9 [==============================] - 0s 7ms/step - loss: 520.1627 - mse: 520.1627 - mae: 21.2215 - val_loss: 592.9370 - val_mse: 592.9370 - val_mae: 22.2438\n",
            "Epoch 3/5\n",
            "9/9 [==============================] - 0s 7ms/step - loss: 491.0834 - mse: 491.0834 - mae: 20.5814 - val_loss: 560.7399 - val_mse: 560.7399 - val_mae: 21.5553\n",
            "Epoch 4/5\n",
            "9/9 [==============================] - 0s 8ms/step - loss: 459.7975 - mse: 459.7975 - mae: 19.8713 - val_loss: 527.0355 - val_mse: 527.0355 - val_mae: 20.8096\n",
            "Epoch 5/5\n",
            "9/9 [==============================] - 0s 8ms/step - loss: 426.3089 - mse: 426.3089 - mae: 19.0929 - val_loss: 490.6646 - val_mse: 490.6646 - val_mae: 19.9659\n",
            "Epoch 1/5\n",
            "WARNING:tensorflow:Layer dense is casting an input tensor from dtype float64 to the layer's dtype of float32, which is new behavior in TensorFlow 2.  The layer has dtype float32 because it's dtype defaults to floatx.\n",
            "\n",
            "If you intended to run this layer in float32, you can safely ignore this warning. If in doubt, this warning is likely only an issue if you are porting a TensorFlow 1.X model to TensorFlow 2.\n",
            "\n",
            "To change all layers to have dtype float64 by default, call `tf.keras.backend.set_floatx('float64')`. To change just this layer, pass dtype='float64' to the layer constructor. If you are the author of this layer, you can disable autocasting by passing autocast=False to the base Layer constructor.\n",
            "\n",
            "9/9 [==============================] - 0s 15ms/step - loss: 553.9903 - mse: 553.9903 - mae: 21.9099 - val_loss: 628.5303 - val_mse: 628.5303 - val_mae: 22.9482\n",
            "Epoch 2/5\n",
            "9/9 [==============================] - 0s 8ms/step - loss: 524.4251 - mse: 524.4251 - mae: 21.2630 - val_loss: 596.4600 - val_mse: 596.4600 - val_mae: 22.2730\n",
            "Epoch 3/5\n",
            "9/9 [==============================] - 0s 8ms/step - loss: 493.1597 - mse: 493.1597 - mae: 20.5716 - val_loss: 563.6030 - val_mse: 563.6030 - val_mae: 21.5562\n",
            "Epoch 4/5\n",
            "9/9 [==============================] - 0s 7ms/step - loss: 461.2722 - mse: 461.2722 - mae: 19.8323 - val_loss: 527.9905 - val_mse: 527.9905 - val_mae: 20.7490\n",
            "Epoch 5/5\n",
            "9/9 [==============================] - 0s 8ms/step - loss: 425.7246 - mse: 425.7246 - mae: 18.9755 - val_loss: 489.7308 - val_mse: 489.7308 - val_mae: 19.8405\n",
            "Epoch 1/5\n",
            "WARNING:tensorflow:Layer dense is casting an input tensor from dtype float64 to the layer's dtype of float32, which is new behavior in TensorFlow 2.  The layer has dtype float32 because it's dtype defaults to floatx.\n",
            "\n",
            "If you intended to run this layer in float32, you can safely ignore this warning. If in doubt, this warning is likely only an issue if you are porting a TensorFlow 1.X model to TensorFlow 2.\n",
            "\n",
            "To change all layers to have dtype float64 by default, call `tf.keras.backend.set_floatx('float64')`. To change just this layer, pass dtype='float64' to the layer constructor. If you are the author of this layer, you can disable autocasting by passing autocast=False to the base Layer constructor.\n",
            "\n",
            "9/9 [==============================] - 0s 16ms/step - loss: 544.2892 - mse: 544.2892 - mae: 21.6297 - val_loss: 616.9768 - val_mse: 616.9768 - val_mae: 22.6701\n",
            "Epoch 2/5\n",
            "9/9 [==============================] - 0s 7ms/step - loss: 515.9088 - mse: 515.9088 - mae: 20.9931 - val_loss: 585.9831 - val_mse: 585.9831 - val_mae: 22.0177\n",
            "Epoch 3/5\n",
            "9/9 [==============================] - 0s 7ms/step - loss: 486.2251 - mse: 486.2251 - mae: 20.3319 - val_loss: 553.6074 - val_mse: 553.6074 - val_mae: 21.3054\n",
            "Epoch 4/5\n",
            "9/9 [==============================] - 0s 7ms/step - loss: 455.1752 - mse: 455.1752 - mae: 19.5934 - val_loss: 518.3469 - val_mse: 518.3469 - val_mae: 20.5024\n",
            "Epoch 5/5\n",
            "9/9 [==============================] - 0s 9ms/step - loss: 420.3899 - mse: 420.3899 - mae: 18.7562 - val_loss: 480.2303 - val_mse: 480.2303 - val_mae: 19.5874\n"
          ],
          "name": "stdout"
        },
        {
          "output_type": "display_data",
          "data": {
            "text/html": [
              "<span style=\"color:#4527A0\"><h1 style=\"font-size:18px\">Trial complete</h1></span>"
            ],
            "text/plain": [
              "<IPython.core.display.HTML object>"
            ]
          },
          "metadata": {
            "tags": []
          }
        },
        {
          "output_type": "display_data",
          "data": {
            "text/html": [
              "<span style=\"color:#4527A0\"><h1 style=\"font-size:18px\">Trial summary</h1></span>"
            ],
            "text/plain": [
              "<IPython.core.display.HTML object>"
            ]
          },
          "metadata": {
            "tags": []
          }
        },
        {
          "output_type": "display_data",
          "data": {
            "text/html": [
              "<span style=\"color:cyan\"> |-Trial ID: b17ad801bfff8bb8474c38a8789710c4</span>"
            ],
            "text/plain": [
              "<IPython.core.display.HTML object>"
            ]
          },
          "metadata": {
            "tags": []
          }
        },
        {
          "output_type": "display_data",
          "data": {
            "text/html": [
              "<span style=\"color:cyan\"> |-Score: 424.14110310872394</span>"
            ],
            "text/plain": [
              "<IPython.core.display.HTML object>"
            ]
          },
          "metadata": {
            "tags": []
          }
        },
        {
          "output_type": "display_data",
          "data": {
            "text/html": [
              "<span style=\"color:cyan\"> |-Best step: 0</span>"
            ],
            "text/plain": [
              "<IPython.core.display.HTML object>"
            ]
          },
          "metadata": {
            "tags": []
          }
        },
        {
          "output_type": "display_data",
          "data": {
            "text/html": [
              "<span style=\"color:#7E57C2\"><h2 style=\"font-size:16px\">Hyperparameters:</h2></span>"
            ],
            "text/plain": [
              "<IPython.core.display.HTML object>"
            ]
          },
          "metadata": {
            "tags": []
          }
        },
        {
          "output_type": "display_data",
          "data": {
            "text/html": [
              "<span style=\"color:cyan\"> |-learning_rate: 0.001</span>"
            ],
            "text/plain": [
              "<IPython.core.display.HTML object>"
            ]
          },
          "metadata": {
            "tags": []
          }
        },
        {
          "output_type": "display_data",
          "data": {
            "text/html": [
              "<span style=\"color:blue\"> |-units: 256</span>"
            ],
            "text/plain": [
              "<IPython.core.display.HTML object>"
            ]
          },
          "metadata": {
            "tags": []
          }
        },
        {
          "output_type": "stream",
          "text": [
            "Epoch 1/5\n",
            "WARNING:tensorflow:Layer dense is casting an input tensor from dtype float64 to the layer's dtype of float32, which is new behavior in TensorFlow 2.  The layer has dtype float32 because it's dtype defaults to floatx.\n",
            "\n",
            "If you intended to run this layer in float32, you can safely ignore this warning. If in doubt, this warning is likely only an issue if you are porting a TensorFlow 1.X model to TensorFlow 2.\n",
            "\n",
            "To change all layers to have dtype float64 by default, call `tf.keras.backend.set_floatx('float64')`. To change just this layer, pass dtype='float64' to the layer constructor. If you are the author of this layer, you can disable autocasting by passing autocast=False to the base Layer constructor.\n",
            "\n",
            "9/9 [==============================] - 0s 17ms/step - loss: 560.4241 - mse: 560.4241 - mae: 22.0475 - val_loss: 630.1216 - val_mse: 630.1216 - val_mae: 22.9879\n",
            "Epoch 2/5\n",
            "9/9 [==============================] - 0s 9ms/step - loss: 524.6597 - mse: 524.6597 - mae: 21.2717 - val_loss: 592.1329 - val_mse: 592.1329 - val_mae: 22.1986\n",
            "Epoch 3/5\n",
            "9/9 [==============================] - 0s 8ms/step - loss: 489.1147 - mse: 489.1148 - mae: 20.4704 - val_loss: 553.1795 - val_mse: 553.1795 - val_mae: 21.3581\n",
            "Epoch 4/5\n",
            "9/9 [==============================] - 0s 8ms/step - loss: 450.6891 - mse: 450.6891 - mae: 19.5866 - val_loss: 511.9395 - val_mse: 511.9395 - val_mae: 20.4138\n",
            "Epoch 5/5\n",
            "9/9 [==============================] - 0s 9ms/step - loss: 409.8698 - mse: 409.8698 - mae: 18.5856 - val_loss: 466.6086 - val_mse: 466.6086 - val_mae: 19.3140\n",
            "Epoch 1/5\n",
            "WARNING:tensorflow:Layer dense is casting an input tensor from dtype float64 to the layer's dtype of float32, which is new behavior in TensorFlow 2.  The layer has dtype float32 because it's dtype defaults to floatx.\n",
            "\n",
            "If you intended to run this layer in float32, you can safely ignore this warning. If in doubt, this warning is likely only an issue if you are porting a TensorFlow 1.X model to TensorFlow 2.\n",
            "\n",
            "To change all layers to have dtype float64 by default, call `tf.keras.backend.set_floatx('float64')`. To change just this layer, pass dtype='float64' to the layer constructor. If you are the author of this layer, you can disable autocasting by passing autocast=False to the base Layer constructor.\n",
            "\n",
            "9/9 [==============================] - 0s 16ms/step - loss: 541.5265 - mse: 541.5265 - mae: 21.5518 - val_loss: 610.2690 - val_mse: 610.2690 - val_mae: 22.4965\n",
            "Epoch 2/5\n",
            "9/9 [==============================] - 0s 7ms/step - loss: 504.7108 - mse: 504.7108 - mae: 20.7240 - val_loss: 570.2929 - val_mse: 570.2929 - val_mae: 21.6235\n",
            "Epoch 3/5\n",
            "9/9 [==============================] - 0s 6ms/step - loss: 466.9263 - mse: 466.9263 - mae: 19.8375 - val_loss: 528.6104 - val_mse: 528.6104 - val_mae: 20.6683\n",
            "Epoch 4/5\n",
            "9/9 [==============================] - 0s 7ms/step - loss: 425.4951 - mse: 425.4951 - mae: 18.8289 - val_loss: 483.7745 - val_mse: 483.7745 - val_mae: 19.5867\n",
            "Epoch 5/5\n",
            "9/9 [==============================] - 0s 8ms/step - loss: 381.7073 - mse: 381.7073 - mae: 17.7037 - val_loss: 434.7610 - val_mse: 434.7610 - val_mae: 18.3595\n",
            "Epoch 1/5\n",
            "WARNING:tensorflow:Layer dense is casting an input tensor from dtype float64 to the layer's dtype of float32, which is new behavior in TensorFlow 2.  The layer has dtype float32 because it's dtype defaults to floatx.\n",
            "\n",
            "If you intended to run this layer in float32, you can safely ignore this warning. If in doubt, this warning is likely only an issue if you are porting a TensorFlow 1.X model to TensorFlow 2.\n",
            "\n",
            "To change all layers to have dtype float64 by default, call `tf.keras.backend.set_floatx('float64')`. To change just this layer, pass dtype='float64' to the layer constructor. If you are the author of this layer, you can disable autocasting by passing autocast=False to the base Layer constructor.\n",
            "\n",
            "9/9 [==============================] - 0s 16ms/step - loss: 540.0534 - mse: 540.0534 - mae: 21.5987 - val_loss: 609.7097 - val_mse: 609.7097 - val_mae: 22.5346\n",
            "Epoch 2/5\n",
            "9/9 [==============================] - 0s 6ms/step - loss: 503.2981 - mse: 503.2981 - mae: 20.7629 - val_loss: 570.0494 - val_mse: 570.0494 - val_mae: 21.6582\n",
            "Epoch 3/5\n",
            "9/9 [==============================] - 0s 7ms/step - loss: 465.1613 - mse: 465.1613 - mae: 19.8718 - val_loss: 529.0853 - val_mse: 529.0853 - val_mae: 20.7157\n",
            "Epoch 4/5\n",
            "9/9 [==============================] - 0s 7ms/step - loss: 425.1751 - mse: 425.1751 - mae: 18.8883 - val_loss: 485.5172 - val_mse: 485.5172 - val_mae: 19.6617\n",
            "Epoch 5/5\n",
            "9/9 [==============================] - 0s 7ms/step - loss: 382.5029 - mse: 382.5029 - mae: 17.7890 - val_loss: 438.3254 - val_mse: 438.3254 - val_mae: 18.4642\n"
          ],
          "name": "stdout"
        },
        {
          "output_type": "display_data",
          "data": {
            "text/html": [
              "<span style=\"color:#4527A0\"><h1 style=\"font-size:18px\">Trial complete</h1></span>"
            ],
            "text/plain": [
              "<IPython.core.display.HTML object>"
            ]
          },
          "metadata": {
            "tags": []
          }
        },
        {
          "output_type": "display_data",
          "data": {
            "text/html": [
              "<span style=\"color:#4527A0\"><h1 style=\"font-size:18px\">Trial summary</h1></span>"
            ],
            "text/plain": [
              "<IPython.core.display.HTML object>"
            ]
          },
          "metadata": {
            "tags": []
          }
        },
        {
          "output_type": "display_data",
          "data": {
            "text/html": [
              "<span style=\"color:cyan\"> |-Trial ID: ba1551647ce2abbc293ba47887649172</span>"
            ],
            "text/plain": [
              "<IPython.core.display.HTML object>"
            ]
          },
          "metadata": {
            "tags": []
          }
        },
        {
          "output_type": "display_data",
          "data": {
            "text/html": [
              "<span style=\"color:cyan\"> |-Score: 391.3599853515625</span>"
            ],
            "text/plain": [
              "<IPython.core.display.HTML object>"
            ]
          },
          "metadata": {
            "tags": []
          }
        },
        {
          "output_type": "display_data",
          "data": {
            "text/html": [
              "<span style=\"color:cyan\"> |-Best step: 0</span>"
            ],
            "text/plain": [
              "<IPython.core.display.HTML object>"
            ]
          },
          "metadata": {
            "tags": []
          }
        },
        {
          "output_type": "display_data",
          "data": {
            "text/html": [
              "<span style=\"color:#7E57C2\"><h2 style=\"font-size:16px\">Hyperparameters:</h2></span>"
            ],
            "text/plain": [
              "<IPython.core.display.HTML object>"
            ]
          },
          "metadata": {
            "tags": []
          }
        },
        {
          "output_type": "display_data",
          "data": {
            "text/html": [
              "<span style=\"color:cyan\"> |-learning_rate: 0.001</span>"
            ],
            "text/plain": [
              "<IPython.core.display.HTML object>"
            ]
          },
          "metadata": {
            "tags": []
          }
        },
        {
          "output_type": "display_data",
          "data": {
            "text/html": [
              "<span style=\"color:blue\"> |-units: 384</span>"
            ],
            "text/plain": [
              "<IPython.core.display.HTML object>"
            ]
          },
          "metadata": {
            "tags": []
          }
        },
        {
          "output_type": "stream",
          "text": [
            "Epoch 1/5\n",
            "WARNING:tensorflow:Layer dense is casting an input tensor from dtype float64 to the layer's dtype of float32, which is new behavior in TensorFlow 2.  The layer has dtype float32 because it's dtype defaults to floatx.\n",
            "\n",
            "If you intended to run this layer in float32, you can safely ignore this warning. If in doubt, this warning is likely only an issue if you are porting a TensorFlow 1.X model to TensorFlow 2.\n",
            "\n",
            "To change all layers to have dtype float64 by default, call `tf.keras.backend.set_floatx('float64')`. To change just this layer, pass dtype='float64' to the layer constructor. If you are the author of this layer, you can disable autocasting by passing autocast=False to the base Layer constructor.\n",
            "\n",
            "9/9 [==============================] - 0s 17ms/step - loss: 543.1559 - mse: 543.1559 - mae: 21.6616 - val_loss: 614.3646 - val_mse: 614.3646 - val_mae: 22.6346\n",
            "Epoch 2/5\n",
            "9/9 [==============================] - 0s 9ms/step - loss: 509.8157 - mse: 509.8157 - mae: 20.9196 - val_loss: 579.7939 - val_mse: 579.7939 - val_mae: 21.8755\n",
            "Epoch 3/5\n",
            "9/9 [==============================] - 0s 9ms/step - loss: 476.3336 - mse: 476.3336 - mae: 20.1471 - val_loss: 543.5261 - val_mse: 543.5261 - val_mae: 21.0542\n",
            "Epoch 4/5\n",
            "9/9 [==============================] - 0s 8ms/step - loss: 439.3828 - mse: 439.3828 - mae: 19.2783 - val_loss: 504.7038 - val_mse: 504.7038 - val_mae: 20.1261\n",
            "Epoch 5/5\n",
            "9/9 [==============================] - 0s 8ms/step - loss: 401.4393 - mse: 401.4393 - mae: 18.3029 - val_loss: 461.2387 - val_mse: 461.2387 - val_mae: 19.0389\n",
            "Epoch 1/5\n",
            "WARNING:tensorflow:Layer dense is casting an input tensor from dtype float64 to the layer's dtype of float32, which is new behavior in TensorFlow 2.  The layer has dtype float32 because it's dtype defaults to floatx.\n",
            "\n",
            "If you intended to run this layer in float32, you can safely ignore this warning. If in doubt, this warning is likely only an issue if you are porting a TensorFlow 1.X model to TensorFlow 2.\n",
            "\n",
            "To change all layers to have dtype float64 by default, call `tf.keras.backend.set_floatx('float64')`. To change just this layer, pass dtype='float64' to the layer constructor. If you are the author of this layer, you can disable autocasting by passing autocast=False to the base Layer constructor.\n",
            "\n",
            "9/9 [==============================] - 0s 15ms/step - loss: 548.6670 - mse: 548.6670 - mae: 21.7329 - val_loss: 619.8503 - val_mse: 619.8503 - val_mae: 22.7308\n",
            "Epoch 2/5\n",
            "9/9 [==============================] - 0s 8ms/step - loss: 516.3077 - mse: 516.3077 - mae: 21.0122 - val_loss: 586.1804 - val_mse: 586.1804 - val_mae: 21.9902\n",
            "Epoch 3/5\n",
            "9/9 [==============================] - 0s 7ms/step - loss: 483.8537 - mse: 483.8537 - mae: 20.2537 - val_loss: 551.1124 - val_mse: 551.1124 - val_mae: 21.1917\n",
            "Epoch 4/5\n",
            "9/9 [==============================] - 0s 7ms/step - loss: 450.2911 - mse: 450.2911 - mae: 19.4349 - val_loss: 512.8979 - val_mse: 512.8979 - val_mae: 20.3020\n",
            "Epoch 5/5\n",
            "9/9 [==============================] - 0s 8ms/step - loss: 413.3961 - mse: 413.3961 - mae: 18.5067 - val_loss: 471.7325 - val_mse: 471.7325 - val_mae: 19.2997\n",
            "Epoch 1/5\n",
            "WARNING:tensorflow:Layer dense is casting an input tensor from dtype float64 to the layer's dtype of float32, which is new behavior in TensorFlow 2.  The layer has dtype float32 because it's dtype defaults to floatx.\n",
            "\n",
            "If you intended to run this layer in float32, you can safely ignore this warning. If in doubt, this warning is likely only an issue if you are porting a TensorFlow 1.X model to TensorFlow 2.\n",
            "\n",
            "To change all layers to have dtype float64 by default, call `tf.keras.backend.set_floatx('float64')`. To change just this layer, pass dtype='float64' to the layer constructor. If you are the author of this layer, you can disable autocasting by passing autocast=False to the base Layer constructor.\n",
            "\n",
            "9/9 [==============================] - 0s 16ms/step - loss: 557.9460 - mse: 557.9460 - mae: 21.9175 - val_loss: 628.1722 - val_mse: 628.1722 - val_mae: 22.8647\n",
            "Epoch 2/5\n",
            "9/9 [==============================] - 0s 7ms/step - loss: 523.3218 - mse: 523.3218 - mae: 21.1560 - val_loss: 592.2239 - val_mse: 592.2239 - val_mae: 22.1053\n",
            "Epoch 3/5\n",
            "9/9 [==============================] - 0s 7ms/step - loss: 489.9375 - mse: 489.9375 - mae: 20.4013 - val_loss: 556.3806 - val_mse: 556.3806 - val_mae: 21.3208\n",
            "Epoch 4/5\n",
            "9/9 [==============================] - 0s 8ms/step - loss: 454.9102 - mse: 454.9102 - mae: 19.5890 - val_loss: 519.0156 - val_mse: 519.0156 - val_mae: 20.4611\n",
            "Epoch 5/5\n",
            "9/9 [==============================] - 0s 7ms/step - loss: 418.8359 - mse: 418.8359 - mae: 18.6878 - val_loss: 478.2320 - val_mse: 478.2320 - val_mae: 19.4810\n"
          ],
          "name": "stdout"
        },
        {
          "output_type": "display_data",
          "data": {
            "text/html": [
              "<span style=\"color:#4527A0\"><h1 style=\"font-size:18px\">Trial complete</h1></span>"
            ],
            "text/plain": [
              "<IPython.core.display.HTML object>"
            ]
          },
          "metadata": {
            "tags": []
          }
        },
        {
          "output_type": "display_data",
          "data": {
            "text/html": [
              "<span style=\"color:#4527A0\"><h1 style=\"font-size:18px\">Trial summary</h1></span>"
            ],
            "text/plain": [
              "<IPython.core.display.HTML object>"
            ]
          },
          "metadata": {
            "tags": []
          }
        },
        {
          "output_type": "display_data",
          "data": {
            "text/html": [
              "<span style=\"color:cyan\"> |-Trial ID: 3b8a49a7595f0dc35822fa6f0608484d</span>"
            ],
            "text/plain": [
              "<IPython.core.display.HTML object>"
            ]
          },
          "metadata": {
            "tags": []
          }
        },
        {
          "output_type": "display_data",
          "data": {
            "text/html": [
              "<span style=\"color:cyan\"> |-Score: 411.22377522786456</span>"
            ],
            "text/plain": [
              "<IPython.core.display.HTML object>"
            ]
          },
          "metadata": {
            "tags": []
          }
        },
        {
          "output_type": "display_data",
          "data": {
            "text/html": [
              "<span style=\"color:cyan\"> |-Best step: 0</span>"
            ],
            "text/plain": [
              "<IPython.core.display.HTML object>"
            ]
          },
          "metadata": {
            "tags": []
          }
        },
        {
          "output_type": "display_data",
          "data": {
            "text/html": [
              "<span style=\"color:#7E57C2\"><h2 style=\"font-size:16px\">Hyperparameters:</h2></span>"
            ],
            "text/plain": [
              "<IPython.core.display.HTML object>"
            ]
          },
          "metadata": {
            "tags": []
          }
        },
        {
          "output_type": "display_data",
          "data": {
            "text/html": [
              "<span style=\"color:cyan\"> |-learning_rate: 0.001</span>"
            ],
            "text/plain": [
              "<IPython.core.display.HTML object>"
            ]
          },
          "metadata": {
            "tags": []
          }
        },
        {
          "output_type": "display_data",
          "data": {
            "text/html": [
              "<span style=\"color:blue\"> |-units: 320</span>"
            ],
            "text/plain": [
              "<IPython.core.display.HTML object>"
            ]
          },
          "metadata": {
            "tags": []
          }
        },
        {
          "output_type": "stream",
          "text": [
            "Epoch 1/5\n",
            "WARNING:tensorflow:Layer dense is casting an input tensor from dtype float64 to the layer's dtype of float32, which is new behavior in TensorFlow 2.  The layer has dtype float32 because it's dtype defaults to floatx.\n",
            "\n",
            "If you intended to run this layer in float32, you can safely ignore this warning. If in doubt, this warning is likely only an issue if you are porting a TensorFlow 1.X model to TensorFlow 2.\n",
            "\n",
            "To change all layers to have dtype float64 by default, call `tf.keras.backend.set_floatx('float64')`. To change just this layer, pass dtype='float64' to the layer constructor. If you are the author of this layer, you can disable autocasting by passing autocast=False to the base Layer constructor.\n",
            "\n",
            "9/9 [==============================] - 0s 18ms/step - loss: 552.3649 - mse: 552.3649 - mae: 21.8231 - val_loss: 643.4929 - val_mse: 643.4929 - val_mae: 23.2420\n",
            "Epoch 2/5\n",
            "9/9 [==============================] - 0s 8ms/step - loss: 550.2312 - mse: 550.2312 - mae: 21.7796 - val_loss: 641.2382 - val_mse: 641.2382 - val_mae: 23.1977\n",
            "Epoch 3/5\n",
            "9/9 [==============================] - 0s 8ms/step - loss: 548.0615 - mse: 548.0615 - mae: 21.7354 - val_loss: 639.0317 - val_mse: 639.0317 - val_mae: 23.1536\n",
            "Epoch 4/5\n",
            "9/9 [==============================] - 0s 8ms/step - loss: 546.0343 - mse: 546.0343 - mae: 21.6928 - val_loss: 636.7719 - val_mse: 636.7719 - val_mae: 23.1092\n",
            "Epoch 5/5\n",
            "9/9 [==============================] - 0s 8ms/step - loss: 543.8776 - mse: 543.8776 - mae: 21.6488 - val_loss: 634.5615 - val_mse: 634.5615 - val_mae: 23.0653\n",
            "Epoch 1/5\n",
            "WARNING:tensorflow:Layer dense is casting an input tensor from dtype float64 to the layer's dtype of float32, which is new behavior in TensorFlow 2.  The layer has dtype float32 because it's dtype defaults to floatx.\n",
            "\n",
            "If you intended to run this layer in float32, you can safely ignore this warning. If in doubt, this warning is likely only an issue if you are porting a TensorFlow 1.X model to TensorFlow 2.\n",
            "\n",
            "To change all layers to have dtype float64 by default, call `tf.keras.backend.set_floatx('float64')`. To change just this layer, pass dtype='float64' to the layer constructor. If you are the author of this layer, you can disable autocasting by passing autocast=False to the base Layer constructor.\n",
            "\n",
            "9/9 [==============================] - 0s 15ms/step - loss: 569.2227 - mse: 569.2227 - mae: 22.1737 - val_loss: 661.4510 - val_mse: 661.4510 - val_mae: 23.5836\n",
            "Epoch 2/5\n",
            "9/9 [==============================] - 0s 7ms/step - loss: 567.1031 - mse: 567.1031 - mae: 22.1300 - val_loss: 659.2271 - val_mse: 659.2271 - val_mae: 23.5398\n",
            "Epoch 3/5\n",
            "9/9 [==============================] - 0s 8ms/step - loss: 565.0466 - mse: 565.0466 - mae: 22.0872 - val_loss: 656.9973 - val_mse: 656.9973 - val_mae: 23.4960\n",
            "Epoch 4/5\n",
            "9/9 [==============================] - 0s 7ms/step - loss: 562.9146 - mse: 562.9147 - mae: 22.0436 - val_loss: 654.8106 - val_mse: 654.8106 - val_mae: 23.4525\n",
            "Epoch 5/5\n",
            "9/9 [==============================] - 0s 8ms/step - loss: 560.8524 - mse: 560.8524 - mae: 22.0008 - val_loss: 652.6118 - val_mse: 652.6118 - val_mae: 23.4088\n",
            "Epoch 1/5\n",
            "WARNING:tensorflow:Layer dense is casting an input tensor from dtype float64 to the layer's dtype of float32, which is new behavior in TensorFlow 2.  The layer has dtype float32 because it's dtype defaults to floatx.\n",
            "\n",
            "If you intended to run this layer in float32, you can safely ignore this warning. If in doubt, this warning is likely only an issue if you are porting a TensorFlow 1.X model to TensorFlow 2.\n",
            "\n",
            "To change all layers to have dtype float64 by default, call `tf.keras.backend.set_floatx('float64')`. To change just this layer, pass dtype='float64' to the layer constructor. If you are the author of this layer, you can disable autocasting by passing autocast=False to the base Layer constructor.\n",
            "\n",
            "9/9 [==============================] - 0s 16ms/step - loss: 557.7417 - mse: 557.7417 - mae: 21.9766 - val_loss: 648.5948 - val_mse: 648.5948 - val_mae: 23.3587\n",
            "Epoch 2/5\n",
            "9/9 [==============================] - 0s 7ms/step - loss: 555.5704 - mse: 555.5704 - mae: 21.9293 - val_loss: 646.4025 - val_mse: 646.4025 - val_mae: 23.3130\n",
            "Epoch 3/5\n",
            "9/9 [==============================] - 0s 7ms/step - loss: 553.5392 - mse: 553.5392 - mae: 21.8842 - val_loss: 644.2034 - val_mse: 644.2034 - val_mae: 23.2677\n",
            "Epoch 4/5\n",
            "9/9 [==============================] - 0s 7ms/step - loss: 551.4490 - mse: 551.4490 - mae: 21.8386 - val_loss: 642.0229 - val_mse: 642.0229 - val_mae: 23.2225\n",
            "Epoch 5/5\n",
            "9/9 [==============================] - 0s 7ms/step - loss: 549.3991 - mse: 549.3991 - mae: 21.7938 - val_loss: 639.8387 - val_mse: 639.8387 - val_mae: 23.1768\n"
          ],
          "name": "stdout"
        },
        {
          "output_type": "display_data",
          "data": {
            "text/html": [
              "<span style=\"color:#4527A0\"><h1 style=\"font-size:18px\">Trial complete</h1></span>"
            ],
            "text/plain": [
              "<IPython.core.display.HTML object>"
            ]
          },
          "metadata": {
            "tags": []
          }
        },
        {
          "output_type": "display_data",
          "data": {
            "text/html": [
              "<span style=\"color:#4527A0\"><h1 style=\"font-size:18px\">Trial summary</h1></span>"
            ],
            "text/plain": [
              "<IPython.core.display.HTML object>"
            ]
          },
          "metadata": {
            "tags": []
          }
        },
        {
          "output_type": "display_data",
          "data": {
            "text/html": [
              "<span style=\"color:cyan\"> |-Trial ID: 1c22ba01eb767a687c4151b949418e54</span>"
            ],
            "text/plain": [
              "<IPython.core.display.HTML object>"
            ]
          },
          "metadata": {
            "tags": []
          }
        },
        {
          "output_type": "display_data",
          "data": {
            "text/html": [
              "<span style=\"color:cyan\"> |-Score: 551.3763631184896</span>"
            ],
            "text/plain": [
              "<IPython.core.display.HTML object>"
            ]
          },
          "metadata": {
            "tags": []
          }
        },
        {
          "output_type": "display_data",
          "data": {
            "text/html": [
              "<span style=\"color:cyan\"> |-Best step: 0</span>"
            ],
            "text/plain": [
              "<IPython.core.display.HTML object>"
            ]
          },
          "metadata": {
            "tags": []
          }
        },
        {
          "output_type": "display_data",
          "data": {
            "text/html": [
              "<span style=\"color:#7E57C2\"><h2 style=\"font-size:16px\">Hyperparameters:</h2></span>"
            ],
            "text/plain": [
              "<IPython.core.display.HTML object>"
            ]
          },
          "metadata": {
            "tags": []
          }
        },
        {
          "output_type": "display_data",
          "data": {
            "text/html": [
              "<span style=\"color:cyan\"> |-learning_rate: 0.0001</span>"
            ],
            "text/plain": [
              "<IPython.core.display.HTML object>"
            ]
          },
          "metadata": {
            "tags": []
          }
        },
        {
          "output_type": "display_data",
          "data": {
            "text/html": [
              "<span style=\"color:blue\"> |-units: 128</span>"
            ],
            "text/plain": [
              "<IPython.core.display.HTML object>"
            ]
          },
          "metadata": {
            "tags": []
          }
        },
        {
          "output_type": "stream",
          "text": [
            "INFO:tensorflow:Oracle triggered exit\n"
          ],
          "name": "stdout"
        }
      ]
    },
    {
      "cell_type": "code",
      "metadata": {
        "id": "F9JI94fJE-rw",
        "colab_type": "code",
        "colab": {
          "base_uri": "https://localhost:8080/",
          "height": 911
        },
        "outputId": "960574b4-de31-48e3-d39b-66c04048eaf7"
      },
      "source": [
        "tuner.results_summary()"
      ],
      "execution_count": null,
      "outputs": [
        {
          "output_type": "display_data",
          "data": {
            "text/html": [
              "<span style=\"color:#4527A0\"><h1 style=\"font-size:18px\">Results summary</h1></span>"
            ],
            "text/plain": [
              "<IPython.core.display.HTML object>"
            ]
          },
          "metadata": {
            "tags": []
          }
        },
        {
          "output_type": "display_data",
          "data": {
            "text/html": [
              "<span style=\"color:cyan\"> |-Results in ./keras-tuner-trial/helloworld</span>"
            ],
            "text/plain": [
              "<IPython.core.display.HTML object>"
            ]
          },
          "metadata": {
            "tags": []
          }
        },
        {
          "output_type": "display_data",
          "data": {
            "text/html": [
              "<span style=\"color:cyan\"> |-Showing 10 best trials</span>"
            ],
            "text/plain": [
              "<IPython.core.display.HTML object>"
            ]
          },
          "metadata": {
            "tags": []
          }
        },
        {
          "output_type": "display_data",
          "data": {
            "text/html": [
              "<span style=\"color:cyan\"> |-Objective(name='mse', direction='min')</span>"
            ],
            "text/plain": [
              "<IPython.core.display.HTML object>"
            ]
          },
          "metadata": {
            "tags": []
          }
        },
        {
          "output_type": "display_data",
          "data": {
            "text/html": [
              "<span style=\"color:#4527A0\"><h1 style=\"font-size:18px\">Trial summary</h1></span>"
            ],
            "text/plain": [
              "<IPython.core.display.HTML object>"
            ]
          },
          "metadata": {
            "tags": []
          }
        },
        {
          "output_type": "display_data",
          "data": {
            "text/html": [
              "<span style=\"color:cyan\"> |-Trial ID: ba1551647ce2abbc293ba47887649172</span>"
            ],
            "text/plain": [
              "<IPython.core.display.HTML object>"
            ]
          },
          "metadata": {
            "tags": []
          }
        },
        {
          "output_type": "display_data",
          "data": {
            "text/html": [
              "<span style=\"color:cyan\"> |-Score: 391.3599853515625</span>"
            ],
            "text/plain": [
              "<IPython.core.display.HTML object>"
            ]
          },
          "metadata": {
            "tags": []
          }
        },
        {
          "output_type": "display_data",
          "data": {
            "text/html": [
              "<span style=\"color:cyan\"> |-Best step: 0</span>"
            ],
            "text/plain": [
              "<IPython.core.display.HTML object>"
            ]
          },
          "metadata": {
            "tags": []
          }
        },
        {
          "output_type": "display_data",
          "data": {
            "text/html": [
              "<span style=\"color:#7E57C2\"><h2 style=\"font-size:16px\">Hyperparameters:</h2></span>"
            ],
            "text/plain": [
              "<IPython.core.display.HTML object>"
            ]
          },
          "metadata": {
            "tags": []
          }
        },
        {
          "output_type": "display_data",
          "data": {
            "text/html": [
              "<span style=\"color:cyan\"> |-learning_rate: 0.001</span>"
            ],
            "text/plain": [
              "<IPython.core.display.HTML object>"
            ]
          },
          "metadata": {
            "tags": []
          }
        },
        {
          "output_type": "display_data",
          "data": {
            "text/html": [
              "<span style=\"color:blue\"> |-units: 384</span>"
            ],
            "text/plain": [
              "<IPython.core.display.HTML object>"
            ]
          },
          "metadata": {
            "tags": []
          }
        },
        {
          "output_type": "display_data",
          "data": {
            "text/html": [
              "<span style=\"color:#4527A0\"><h1 style=\"font-size:18px\">Trial summary</h1></span>"
            ],
            "text/plain": [
              "<IPython.core.display.HTML object>"
            ]
          },
          "metadata": {
            "tags": []
          }
        },
        {
          "output_type": "display_data",
          "data": {
            "text/html": [
              "<span style=\"color:cyan\"> |-Trial ID: 3b8a49a7595f0dc35822fa6f0608484d</span>"
            ],
            "text/plain": [
              "<IPython.core.display.HTML object>"
            ]
          },
          "metadata": {
            "tags": []
          }
        },
        {
          "output_type": "display_data",
          "data": {
            "text/html": [
              "<span style=\"color:cyan\"> |-Score: 411.22377522786456</span>"
            ],
            "text/plain": [
              "<IPython.core.display.HTML object>"
            ]
          },
          "metadata": {
            "tags": []
          }
        },
        {
          "output_type": "display_data",
          "data": {
            "text/html": [
              "<span style=\"color:cyan\"> |-Best step: 0</span>"
            ],
            "text/plain": [
              "<IPython.core.display.HTML object>"
            ]
          },
          "metadata": {
            "tags": []
          }
        },
        {
          "output_type": "display_data",
          "data": {
            "text/html": [
              "<span style=\"color:#7E57C2\"><h2 style=\"font-size:16px\">Hyperparameters:</h2></span>"
            ],
            "text/plain": [
              "<IPython.core.display.HTML object>"
            ]
          },
          "metadata": {
            "tags": []
          }
        },
        {
          "output_type": "display_data",
          "data": {
            "text/html": [
              "<span style=\"color:cyan\"> |-learning_rate: 0.001</span>"
            ],
            "text/plain": [
              "<IPython.core.display.HTML object>"
            ]
          },
          "metadata": {
            "tags": []
          }
        },
        {
          "output_type": "display_data",
          "data": {
            "text/html": [
              "<span style=\"color:blue\"> |-units: 320</span>"
            ],
            "text/plain": [
              "<IPython.core.display.HTML object>"
            ]
          },
          "metadata": {
            "tags": []
          }
        },
        {
          "output_type": "display_data",
          "data": {
            "text/html": [
              "<span style=\"color:#4527A0\"><h1 style=\"font-size:18px\">Trial summary</h1></span>"
            ],
            "text/plain": [
              "<IPython.core.display.HTML object>"
            ]
          },
          "metadata": {
            "tags": []
          }
        },
        {
          "output_type": "display_data",
          "data": {
            "text/html": [
              "<span style=\"color:cyan\"> |-Trial ID: b17ad801bfff8bb8474c38a8789710c4</span>"
            ],
            "text/plain": [
              "<IPython.core.display.HTML object>"
            ]
          },
          "metadata": {
            "tags": []
          }
        },
        {
          "output_type": "display_data",
          "data": {
            "text/html": [
              "<span style=\"color:cyan\"> |-Score: 424.14110310872394</span>"
            ],
            "text/plain": [
              "<IPython.core.display.HTML object>"
            ]
          },
          "metadata": {
            "tags": []
          }
        },
        {
          "output_type": "display_data",
          "data": {
            "text/html": [
              "<span style=\"color:cyan\"> |-Best step: 0</span>"
            ],
            "text/plain": [
              "<IPython.core.display.HTML object>"
            ]
          },
          "metadata": {
            "tags": []
          }
        },
        {
          "output_type": "display_data",
          "data": {
            "text/html": [
              "<span style=\"color:#7E57C2\"><h2 style=\"font-size:16px\">Hyperparameters:</h2></span>"
            ],
            "text/plain": [
              "<IPython.core.display.HTML object>"
            ]
          },
          "metadata": {
            "tags": []
          }
        },
        {
          "output_type": "display_data",
          "data": {
            "text/html": [
              "<span style=\"color:cyan\"> |-learning_rate: 0.001</span>"
            ],
            "text/plain": [
              "<IPython.core.display.HTML object>"
            ]
          },
          "metadata": {
            "tags": []
          }
        },
        {
          "output_type": "display_data",
          "data": {
            "text/html": [
              "<span style=\"color:blue\"> |-units: 256</span>"
            ],
            "text/plain": [
              "<IPython.core.display.HTML object>"
            ]
          },
          "metadata": {
            "tags": []
          }
        },
        {
          "output_type": "display_data",
          "data": {
            "text/html": [
              "<span style=\"color:#4527A0\"><h1 style=\"font-size:18px\">Trial summary</h1></span>"
            ],
            "text/plain": [
              "<IPython.core.display.HTML object>"
            ]
          },
          "metadata": {
            "tags": []
          }
        },
        {
          "output_type": "display_data",
          "data": {
            "text/html": [
              "<span style=\"color:cyan\"> |-Trial ID: 351421d0260472ed55c48e8941043b65</span>"
            ],
            "text/plain": [
              "<IPython.core.display.HTML object>"
            ]
          },
          "metadata": {
            "tags": []
          }
        },
        {
          "output_type": "display_data",
          "data": {
            "text/html": [
              "<span style=\"color:cyan\"> |-Score: 541.1384887695312</span>"
            ],
            "text/plain": [
              "<IPython.core.display.HTML object>"
            ]
          },
          "metadata": {
            "tags": []
          }
        },
        {
          "output_type": "display_data",
          "data": {
            "text/html": [
              "<span style=\"color:cyan\"> |-Best step: 0</span>"
            ],
            "text/plain": [
              "<IPython.core.display.HTML object>"
            ]
          },
          "metadata": {
            "tags": []
          }
        },
        {
          "output_type": "display_data",
          "data": {
            "text/html": [
              "<span style=\"color:#7E57C2\"><h2 style=\"font-size:16px\">Hyperparameters:</h2></span>"
            ],
            "text/plain": [
              "<IPython.core.display.HTML object>"
            ]
          },
          "metadata": {
            "tags": []
          }
        },
        {
          "output_type": "display_data",
          "data": {
            "text/html": [
              "<span style=\"color:cyan\"> |-learning_rate: 0.0001</span>"
            ],
            "text/plain": [
              "<IPython.core.display.HTML object>"
            ]
          },
          "metadata": {
            "tags": []
          }
        },
        {
          "output_type": "display_data",
          "data": {
            "text/html": [
              "<span style=\"color:blue\"> |-units: 320</span>"
            ],
            "text/plain": [
              "<IPython.core.display.HTML object>"
            ]
          },
          "metadata": {
            "tags": []
          }
        },
        {
          "output_type": "display_data",
          "data": {
            "text/html": [
              "<span style=\"color:#4527A0\"><h1 style=\"font-size:18px\">Trial summary</h1></span>"
            ],
            "text/plain": [
              "<IPython.core.display.HTML object>"
            ]
          },
          "metadata": {
            "tags": []
          }
        },
        {
          "output_type": "display_data",
          "data": {
            "text/html": [
              "<span style=\"color:cyan\"> |-Trial ID: 1c22ba01eb767a687c4151b949418e54</span>"
            ],
            "text/plain": [
              "<IPython.core.display.HTML object>"
            ]
          },
          "metadata": {
            "tags": []
          }
        },
        {
          "output_type": "display_data",
          "data": {
            "text/html": [
              "<span style=\"color:cyan\"> |-Score: 551.3763631184896</span>"
            ],
            "text/plain": [
              "<IPython.core.display.HTML object>"
            ]
          },
          "metadata": {
            "tags": []
          }
        },
        {
          "output_type": "display_data",
          "data": {
            "text/html": [
              "<span style=\"color:cyan\"> |-Best step: 0</span>"
            ],
            "text/plain": [
              "<IPython.core.display.HTML object>"
            ]
          },
          "metadata": {
            "tags": []
          }
        },
        {
          "output_type": "display_data",
          "data": {
            "text/html": [
              "<span style=\"color:#7E57C2\"><h2 style=\"font-size:16px\">Hyperparameters:</h2></span>"
            ],
            "text/plain": [
              "<IPython.core.display.HTML object>"
            ]
          },
          "metadata": {
            "tags": []
          }
        },
        {
          "output_type": "display_data",
          "data": {
            "text/html": [
              "<span style=\"color:cyan\"> |-learning_rate: 0.0001</span>"
            ],
            "text/plain": [
              "<IPython.core.display.HTML object>"
            ]
          },
          "metadata": {
            "tags": []
          }
        },
        {
          "output_type": "display_data",
          "data": {
            "text/html": [
              "<span style=\"color:blue\"> |-units: 128</span>"
            ],
            "text/plain": [
              "<IPython.core.display.HTML object>"
            ]
          },
          "metadata": {
            "tags": []
          }
        }
      ]
    },
    {
      "cell_type": "code",
      "metadata": {
        "id": "Z7FymqHHwCEc",
        "colab_type": "code",
        "colab": {
          "base_uri": "https://localhost:8080/",
          "height": 35
        },
        "outputId": "76eead42-0b9a-4c98-962a-45b4f6afecc5"
      },
      "source": [
        "tuner.get_best_hyperparameters(1)[0].values"
      ],
      "execution_count": null,
      "outputs": [
        {
          "output_type": "execute_result",
          "data": {
            "text/plain": [
              "{'learning_rate': 0.001, 'units': 384}"
            ]
          },
          "metadata": {
            "tags": []
          },
          "execution_count": 44
        }
      ]
    },
    {
      "cell_type": "markdown",
      "metadata": {
        "id": "g1NnsarwE-ry",
        "colab_type": "text"
      },
      "source": [
        "## Challenge\n",
        "\n",
        "Try to apply RandomSearchCV to your module project today. "
      ]
    },
    {
      "cell_type": "markdown",
      "metadata": {
        "id": "tFzNcABME-ry",
        "colab_type": "text"
      },
      "source": [
        "# Review\n",
        "* <a href=\"#p1\">Part 1</a>: Describe the major hyperparemeters to tune\n",
        "    - Activation Functions\n",
        "    - Optimizer\n",
        "    - Number of Layers\n",
        "    - Number of Neurons\n",
        "    - Batch Size\n",
        "    - Dropout Regulaization\n",
        "    - Learning Rate\n",
        "    - Number of Epochs\n",
        "    - and many more\n",
        "* <a href=\"#p2\">Part 2</a>: Implement an experiment tracking framework\n",
        "    - Weights & Biases\n",
        "    - Comet.ml\n",
        "    - By Hand / GridSearch\n",
        "* <a href=\"#p3\">Part 3</a>: Search the hyperparameter space using RandomSearch\n",
        "    - Sklearn still useful (haha)\n",
        "    - Integration with Wieghts & Biases\n",
        "* <a href=\"#p4\">Part 4</a>: Discuss emerging hyperparameter tuning strategies\n",
        "    - Bayesian Optimization\n",
        "    - Hyperopt\n",
        "    - Genetic Evolution"
      ]
    },
    {
      "cell_type": "markdown",
      "metadata": {
        "id": "kv2C8aVME-rz",
        "colab_type": "text"
      },
      "source": [
        "# Sources"
      ]
    },
    {
      "cell_type": "markdown",
      "metadata": {
        "id": "f1u0YL0ME-rz",
        "colab_type": "text"
      },
      "source": [
        "## Additional Reading\n",
        "- https://machinelearningmastery.com/grid-search-hyperparameters-deep-learning-models-python-keras/\n",
        "- https://blog.floydhub.com/guide-to-hyperparameters-search-for-deep-learning-models/\n",
        "- https://machinelearningmastery.com/dropout-regularization-deep-learning-models-keras/\n",
        "- https://machinelearningmastery.com/introduction-to-weight-constraints-to-reduce-generalization-error-in-deep-learning/\n",
        "- https://machinelearningmastery.com/how-to-configure-the-number-of-layers-and-nodes-in-a-neural-network/"
      ]
    }
  ]
}