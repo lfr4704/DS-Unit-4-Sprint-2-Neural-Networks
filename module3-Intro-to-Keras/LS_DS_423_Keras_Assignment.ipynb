{
 "cells": [
  {
   "cell_type": "markdown",
   "metadata": {
    "colab_type": "text",
    "id": "pBQsZEJmubLs"
   },
   "source": [
    "<img align=\"left\" src=\"https://lever-client-logos.s3.amazonaws.com/864372b1-534c-480e-acd5-9711f850815c-1524247202159.png\" width=200>\n",
    "<br></br>\n",
    "\n",
    "# Neural Network Framework (Keras)\n",
    "\n",
    "## *Data Science Unit 4 Sprint 2 Assignment 3*\n",
    "\n",
    "## Use the Keras Library to build a Multi-Layer Perceptron Model on the Boston Housing dataset\n",
    "\n",
    "- The Boston Housing dataset comes with the Keras library so use Keras to import it into your notebook. \n",
    "- Normalize the data (all features should have roughly the same scale)\n",
    "- Import the type of model and layers that you will need from Keras.\n",
    "- Instantiate a model object and use `model.add()` to add layers to your model\n",
    "- Since this is a regression model you will have a single output node in the final layer.\n",
    "- Use activation functions that are appropriate for this task\n",
    "- Compile your model\n",
    "- Fit your model and report its accuracy in terms of Mean Squared Error\n",
    "- Use the history object that is returned from model.fit to make graphs of the model's loss or train/validation accuracies by epoch. \n",
    "- Run this same data through a linear regression model. Which achieves higher accuracy?\n",
    "- Do a little bit of feature engineering and see how that affects your neural network model. (you will need to change your model to accept more inputs)\n",
    "- After feature engineering, which model sees a greater accuracy boost due to the new features?"
   ]
  },
  {
   "cell_type": "code",
   "execution_count": 3,
   "metadata": {
    "colab": {},
    "colab_type": "code",
    "id": "8NLTAR87uYJ-"
   },
   "outputs": [
    {
     "data": {
      "text/plain": [
       "((array([[1.23247e+00, 0.00000e+00, 8.14000e+00, ..., 2.10000e+01,\n",
       "          3.96900e+02, 1.87200e+01],\n",
       "         [2.17700e-02, 8.25000e+01, 2.03000e+00, ..., 1.47000e+01,\n",
       "          3.95380e+02, 3.11000e+00],\n",
       "         [4.89822e+00, 0.00000e+00, 1.81000e+01, ..., 2.02000e+01,\n",
       "          3.75520e+02, 3.26000e+00],\n",
       "         ...,\n",
       "         [3.46600e-02, 3.50000e+01, 6.06000e+00, ..., 1.69000e+01,\n",
       "          3.62250e+02, 7.83000e+00],\n",
       "         [2.14918e+00, 0.00000e+00, 1.95800e+01, ..., 1.47000e+01,\n",
       "          2.61950e+02, 1.57900e+01],\n",
       "         [1.43900e-02, 6.00000e+01, 2.93000e+00, ..., 1.56000e+01,\n",
       "          3.76700e+02, 4.38000e+00]]),\n",
       "  array([15.2, 42.3, 50. , 21.1, 17.7, 18.5, 11.3, 15.6, 15.6, 14.4, 12.1,\n",
       "         17.9, 23.1, 19.9, 15.7,  8.8, 50. , 22.5, 24.1, 27.5, 10.9, 30.8,\n",
       "         32.9, 24. , 18.5, 13.3, 22.9, 34.7, 16.6, 17.5, 22.3, 16.1, 14.9,\n",
       "         23.1, 34.9, 25. , 13.9, 13.1, 20.4, 20. , 15.2, 24.7, 22.2, 16.7,\n",
       "         12.7, 15.6, 18.4, 21. , 30.1, 15.1, 18.7,  9.6, 31.5, 24.8, 19.1,\n",
       "         22. , 14.5, 11. , 32. , 29.4, 20.3, 24.4, 14.6, 19.5, 14.1, 14.3,\n",
       "         15.6, 10.5,  6.3, 19.3, 19.3, 13.4, 36.4, 17.8, 13.5, 16.5,  8.3,\n",
       "         14.3, 16. , 13.4, 28.6, 43.5, 20.2, 22. , 23. , 20.7, 12.5, 48.5,\n",
       "         14.6, 13.4, 23.7, 50. , 21.7, 39.8, 38.7, 22.2, 34.9, 22.5, 31.1,\n",
       "         28.7, 46. , 41.7, 21. , 26.6, 15. , 24.4, 13.3, 21.2, 11.7, 21.7,\n",
       "         19.4, 50. , 22.8, 19.7, 24.7, 36.2, 14.2, 18.9, 18.3, 20.6, 24.6,\n",
       "         18.2,  8.7, 44. , 10.4, 13.2, 21.2, 37. , 30.7, 22.9, 20. , 19.3,\n",
       "         31.7, 32. , 23.1, 18.8, 10.9, 50. , 19.6,  5. , 14.4, 19.8, 13.8,\n",
       "         19.6, 23.9, 24.5, 25. , 19.9, 17.2, 24.6, 13.5, 26.6, 21.4, 11.9,\n",
       "         22.6, 19.6,  8.5, 23.7, 23.1, 22.4, 20.5, 23.6, 18.4, 35.2, 23.1,\n",
       "         27.9, 20.6, 23.7, 28. , 13.6, 27.1, 23.6, 20.6, 18.2, 21.7, 17.1,\n",
       "          8.4, 25.3, 13.8, 22.2, 18.4, 20.7, 31.6, 30.5, 20.3,  8.8, 19.2,\n",
       "         19.4, 23.1, 23. , 14.8, 48.8, 22.6, 33.4, 21.1, 13.6, 32.2, 13.1,\n",
       "         23.4, 18.9, 23.9, 11.8, 23.3, 22.8, 19.6, 16.7, 13.4, 22.2, 20.4,\n",
       "         21.8, 26.4, 14.9, 24.1, 23.8, 12.3, 29.1, 21. , 19.5, 23.3, 23.8,\n",
       "         17.8, 11.5, 21.7, 19.9, 25. , 33.4, 28.5, 21.4, 24.3, 27.5, 33.1,\n",
       "         16.2, 23.3, 48.3, 22.9, 22.8, 13.1, 12.7, 22.6, 15. , 15.3, 10.5,\n",
       "         24. , 18.5, 21.7, 19.5, 33.2, 23.2,  5. , 19.1, 12.7, 22.3, 10.2,\n",
       "         13.9, 16.3, 17. , 20.1, 29.9, 17.2, 37.3, 45.4, 17.8, 23.2, 29. ,\n",
       "         22. , 18. , 17.4, 34.6, 20.1, 25. , 15.6, 24.8, 28.2, 21.2, 21.4,\n",
       "         23.8, 31. , 26.2, 17.4, 37.9, 17.5, 20. ,  8.3, 23.9,  8.4, 13.8,\n",
       "          7.2, 11.7, 17.1, 21.6, 50. , 16.1, 20.4, 20.6, 21.4, 20.6, 36.5,\n",
       "          8.5, 24.8, 10.8, 21.9, 17.3, 18.9, 36.2, 14.9, 18.2, 33.3, 21.8,\n",
       "         19.7, 31.6, 24.8, 19.4, 22.8,  7.5, 44.8, 16.8, 18.7, 50. , 50. ,\n",
       "         19.5, 20.1, 50. , 17.2, 20.8, 19.3, 41.3, 20.4, 20.5, 13.8, 16.5,\n",
       "         23.9, 20.6, 31.5, 23.3, 16.8, 14. , 33.8, 36.1, 12.8, 18.3, 18.7,\n",
       "         19.1, 29. , 30.1, 50. , 50. , 22. , 11.9, 37.6, 50. , 22.7, 20.8,\n",
       "         23.5, 27.9, 50. , 19.3, 23.9, 22.6, 15.2, 21.7, 19.2, 43.8, 20.3,\n",
       "         33.2, 19.9, 22.5, 32.7, 22. , 17.1, 19. , 15. , 16.1, 25.1, 23.7,\n",
       "         28.7, 37.2, 22.6, 16.4, 25. , 29.8, 22.1, 17.4, 18.1, 30.3, 17.5,\n",
       "         24.7, 12.6, 26.5, 28.7, 13.3, 10.4, 24.4, 23. , 20. , 17.8,  7. ,\n",
       "         11.8, 24.4, 13.8, 19.4, 25.2, 19.4, 19.4, 29.1])),\n",
       " (array([[1.80846e+01, 0.00000e+00, 1.81000e+01, ..., 2.02000e+01,\n",
       "          2.72500e+01, 2.90500e+01],\n",
       "         [1.23290e-01, 0.00000e+00, 1.00100e+01, ..., 1.78000e+01,\n",
       "          3.94950e+02, 1.62100e+01],\n",
       "         [5.49700e-02, 0.00000e+00, 5.19000e+00, ..., 2.02000e+01,\n",
       "          3.96900e+02, 9.74000e+00],\n",
       "         ...,\n",
       "         [1.83377e+00, 0.00000e+00, 1.95800e+01, ..., 1.47000e+01,\n",
       "          3.89610e+02, 1.92000e+00],\n",
       "         [3.58090e-01, 0.00000e+00, 6.20000e+00, ..., 1.74000e+01,\n",
       "          3.91700e+02, 9.71000e+00],\n",
       "         [2.92400e+00, 0.00000e+00, 1.95800e+01, ..., 1.47000e+01,\n",
       "          2.40160e+02, 9.81000e+00]]),\n",
       "  array([ 7.2, 18.8, 19. , 27. , 22.2, 24.5, 31.2, 22.9, 20.5, 23.2, 18.6,\n",
       "         14.5, 17.8, 50. , 20.8, 24.3, 24.2, 19.8, 19.1, 22.7, 12. , 10.2,\n",
       "         20. , 18.5, 20.9, 23. , 27.5, 30.1,  9.5, 22. , 21.2, 14.1, 33.1,\n",
       "         23.4, 20.1,  7.4, 15.4, 23.8, 20.1, 24.5, 33. , 28.4, 14.1, 46.7,\n",
       "         32.5, 29.6, 28.4, 19.8, 20.2, 25. , 35.4, 20.3,  9.7, 14.5, 34.9,\n",
       "         26.6,  7.2, 50. , 32.4, 21.6, 29.8, 13.1, 27.5, 21.2, 23.1, 21.9,\n",
       "         13. , 23.2,  8.1,  5.6, 21.7, 29.6, 19.6,  7. , 26.4, 18.9, 20.9,\n",
       "         28.1, 35.4, 10.2, 24.3, 43.1, 17.6, 15.4, 16.2, 27.1, 21.4, 21.5,\n",
       "         22.4, 25. , 16.6, 18.6, 22. , 42.8, 35.1, 21.5, 36. , 21.9, 24.1,\n",
       "         50. , 26.7, 25. ])))"
      ]
     },
     "execution_count": 3,
     "metadata": {},
     "output_type": "execute_result"
    }
   ],
   "source": [
    "##### Your Code Here #####\n",
    "import tensorflow as tf\n",
    "from sklearn import datasets\n",
    "boston = datasets.load_boston()\n",
    "feature_names = boston['feature_names']\n",
    "\n",
    "tf.keras.datasets.boston_housing.load_data(\n",
    "    path=\"boston_housing.npz\", test_split=0.2, seed=113\n",
    ")\n",
    "\n"
   ]
  },
  {
   "cell_type": "code",
   "execution_count": 4,
   "metadata": {},
   "outputs": [
    {
     "data": {
      "text/plain": [
       "array(['CRIM', 'ZN', 'INDUS', 'CHAS', 'NOX', 'RM', 'AGE', 'DIS', 'RAD',\n",
       "       'TAX', 'PTRATIO', 'B', 'LSTAT'], dtype='<U7')"
      ]
     },
     "execution_count": 4,
     "metadata": {},
     "output_type": "execute_result"
    }
   ],
   "source": [
    "feature_names"
   ]
  },
  {
   "cell_type": "code",
   "execution_count": 5,
   "metadata": {},
   "outputs": [
    {
     "name": "stdout",
     "output_type": "stream",
     "text": [
      ".. _boston_dataset:\n",
      "\n",
      "Boston house prices dataset\n",
      "---------------------------\n",
      "\n",
      "**Data Set Characteristics:**  \n",
      "\n",
      "    :Number of Instances: 506 \n",
      "\n",
      "    :Number of Attributes: 13 numeric/categorical predictive. Median Value (attribute 14) is usually the target.\n",
      "\n",
      "    :Attribute Information (in order):\n",
      "        - CRIM     per capita crime rate by town\n",
      "        - ZN       proportion of residential land zoned for lots over 25,000 sq.ft.\n",
      "        - INDUS    proportion of non-retail business acres per town\n",
      "        - CHAS     Charles River dummy variable (= 1 if tract bounds river; 0 otherwise)\n",
      "        - NOX      nitric oxides concentration (parts per 10 million)\n",
      "        - RM       average number of rooms per dwelling\n",
      "        - AGE      proportion of owner-occupied units built prior to 1940\n",
      "        - DIS      weighted distances to five Boston employment centres\n",
      "        - RAD      index of accessibility to radial highways\n",
      "        - TAX      full-value property-tax rate per $10,000\n",
      "        - PTRATIO  pupil-teacher ratio by town\n",
      "        - B        1000(Bk - 0.63)^2 where Bk is the proportion of blacks by town\n",
      "        - LSTAT    % lower status of the population\n",
      "        - MEDV     Median value of owner-occupied homes in $1000's\n",
      "\n",
      "    :Missing Attribute Values: None\n",
      "\n",
      "    :Creator: Harrison, D. and Rubinfeld, D.L.\n",
      "\n",
      "This is a copy of UCI ML housing dataset.\n",
      "https://archive.ics.uci.edu/ml/machine-learning-databases/housing/\n",
      "\n",
      "\n",
      "This dataset was taken from the StatLib library which is maintained at Carnegie Mellon University.\n",
      "\n",
      "The Boston house-price data of Harrison, D. and Rubinfeld, D.L. 'Hedonic\n",
      "prices and the demand for clean air', J. Environ. Economics & Management,\n",
      "vol.5, 81-102, 1978.   Used in Belsley, Kuh & Welsch, 'Regression diagnostics\n",
      "...', Wiley, 1980.   N.B. Various transformations are used in the table on\n",
      "pages 244-261 of the latter.\n",
      "\n",
      "The Boston house-price data has been used in many machine learning papers that address regression\n",
      "problems.   \n",
      "     \n",
      ".. topic:: References\n",
      "\n",
      "   - Belsley, Kuh & Welsch, 'Regression diagnostics: Identifying Influential Data and Sources of Collinearity', Wiley, 1980. 244-261.\n",
      "   - Quinlan,R. (1993). Combining Instance-Based and Model-Based Learning. In Proceedings on the Tenth International Conference of Machine Learning, 236-243, University of Massachusetts, Amherst. Morgan Kaufmann.\n",
      "\n"
     ]
    }
   ],
   "source": [
    "print(boston['DESCR'])"
   ]
  },
  {
   "cell_type": "code",
   "execution_count": 6,
   "metadata": {},
   "outputs": [],
   "source": [
    "from tensorflow.keras.datasets import boston_housing\n",
    "from tensorflow.keras.models import Sequential\n",
    "from tensorflow.keras.layers import Dense, Activation\n",
    "import numpy as np\n",
    "from sklearn.model_selection import train_test_split\n",
    "from tensorflow.keras.callbacks import EarlyStopping\n",
    "\n",
    "\n",
    "\n",
    "\n",
    "import time\n",
    "start_time = time.time()\n",
    "\n",
    "#load data and target vector from boston data\n",
    "(X_train, y_train), (X_test, y_test) = boston_housing.load_data()"
   ]
  },
  {
   "cell_type": "code",
   "execution_count": 7,
   "metadata": {},
   "outputs": [
    {
     "data": {
      "text/plain": [
       "((404, 13), (404,))"
      ]
     },
     "execution_count": 7,
     "metadata": {},
     "output_type": "execute_result"
    }
   ],
   "source": [
    "X_train.shape, y_train.shape"
   ]
  },
  {
   "cell_type": "code",
   "execution_count": 8,
   "metadata": {},
   "outputs": [
    {
     "data": {
      "text/plain": [
       "array([[1.23247e+00, 0.00000e+00, 8.14000e+00, ..., 2.10000e+01,\n",
       "        3.96900e+02, 1.87200e+01],\n",
       "       [2.17700e-02, 8.25000e+01, 2.03000e+00, ..., 1.47000e+01,\n",
       "        3.95380e+02, 3.11000e+00],\n",
       "       [4.89822e+00, 0.00000e+00, 1.81000e+01, ..., 2.02000e+01,\n",
       "        3.75520e+02, 3.26000e+00],\n",
       "       ...,\n",
       "       [3.46600e-02, 3.50000e+01, 6.06000e+00, ..., 1.69000e+01,\n",
       "        3.62250e+02, 7.83000e+00],\n",
       "       [2.14918e+00, 0.00000e+00, 1.95800e+01, ..., 1.47000e+01,\n",
       "        2.61950e+02, 1.57900e+01],\n",
       "       [1.43900e-02, 6.00000e+01, 2.93000e+00, ..., 1.56000e+01,\n",
       "        3.76700e+02, 4.38000e+00]])"
      ]
     },
     "execution_count": 8,
     "metadata": {},
     "output_type": "execute_result"
    }
   ],
   "source": [
    "X_train"
   ]
  },
  {
   "cell_type": "code",
   "execution_count": 9,
   "metadata": {},
   "outputs": [
    {
     "data": {
      "text/plain": [
       "array([[1.80846e+01, 0.00000e+00, 1.81000e+01, ..., 2.02000e+01,\n",
       "        2.72500e+01, 2.90500e+01],\n",
       "       [1.23290e-01, 0.00000e+00, 1.00100e+01, ..., 1.78000e+01,\n",
       "        3.94950e+02, 1.62100e+01],\n",
       "       [5.49700e-02, 0.00000e+00, 5.19000e+00, ..., 2.02000e+01,\n",
       "        3.96900e+02, 9.74000e+00],\n",
       "       ...,\n",
       "       [1.83377e+00, 0.00000e+00, 1.95800e+01, ..., 1.47000e+01,\n",
       "        3.89610e+02, 1.92000e+00],\n",
       "       [3.58090e-01, 0.00000e+00, 6.20000e+00, ..., 1.74000e+01,\n",
       "        3.91700e+02, 9.71000e+00],\n",
       "       [2.92400e+00, 0.00000e+00, 1.95800e+01, ..., 1.47000e+01,\n",
       "        2.40160e+02, 9.81000e+00]])"
      ]
     },
     "execution_count": 9,
     "metadata": {},
     "output_type": "execute_result"
    }
   ],
   "source": [
    "X_test"
   ]
  },
  {
   "cell_type": "code",
   "execution_count": 10,
   "metadata": {},
   "outputs": [
    {
     "data": {
      "text/plain": [
       "((102, 13), (102,))"
      ]
     },
     "execution_count": 10,
     "metadata": {},
     "output_type": "execute_result"
    }
   ],
   "source": [
    "X_test.shape, y_test.shape"
   ]
  },
  {
   "cell_type": "code",
   "execution_count": 11,
   "metadata": {},
   "outputs": [],
   "source": [
    "# X_train, X_val = train_test_split(X_train, train_size=0.8, test_size=0.2, random_state=42)\n",
    "# X_train.shape, X_val.shape"
   ]
  },
  {
   "cell_type": "code",
   "execution_count": 12,
   "metadata": {},
   "outputs": [
    {
     "data": {
      "text/plain": [
       "LinearRegression(copy_X=True, fit_intercept=True, n_jobs=None, normalize=False)"
      ]
     },
     "execution_count": 12,
     "metadata": {},
     "output_type": "execute_result"
    }
   ],
   "source": [
    "from sklearn.linear_model import LinearRegression\n",
    "\n",
    "model = LinearRegression()\n",
    "model.fit(X_train, y_train)"
   ]
  },
  {
   "cell_type": "code",
   "execution_count": 13,
   "metadata": {},
   "outputs": [
    {
     "data": {
      "text/plain": [
       "23.195599256422906"
      ]
     },
     "execution_count": 13,
     "metadata": {},
     "output_type": "execute_result"
    }
   ],
   "source": [
    "from sklearn.metrics import mean_absolute_error, mean_squared_error\n",
    "pred = model.predict(X_test)\n",
    "mean_squared_error(pred, y_test)\n"
   ]
  },
  {
   "cell_type": "code",
   "execution_count": null,
   "metadata": {},
   "outputs": [],
   "source": []
  },
  {
   "cell_type": "markdown",
   "metadata": {},
   "source": [
    "### Normalizing the data"
   ]
  },
  {
   "cell_type": "code",
   "execution_count": 14,
   "metadata": {},
   "outputs": [],
   "source": [
    "\n",
    "from tensorflow.keras.models import Sequential\n",
    "from tensorflow.keras.layers import Dense, Activation\n",
    "import numpy as np\n",
    "from sklearn.model_selection import train_test_split\n",
    "from tensorflow.keras.callbacks import EarlyStopping\n",
    "\n",
    "from sklearn.preprocessing import Normalizer\n",
    "\n",
    "n = Normalizer()\n",
    "\n",
    "#load data and target vector from boston data\n",
    "(X_train, y_train), (X_test, y_test) = boston_housing.load_data()\n"
   ]
  },
  {
   "cell_type": "code",
   "execution_count": 15,
   "metadata": {},
   "outputs": [],
   "source": [
    "X_train = n.fit_transform(X_train)\n",
    "X_test = n.fit_transform(X_test)"
   ]
  },
  {
   "cell_type": "code",
   "execution_count": 16,
   "metadata": {},
   "outputs": [
    {
     "data": {
      "text/plain": [
       "array([[2.41189924e-03, 0.00000000e+00, 1.59296858e-02, ...,\n",
       "        4.10962409e-02, 7.76718953e-01, 3.66343633e-02],\n",
       "       [4.07923050e-05, 1.54587284e-01, 3.80378407e-03, ...,\n",
       "        2.75446433e-02, 7.40857215e-01, 5.82747215e-03],\n",
       "       [6.34505528e-03, 0.00000000e+00, 2.34463745e-02, ...,\n",
       "        2.61666721e-02, 4.86441025e-01, 4.22293817e-03],\n",
       "       ...,\n",
       "       [7.29281484e-05, 7.36435428e-02, 1.27508534e-02, ...,\n",
       "        3.55593107e-02, 7.62210668e-01, 1.64751126e-02],\n",
       "       [4.37205159e-03, 0.00000000e+00, 3.98313637e-02, ...,\n",
       "        2.99040371e-02, 5.32881804e-01, 3.21214113e-02],\n",
       "       [3.09311543e-05, 1.28969372e-01, 6.29800433e-03, ...,\n",
       "        3.35320367e-02, 8.09712706e-01, 9.41476414e-03]])"
      ]
     },
     "execution_count": 16,
     "metadata": {},
     "output_type": "execute_result"
    }
   ],
   "source": [
    "X_train"
   ]
  },
  {
   "cell_type": "code",
   "execution_count": 17,
   "metadata": {},
   "outputs": [
    {
     "data": {
      "text/plain": [
       "array([[2.67567471e-02, 0.00000000e+00, 2.67795319e-02, ...,\n",
       "        2.98865495e-02, 4.03172511e-02, 4.29804090e-02],\n",
       "       [2.07806276e-04, 0.00000000e+00, 1.68719346e-02, ...,\n",
       "        3.00020416e-02, 6.65691367e-01, 2.73220840e-02],\n",
       "       [1.19845746e-04, 0.00000000e+00, 1.13152524e-02, ...,\n",
       "        4.40400960e-02, 8.65322480e-01, 2.12351750e-02],\n",
       "       ...,\n",
       "       [3.21889389e-03, 0.00000000e+00, 3.43696005e-02, ...,\n",
       "        2.58035305e-02, 6.83898879e-01, 3.37025704e-03],\n",
       "       [7.07644197e-04, 0.00000000e+00, 1.22522104e-02, ...,\n",
       "        3.43852356e-02, 7.74063034e-01, 1.91885424e-02],\n",
       "       [6.10350794e-03, 0.00000000e+00, 4.08709594e-02, ...,\n",
       "        3.06845303e-02, 5.01305905e-01, 2.04772274e-02]])"
      ]
     },
     "execution_count": 17,
     "metadata": {},
     "output_type": "execute_result"
    }
   ],
   "source": [
    "X_test"
   ]
  },
  {
   "cell_type": "code",
   "execution_count": 18,
   "metadata": {},
   "outputs": [
    {
     "data": {
      "text/plain": [
       "18.16551049349646"
      ]
     },
     "execution_count": 18,
     "metadata": {},
     "output_type": "execute_result"
    }
   ],
   "source": [
    "model = LinearRegression()\n",
    "model.fit(X_train, y_train)\n",
    "\n",
    "pred = model.predict(X_test)\n",
    "mean_squared_error(pred, y_test)"
   ]
  },
  {
   "cell_type": "markdown",
   "metadata": {},
   "source": [
    "### Neural Network Model"
   ]
  },
  {
   "cell_type": "code",
   "execution_count": 19,
   "metadata": {},
   "outputs": [],
   "source": [
    "from tensorflow.keras.datasets import boston_housing\n",
    "from tensorflow.keras.models import Sequential\n",
    "from tensorflow.keras.layers import Dense, Activation\n",
    "\n",
    "model = Sequential(name = \"boston_model\")\n",
    "model.add(Dense(10, input_shape=(X_train.shape[1],), activation='sigmoid'))\n",
    "model.add(Dense(10, activation = \"relu\"))\n",
    "\n",
    "model.compile(loss='mean_squared_error', optimizer='SGD', metrics=['mean_squared_error'])"
   ]
  },
  {
   "cell_type": "code",
   "execution_count": 20,
   "metadata": {},
   "outputs": [
    {
     "name": "stdout",
     "output_type": "stream",
     "text": [
      "Model: \"boston_model\"\n",
      "_________________________________________________________________\n",
      "Layer (type)                 Output Shape              Param #   \n",
      "=================================================================\n",
      "dense (Dense)                (None, 10)                140       \n",
      "_________________________________________________________________\n",
      "dense_1 (Dense)              (None, 10)                110       \n",
      "=================================================================\n",
      "Total params: 250\n",
      "Trainable params: 250\n",
      "Non-trainable params: 0\n",
      "_________________________________________________________________\n"
     ]
    }
   ],
   "source": [
    "model.summary()"
   ]
  },
  {
   "cell_type": "code",
   "execution_count": 21,
   "metadata": {},
   "outputs": [
    {
     "name": "stdout",
     "output_type": "stream",
     "text": [
      "Epoch 1/100\n",
      "13/13 [==============================] - 0s 25ms/step - loss: 567.5817 - mean_squared_error: 567.5817\n",
      "Epoch 2/100\n",
      "13/13 [==============================] - 0s 2ms/step - loss: 543.4210 - mean_squared_error: 543.4210\n",
      "Epoch 3/100\n",
      "13/13 [==============================] - 0s 1ms/step - loss: 430.0934 - mean_squared_error: 430.0934\n",
      "Epoch 4/100\n",
      "13/13 [==============================] - 0s 2ms/step - loss: 363.3936 - mean_squared_error: 363.3936\n",
      "Epoch 5/100\n",
      "13/13 [==============================] - 0s 1ms/step - loss: 338.9470 - mean_squared_error: 338.9470\n",
      "Epoch 6/100\n",
      "13/13 [==============================] - 0s 2ms/step - loss: 336.6081 - mean_squared_error: 336.6081\n",
      "Epoch 7/100\n",
      "13/13 [==============================] - 0s 2ms/step - loss: 324.9482 - mean_squared_error: 324.9482\n",
      "Epoch 8/100\n",
      "13/13 [==============================] - 0s 1ms/step - loss: 289.3683 - mean_squared_error: 289.3683\n",
      "Epoch 9/100\n",
      "13/13 [==============================] - 0s 2ms/step - loss: 309.3080 - mean_squared_error: 309.3080\n",
      "Epoch 10/100\n",
      "13/13 [==============================] - 0s 1ms/step - loss: 266.5604 - mean_squared_error: 266.5604\n",
      "Epoch 11/100\n",
      "13/13 [==============================] - 0s 2ms/step - loss: 302.4675 - mean_squared_error: 302.4675\n",
      "Epoch 12/100\n",
      "13/13 [==============================] - 0s 2ms/step - loss: 278.9728 - mean_squared_error: 278.9728\n",
      "Epoch 13/100\n",
      "13/13 [==============================] - 0s 1ms/step - loss: 283.5511 - mean_squared_error: 283.5511\n",
      "Epoch 14/100\n",
      "13/13 [==============================] - 0s 2ms/step - loss: 316.5775 - mean_squared_error: 316.5775\n",
      "Epoch 15/100\n",
      "13/13 [==============================] - 0s 1ms/step - loss: 301.0194 - mean_squared_error: 301.0194\n",
      "Epoch 16/100\n",
      "13/13 [==============================] - 0s 1ms/step - loss: 286.2417 - mean_squared_error: 286.2417\n",
      "Epoch 17/100\n",
      "13/13 [==============================] - 0s 2ms/step - loss: 261.3748 - mean_squared_error: 261.3748\n",
      "Epoch 18/100\n",
      "13/13 [==============================] - 0s 2ms/step - loss: 287.4639 - mean_squared_error: 287.4639\n",
      "Epoch 19/100\n",
      "13/13 [==============================] - 0s 2ms/step - loss: 295.5814 - mean_squared_error: 295.5814\n",
      "Epoch 20/100\n",
      "13/13 [==============================] - 0s 2ms/step - loss: 281.9566 - mean_squared_error: 281.9566\n",
      "Epoch 21/100\n",
      "13/13 [==============================] - 0s 1ms/step - loss: 303.7800 - mean_squared_error: 303.7800\n",
      "Epoch 22/100\n",
      "13/13 [==============================] - 0s 2ms/step - loss: 269.0951 - mean_squared_error: 269.0951\n",
      "Epoch 23/100\n",
      "13/13 [==============================] - 0s 2ms/step - loss: 278.8526 - mean_squared_error: 278.8526\n",
      "Epoch 24/100\n",
      "13/13 [==============================] - 0s 2ms/step - loss: 287.6775 - mean_squared_error: 287.6775\n",
      "Epoch 25/100\n",
      "13/13 [==============================] - 0s 2ms/step - loss: 284.3122 - mean_squared_error: 284.3122\n",
      "Epoch 26/100\n",
      "13/13 [==============================] - 0s 2ms/step - loss: 281.1418 - mean_squared_error: 281.1418\n",
      "Epoch 27/100\n",
      "13/13 [==============================] - 0s 3ms/step - loss: 302.4477 - mean_squared_error: 302.4477\n",
      "Epoch 28/100\n",
      "13/13 [==============================] - 0s 2ms/step - loss: 276.1591 - mean_squared_error: 276.1591\n",
      "Epoch 29/100\n",
      "13/13 [==============================] - 0s 2ms/step - loss: 285.7255 - mean_squared_error: 285.7255\n",
      "Epoch 30/100\n",
      "13/13 [==============================] - 0s 2ms/step - loss: 278.9319 - mean_squared_error: 278.9319\n",
      "Epoch 31/100\n",
      "13/13 [==============================] - 0s 2ms/step - loss: 284.1079 - mean_squared_error: 284.1079\n",
      "Epoch 32/100\n",
      "13/13 [==============================] - 0s 2ms/step - loss: 293.9253 - mean_squared_error: 293.9253\n",
      "Epoch 33/100\n",
      "13/13 [==============================] - 0s 2ms/step - loss: 289.3846 - mean_squared_error: 289.3846\n",
      "Epoch 34/100\n",
      "13/13 [==============================] - 0s 2ms/step - loss: 290.4871 - mean_squared_error: 290.4871\n",
      "Epoch 35/100\n",
      "13/13 [==============================] - 0s 1ms/step - loss: 289.9793 - mean_squared_error: 289.9793\n",
      "Epoch 36/100\n",
      "13/13 [==============================] - 0s 2ms/step - loss: 290.3046 - mean_squared_error: 290.3046\n",
      "Epoch 37/100\n",
      "13/13 [==============================] - 0s 2ms/step - loss: 260.5879 - mean_squared_error: 260.5879\n",
      "Epoch 38/100\n",
      "13/13 [==============================] - 0s 2ms/step - loss: 294.4026 - mean_squared_error: 294.4026\n",
      "Epoch 39/100\n",
      "13/13 [==============================] - 0s 2ms/step - loss: 277.7650 - mean_squared_error: 277.7650\n",
      "Epoch 40/100\n",
      "13/13 [==============================] - 0s 2ms/step - loss: 270.4861 - mean_squared_error: 270.4861\n",
      "Epoch 41/100\n",
      "13/13 [==============================] - 0s 2ms/step - loss: 307.3901 - mean_squared_error: 307.3901\n",
      "Epoch 42/100\n",
      "13/13 [==============================] - 0s 2ms/step - loss: 296.9248 - mean_squared_error: 296.9248\n",
      "Epoch 43/100\n",
      "13/13 [==============================] - 0s 2ms/step - loss: 272.7441 - mean_squared_error: 272.7441\n",
      "Epoch 44/100\n",
      "13/13 [==============================] - 0s 2ms/step - loss: 242.6299 - mean_squared_error: 242.6299\n",
      "Epoch 45/100\n",
      "13/13 [==============================] - 0s 2ms/step - loss: 248.1201 - mean_squared_error: 248.1201\n",
      "Epoch 46/100\n",
      "13/13 [==============================] - 0s 2ms/step - loss: 239.6475 - mean_squared_error: 239.6475\n",
      "Epoch 47/100\n",
      "13/13 [==============================] - 0s 2ms/step - loss: 232.4458 - mean_squared_error: 232.4458\n",
      "Epoch 48/100\n",
      "13/13 [==============================] - 0s 2ms/step - loss: 215.3637 - mean_squared_error: 215.3637\n",
      "Epoch 49/100\n",
      "13/13 [==============================] - 0s 2ms/step - loss: 237.0853 - mean_squared_error: 237.0853\n",
      "Epoch 50/100\n",
      "13/13 [==============================] - 0s 2ms/step - loss: 244.3557 - mean_squared_error: 244.3557\n",
      "Epoch 51/100\n",
      "13/13 [==============================] - 0s 2ms/step - loss: 238.0673 - mean_squared_error: 238.0673\n",
      "Epoch 52/100\n",
      "13/13 [==============================] - 0s 2ms/step - loss: 236.0765 - mean_squared_error: 236.0765\n",
      "Epoch 53/100\n",
      "13/13 [==============================] - 0s 2ms/step - loss: 216.2370 - mean_squared_error: 216.2370\n",
      "Epoch 54/100\n",
      "13/13 [==============================] - 0s 2ms/step - loss: 215.9612 - mean_squared_error: 215.9612\n",
      "Epoch 55/100\n",
      "13/13 [==============================] - 0s 2ms/step - loss: 234.6196 - mean_squared_error: 234.6196\n",
      "Epoch 56/100\n",
      "13/13 [==============================] - 0s 2ms/step - loss: 211.8996 - mean_squared_error: 211.8996\n",
      "Epoch 57/100\n",
      "13/13 [==============================] - 0s 2ms/step - loss: 233.8802 - mean_squared_error: 233.8802\n",
      "Epoch 58/100\n",
      "13/13 [==============================] - 0s 2ms/step - loss: 209.9458 - mean_squared_error: 209.9458\n",
      "Epoch 59/100\n",
      "13/13 [==============================] - 0s 1ms/step - loss: 226.6929 - mean_squared_error: 226.6929\n",
      "Epoch 60/100\n",
      "13/13 [==============================] - 0s 2ms/step - loss: 227.7127 - mean_squared_error: 227.7127\n",
      "Epoch 61/100\n",
      "13/13 [==============================] - 0s 2ms/step - loss: 221.4650 - mean_squared_error: 221.4650\n",
      "Epoch 62/100\n",
      "13/13 [==============================] - 0s 2ms/step - loss: 235.3570 - mean_squared_error: 235.3570\n",
      "Epoch 63/100\n",
      "13/13 [==============================] - 0s 2ms/step - loss: 225.2943 - mean_squared_error: 225.2943\n",
      "Epoch 64/100\n",
      "13/13 [==============================] - 0s 2ms/step - loss: 222.7215 - mean_squared_error: 222.7215\n",
      "Epoch 65/100\n",
      "13/13 [==============================] - 0s 2ms/step - loss: 218.1902 - mean_squared_error: 218.1902\n",
      "Epoch 66/100\n",
      "13/13 [==============================] - 0s 2ms/step - loss: 225.7841 - mean_squared_error: 225.7841\n",
      "Epoch 67/100\n",
      "13/13 [==============================] - 0s 2ms/step - loss: 223.5098 - mean_squared_error: 223.5098\n",
      "Epoch 68/100\n",
      "13/13 [==============================] - 0s 2ms/step - loss: 243.2893 - mean_squared_error: 243.2893\n",
      "Epoch 69/100\n",
      "13/13 [==============================] - 0s 2ms/step - loss: 227.0490 - mean_squared_error: 227.0490\n",
      "Epoch 70/100\n",
      "13/13 [==============================] - 0s 3ms/step - loss: 220.7142 - mean_squared_error: 220.7142\n",
      "Epoch 71/100\n",
      "13/13 [==============================] - 0s 2ms/step - loss: 228.0465 - mean_squared_error: 228.0465\n",
      "Epoch 72/100\n",
      "13/13 [==============================] - 0s 3ms/step - loss: 223.4919 - mean_squared_error: 223.4919\n",
      "Epoch 73/100\n",
      "13/13 [==============================] - 0s 4ms/step - loss: 211.3225 - mean_squared_error: 211.3225\n",
      "Epoch 74/100\n",
      "13/13 [==============================] - 0s 2ms/step - loss: 215.5968 - mean_squared_error: 215.5968\n",
      "Epoch 75/100\n",
      "13/13 [==============================] - 0s 2ms/step - loss: 226.1935 - mean_squared_error: 226.1935\n",
      "Epoch 76/100\n",
      "13/13 [==============================] - 0s 1ms/step - loss: 221.8477 - mean_squared_error: 221.8477\n",
      "Epoch 77/100\n",
      "13/13 [==============================] - 0s 2ms/step - loss: 216.2171 - mean_squared_error: 216.2171\n",
      "Epoch 78/100\n",
      "13/13 [==============================] - 0s 2ms/step - loss: 219.6068 - mean_squared_error: 219.6068\n",
      "Epoch 79/100\n",
      "13/13 [==============================] - 0s 2ms/step - loss: 205.2448 - mean_squared_error: 205.2448\n",
      "Epoch 80/100\n",
      "13/13 [==============================] - 0s 2ms/step - loss: 201.4264 - mean_squared_error: 201.4264\n",
      "Epoch 81/100\n",
      "13/13 [==============================] - 0s 2ms/step - loss: 206.6843 - mean_squared_error: 206.6843\n",
      "Epoch 82/100\n",
      "13/13 [==============================] - 0s 2ms/step - loss: 214.9544 - mean_squared_error: 214.9544\n",
      "Epoch 83/100\n",
      "13/13 [==============================] - 0s 2ms/step - loss: 223.9385 - mean_squared_error: 223.9385\n",
      "Epoch 84/100\n",
      "13/13 [==============================] - 0s 2ms/step - loss: 219.5907 - mean_squared_error: 219.5907\n",
      "Epoch 85/100\n",
      "13/13 [==============================] - 0s 1ms/step - loss: 216.5502 - mean_squared_error: 216.5502\n",
      "Epoch 86/100\n",
      "13/13 [==============================] - 0s 2ms/step - loss: 217.8134 - mean_squared_error: 217.8134\n",
      "Epoch 87/100\n",
      "13/13 [==============================] - 0s 1ms/step - loss: 227.6055 - mean_squared_error: 227.6055\n",
      "Epoch 88/100\n",
      "13/13 [==============================] - 0s 1ms/step - loss: 213.6038 - mean_squared_error: 213.6038\n",
      "Epoch 89/100\n",
      "13/13 [==============================] - 0s 1ms/step - loss: 219.0240 - mean_squared_error: 219.0240\n",
      "Epoch 90/100\n",
      "13/13 [==============================] - 0s 2ms/step - loss: 220.3131 - mean_squared_error: 220.3131\n",
      "Epoch 91/100\n",
      "13/13 [==============================] - 0s 1ms/step - loss: 223.7626 - mean_squared_error: 223.7626\n",
      "Epoch 92/100\n",
      "13/13 [==============================] - 0s 2ms/step - loss: 224.2947 - mean_squared_error: 224.2947\n",
      "Epoch 93/100\n",
      "13/13 [==============================] - 0s 2ms/step - loss: 232.7123 - mean_squared_error: 232.7123\n",
      "Epoch 94/100\n",
      "13/13 [==============================] - 0s 2ms/step - loss: 233.5173 - mean_squared_error: 233.5173\n",
      "Epoch 95/100\n",
      "13/13 [==============================] - 0s 2ms/step - loss: 210.1114 - mean_squared_error: 210.1114\n",
      "Epoch 96/100\n",
      "13/13 [==============================] - 0s 2ms/step - loss: 219.5394 - mean_squared_error: 219.5394\n",
      "Epoch 97/100\n",
      "13/13 [==============================] - 0s 2ms/step - loss: 226.5996 - mean_squared_error: 226.5996\n",
      "Epoch 98/100\n",
      "13/13 [==============================] - 0s 1ms/step - loss: 218.8774 - mean_squared_error: 218.8774\n",
      "Epoch 99/100\n",
      "13/13 [==============================] - 0s 1ms/step - loss: 239.0984 - mean_squared_error: 239.0984\n",
      "Epoch 100/100\n",
      "13/13 [==============================] - 0s 1ms/step - loss: 213.0550 - mean_squared_error: 213.0550\n"
     ]
    }
   ],
   "source": [
    "hist = model.fit(X_train, y_train, batch_size=32, epochs=100)"
   ]
  },
  {
   "cell_type": "code",
   "execution_count": 23,
   "metadata": {},
   "outputs": [
    {
     "ename": "ValueError",
     "evalue": "Mime type rendering requires nbformat>=4.2.0 but it is not installed",
     "output_type": "error",
     "traceback": [
      "\u001b[0;31m---------------------------------------------------------------------------\u001b[0m",
      "\u001b[0;31mValueError\u001b[0m                                Traceback (most recent call last)",
      "\u001b[0;32m<ipython-input-23-db7c3ad5982d>\u001b[0m in \u001b[0;36m<module>\u001b[0;34m\u001b[0m\n\u001b[1;32m      3\u001b[0m \u001b[0mfig\u001b[0m \u001b[0;34m=\u001b[0m \u001b[0mgo\u001b[0m\u001b[0;34m.\u001b[0m\u001b[0mFigure\u001b[0m\u001b[0;34m(\u001b[0m\u001b[0mdata\u001b[0m\u001b[0;34m=\u001b[0m\u001b[0mgo\u001b[0m\u001b[0;34m.\u001b[0m\u001b[0mScatter\u001b[0m\u001b[0;34m(\u001b[0m\u001b[0mx\u001b[0m\u001b[0;34m=\u001b[0m\u001b[0mhist\u001b[0m\u001b[0;34m.\u001b[0m\u001b[0mepoch\u001b[0m\u001b[0;34m,\u001b[0m \u001b[0my\u001b[0m\u001b[0;34m=\u001b[0m\u001b[0mhist\u001b[0m\u001b[0;34m.\u001b[0m\u001b[0mhistory\u001b[0m\u001b[0;34m[\u001b[0m\u001b[0;34m'mean_squared_error'\u001b[0m\u001b[0;34m]\u001b[0m\u001b[0;34m,\u001b[0m \u001b[0mmode\u001b[0m\u001b[0;34m=\u001b[0m\u001b[0;34m'markers'\u001b[0m\u001b[0;34m)\u001b[0m\u001b[0;34m)\u001b[0m\u001b[0;34m\u001b[0m\u001b[0m\n\u001b[1;32m      4\u001b[0m \u001b[0mfig\u001b[0m\u001b[0;34m.\u001b[0m\u001b[0mupdate_layout\u001b[0m\u001b[0;34m(\u001b[0m\u001b[0mtitle\u001b[0m\u001b[0;34m=\u001b[0m\u001b[0;34m\"Mean Squared Error by Epoch\"\u001b[0m\u001b[0;34m)\u001b[0m\u001b[0;34m\u001b[0m\u001b[0m\n\u001b[0;32m----> 5\u001b[0;31m \u001b[0mfig\u001b[0m\u001b[0;34m.\u001b[0m\u001b[0mshow\u001b[0m\u001b[0;34m(\u001b[0m\u001b[0;34m)\u001b[0m\u001b[0;34m\u001b[0m\u001b[0m\n\u001b[0m",
      "\u001b[0;32m/opt/anaconda3/envs/U4-S1-NLP/lib/python3.7/site-packages/plotly/basedatatypes.py\u001b[0m in \u001b[0;36mshow\u001b[0;34m(self, *args, **kwargs)\u001b[0m\n\u001b[1;32m   2869\u001b[0m         \u001b[0;32mimport\u001b[0m \u001b[0mplotly\u001b[0m\u001b[0;34m.\u001b[0m\u001b[0mio\u001b[0m \u001b[0;32mas\u001b[0m \u001b[0mpio\u001b[0m\u001b[0;34m\u001b[0m\u001b[0m\n\u001b[1;32m   2870\u001b[0m \u001b[0;34m\u001b[0m\u001b[0m\n\u001b[0;32m-> 2871\u001b[0;31m         \u001b[0;32mreturn\u001b[0m \u001b[0mpio\u001b[0m\u001b[0;34m.\u001b[0m\u001b[0mshow\u001b[0m\u001b[0;34m(\u001b[0m\u001b[0mself\u001b[0m\u001b[0;34m,\u001b[0m \u001b[0;34m*\u001b[0m\u001b[0margs\u001b[0m\u001b[0;34m,\u001b[0m \u001b[0;34m**\u001b[0m\u001b[0mkwargs\u001b[0m\u001b[0;34m)\u001b[0m\u001b[0;34m\u001b[0m\u001b[0m\n\u001b[0m\u001b[1;32m   2872\u001b[0m \u001b[0;34m\u001b[0m\u001b[0m\n\u001b[1;32m   2873\u001b[0m     \u001b[0;32mdef\u001b[0m \u001b[0mto_json\u001b[0m\u001b[0;34m(\u001b[0m\u001b[0mself\u001b[0m\u001b[0;34m,\u001b[0m \u001b[0;34m*\u001b[0m\u001b[0margs\u001b[0m\u001b[0;34m,\u001b[0m \u001b[0;34m**\u001b[0m\u001b[0mkwargs\u001b[0m\u001b[0;34m)\u001b[0m\u001b[0;34m:\u001b[0m\u001b[0;34m\u001b[0m\u001b[0m\n",
      "\u001b[0;32m/opt/anaconda3/envs/U4-S1-NLP/lib/python3.7/site-packages/plotly/io/_renderers.py\u001b[0m in \u001b[0;36mshow\u001b[0;34m(fig, renderer, validate, **kwargs)\u001b[0m\n\u001b[1;32m    384\u001b[0m         \u001b[0;32mif\u001b[0m \u001b[0;32mnot\u001b[0m \u001b[0mnbformat\u001b[0m \u001b[0;32mor\u001b[0m \u001b[0mLooseVersion\u001b[0m\u001b[0;34m(\u001b[0m\u001b[0mnbformat\u001b[0m\u001b[0;34m.\u001b[0m\u001b[0m__version__\u001b[0m\u001b[0;34m)\u001b[0m \u001b[0;34m<\u001b[0m \u001b[0mLooseVersion\u001b[0m\u001b[0;34m(\u001b[0m\u001b[0;34m\"4.2.0\"\u001b[0m\u001b[0;34m)\u001b[0m\u001b[0;34m:\u001b[0m\u001b[0;34m\u001b[0m\u001b[0m\n\u001b[1;32m    385\u001b[0m             raise ValueError(\n\u001b[0;32m--> 386\u001b[0;31m                 \u001b[0;34m\"Mime type rendering requires nbformat>=4.2.0 but it is not installed\"\u001b[0m\u001b[0;34m\u001b[0m\u001b[0m\n\u001b[0m\u001b[1;32m    387\u001b[0m             )\n\u001b[1;32m    388\u001b[0m \u001b[0;34m\u001b[0m\u001b[0m\n",
      "\u001b[0;31mValueError\u001b[0m: Mime type rendering requires nbformat>=4.2.0 but it is not installed"
     ]
    }
   ],
   "source": [
    "from plotly import graph_objects as go\n",
    "\n",
    "fig = go.Figure(data=go.Scatter(x=hist.epoch, y=hist.history['mean_squared_error'], mode='markers'))\n",
    "fig.update_layout(title=\"Mean Squared Error by Epoch\")\n",
    "fig.show()"
   ]
  },
  {
   "cell_type": "markdown",
   "metadata": {
    "colab_type": "text",
    "id": "SfcFnOONyuNm"
   },
   "source": [
    "## Use the Keras Library to build an image recognition network using the Fashion-MNIST dataset (also comes with keras)\n",
    "\n",
    "- Load and preprocess the image data similar to how we preprocessed the MNIST data in class.\n",
    "- Make sure to one-hot encode your category labels\n",
    "- The number of nodes in your output layer should equal the number of classes you want to predict for Fashion-MNIST.\n",
    "- Try different hyperparameters. What is the highest accuracy that you are able to achieve.\n",
    "- Use the history object that is returned from model.fit to make graphs of the model's loss or train/validation accuracies by epoch. \n",
    "- Remember that neural networks fall prey to randomness so you may need to run your model multiple times (or use Cross Validation) in order to tell if a change to a hyperparameter is truly producing better results."
   ]
  },
  {
   "cell_type": "code",
   "execution_count": null,
   "metadata": {
    "colab": {},
    "colab_type": "code",
    "id": "szi6-IpuzaH1"
   },
   "outputs": [],
   "source": [
    "##### Your Code Here #####"
   ]
  },
  {
   "cell_type": "markdown",
   "metadata": {
    "colab_type": "text",
    "id": "zv_3xNMjzdLI"
   },
   "source": [
    "## Stretch Goals:\n",
    "\n",
    "- Use Hyperparameter Tuning to make the accuracy of your models as high as possible. (error as low as possible)\n",
    "- Use Cross Validation techniques to get more consistent results with your model.\n",
    "- Use GridSearchCV to try different combinations of hyperparameters. \n",
    "- Start looking into other types of Keras layers for CNNs and RNNs maybe try and build a CNN model for fashion-MNIST to see how the results compare."
   ]
  }
 ],
 "metadata": {
  "colab": {
   "name": "LS_DS_433_Keras_Assignment.ipynb",
   "provenance": [],
   "version": "0.3.2"
  },
  "kernelspec": {
   "display_name": "U4-S1-NLP (Python3)",
   "language": "python",
   "name": "u4-s1-nlp"
  },
  "language_info": {
   "codemirror_mode": {
    "name": "ipython",
    "version": 3
   },
   "file_extension": ".py",
   "mimetype": "text/x-python",
   "name": "python",
   "nbconvert_exporter": "python",
   "pygments_lexer": "ipython3",
   "version": "3.7.0"
  }
 },
 "nbformat": 4,
 "nbformat_minor": 4
}
