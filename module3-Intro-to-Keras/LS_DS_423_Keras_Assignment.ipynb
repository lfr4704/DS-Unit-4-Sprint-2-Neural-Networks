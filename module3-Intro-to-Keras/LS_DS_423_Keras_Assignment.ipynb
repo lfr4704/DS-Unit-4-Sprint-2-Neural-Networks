{
 "cells": [
  {
   "cell_type": "markdown",
   "metadata": {
    "colab_type": "text",
    "id": "pBQsZEJmubLs"
   },
   "source": [
    "<img align=\"left\" src=\"https://lever-client-logos.s3.amazonaws.com/864372b1-534c-480e-acd5-9711f850815c-1524247202159.png\" width=200>\n",
    "<br></br>\n",
    "\n",
    "# Neural Network Framework (Keras)\n",
    "\n",
    "## *Data Science Unit 4 Sprint 2 Assignment 3*\n",
    "\n",
    "## Use the Keras Library to build a Multi-Layer Perceptron Model on the Boston Housing dataset\n",
    "\n",
    "- The Boston Housing dataset comes with the Keras library so use Keras to import it into your notebook. \n",
    "- Normalize the data (all features should have roughly the same scale)\n",
    "- Import the type of model and layers that you will need from Keras.\n",
    "- Instantiate a model object and use `model.add()` to add layers to your model\n",
    "- Since this is a regression model you will have a single output node in the final layer.\n",
    "- Use activation functions that are appropriate for this task\n",
    "- Compile your model\n",
    "- Fit your model and report its accuracy in terms of Mean Squared Error\n",
    "- Use the history object that is returned from model.fit to make graphs of the model's loss or train/validation accuracies by epoch. \n",
    "- Run this same data through a linear regression model. Which achieves higher accuracy?\n",
    "- Do a little bit of feature engineering and see how that affects your neural network model. (you will need to change your model to accept more inputs)\n",
    "- After feature engineering, which model sees a greater accuracy boost due to the new features?"
   ]
  },
  {
   "cell_type": "code",
   "execution_count": 97,
   "metadata": {
    "colab": {},
    "colab_type": "code",
    "id": "8NLTAR87uYJ-"
   },
   "outputs": [
    {
     "data": {
      "text/plain": [
       "((array([[1.23247e+00, 0.00000e+00, 8.14000e+00, ..., 2.10000e+01,\n",
       "          3.96900e+02, 1.87200e+01],\n",
       "         [2.17700e-02, 8.25000e+01, 2.03000e+00, ..., 1.47000e+01,\n",
       "          3.95380e+02, 3.11000e+00],\n",
       "         [4.89822e+00, 0.00000e+00, 1.81000e+01, ..., 2.02000e+01,\n",
       "          3.75520e+02, 3.26000e+00],\n",
       "         ...,\n",
       "         [3.46600e-02, 3.50000e+01, 6.06000e+00, ..., 1.69000e+01,\n",
       "          3.62250e+02, 7.83000e+00],\n",
       "         [2.14918e+00, 0.00000e+00, 1.95800e+01, ..., 1.47000e+01,\n",
       "          2.61950e+02, 1.57900e+01],\n",
       "         [1.43900e-02, 6.00000e+01, 2.93000e+00, ..., 1.56000e+01,\n",
       "          3.76700e+02, 4.38000e+00]]),\n",
       "  array([15.2, 42.3, 50. , 21.1, 17.7, 18.5, 11.3, 15.6, 15.6, 14.4, 12.1,\n",
       "         17.9, 23.1, 19.9, 15.7,  8.8, 50. , 22.5, 24.1, 27.5, 10.9, 30.8,\n",
       "         32.9, 24. , 18.5, 13.3, 22.9, 34.7, 16.6, 17.5, 22.3, 16.1, 14.9,\n",
       "         23.1, 34.9, 25. , 13.9, 13.1, 20.4, 20. , 15.2, 24.7, 22.2, 16.7,\n",
       "         12.7, 15.6, 18.4, 21. , 30.1, 15.1, 18.7,  9.6, 31.5, 24.8, 19.1,\n",
       "         22. , 14.5, 11. , 32. , 29.4, 20.3, 24.4, 14.6, 19.5, 14.1, 14.3,\n",
       "         15.6, 10.5,  6.3, 19.3, 19.3, 13.4, 36.4, 17.8, 13.5, 16.5,  8.3,\n",
       "         14.3, 16. , 13.4, 28.6, 43.5, 20.2, 22. , 23. , 20.7, 12.5, 48.5,\n",
       "         14.6, 13.4, 23.7, 50. , 21.7, 39.8, 38.7, 22.2, 34.9, 22.5, 31.1,\n",
       "         28.7, 46. , 41.7, 21. , 26.6, 15. , 24.4, 13.3, 21.2, 11.7, 21.7,\n",
       "         19.4, 50. , 22.8, 19.7, 24.7, 36.2, 14.2, 18.9, 18.3, 20.6, 24.6,\n",
       "         18.2,  8.7, 44. , 10.4, 13.2, 21.2, 37. , 30.7, 22.9, 20. , 19.3,\n",
       "         31.7, 32. , 23.1, 18.8, 10.9, 50. , 19.6,  5. , 14.4, 19.8, 13.8,\n",
       "         19.6, 23.9, 24.5, 25. , 19.9, 17.2, 24.6, 13.5, 26.6, 21.4, 11.9,\n",
       "         22.6, 19.6,  8.5, 23.7, 23.1, 22.4, 20.5, 23.6, 18.4, 35.2, 23.1,\n",
       "         27.9, 20.6, 23.7, 28. , 13.6, 27.1, 23.6, 20.6, 18.2, 21.7, 17.1,\n",
       "          8.4, 25.3, 13.8, 22.2, 18.4, 20.7, 31.6, 30.5, 20.3,  8.8, 19.2,\n",
       "         19.4, 23.1, 23. , 14.8, 48.8, 22.6, 33.4, 21.1, 13.6, 32.2, 13.1,\n",
       "         23.4, 18.9, 23.9, 11.8, 23.3, 22.8, 19.6, 16.7, 13.4, 22.2, 20.4,\n",
       "         21.8, 26.4, 14.9, 24.1, 23.8, 12.3, 29.1, 21. , 19.5, 23.3, 23.8,\n",
       "         17.8, 11.5, 21.7, 19.9, 25. , 33.4, 28.5, 21.4, 24.3, 27.5, 33.1,\n",
       "         16.2, 23.3, 48.3, 22.9, 22.8, 13.1, 12.7, 22.6, 15. , 15.3, 10.5,\n",
       "         24. , 18.5, 21.7, 19.5, 33.2, 23.2,  5. , 19.1, 12.7, 22.3, 10.2,\n",
       "         13.9, 16.3, 17. , 20.1, 29.9, 17.2, 37.3, 45.4, 17.8, 23.2, 29. ,\n",
       "         22. , 18. , 17.4, 34.6, 20.1, 25. , 15.6, 24.8, 28.2, 21.2, 21.4,\n",
       "         23.8, 31. , 26.2, 17.4, 37.9, 17.5, 20. ,  8.3, 23.9,  8.4, 13.8,\n",
       "          7.2, 11.7, 17.1, 21.6, 50. , 16.1, 20.4, 20.6, 21.4, 20.6, 36.5,\n",
       "          8.5, 24.8, 10.8, 21.9, 17.3, 18.9, 36.2, 14.9, 18.2, 33.3, 21.8,\n",
       "         19.7, 31.6, 24.8, 19.4, 22.8,  7.5, 44.8, 16.8, 18.7, 50. , 50. ,\n",
       "         19.5, 20.1, 50. , 17.2, 20.8, 19.3, 41.3, 20.4, 20.5, 13.8, 16.5,\n",
       "         23.9, 20.6, 31.5, 23.3, 16.8, 14. , 33.8, 36.1, 12.8, 18.3, 18.7,\n",
       "         19.1, 29. , 30.1, 50. , 50. , 22. , 11.9, 37.6, 50. , 22.7, 20.8,\n",
       "         23.5, 27.9, 50. , 19.3, 23.9, 22.6, 15.2, 21.7, 19.2, 43.8, 20.3,\n",
       "         33.2, 19.9, 22.5, 32.7, 22. , 17.1, 19. , 15. , 16.1, 25.1, 23.7,\n",
       "         28.7, 37.2, 22.6, 16.4, 25. , 29.8, 22.1, 17.4, 18.1, 30.3, 17.5,\n",
       "         24.7, 12.6, 26.5, 28.7, 13.3, 10.4, 24.4, 23. , 20. , 17.8,  7. ,\n",
       "         11.8, 24.4, 13.8, 19.4, 25.2, 19.4, 19.4, 29.1])),\n",
       " (array([[1.80846e+01, 0.00000e+00, 1.81000e+01, ..., 2.02000e+01,\n",
       "          2.72500e+01, 2.90500e+01],\n",
       "         [1.23290e-01, 0.00000e+00, 1.00100e+01, ..., 1.78000e+01,\n",
       "          3.94950e+02, 1.62100e+01],\n",
       "         [5.49700e-02, 0.00000e+00, 5.19000e+00, ..., 2.02000e+01,\n",
       "          3.96900e+02, 9.74000e+00],\n",
       "         ...,\n",
       "         [1.83377e+00, 0.00000e+00, 1.95800e+01, ..., 1.47000e+01,\n",
       "          3.89610e+02, 1.92000e+00],\n",
       "         [3.58090e-01, 0.00000e+00, 6.20000e+00, ..., 1.74000e+01,\n",
       "          3.91700e+02, 9.71000e+00],\n",
       "         [2.92400e+00, 0.00000e+00, 1.95800e+01, ..., 1.47000e+01,\n",
       "          2.40160e+02, 9.81000e+00]]),\n",
       "  array([ 7.2, 18.8, 19. , 27. , 22.2, 24.5, 31.2, 22.9, 20.5, 23.2, 18.6,\n",
       "         14.5, 17.8, 50. , 20.8, 24.3, 24.2, 19.8, 19.1, 22.7, 12. , 10.2,\n",
       "         20. , 18.5, 20.9, 23. , 27.5, 30.1,  9.5, 22. , 21.2, 14.1, 33.1,\n",
       "         23.4, 20.1,  7.4, 15.4, 23.8, 20.1, 24.5, 33. , 28.4, 14.1, 46.7,\n",
       "         32.5, 29.6, 28.4, 19.8, 20.2, 25. , 35.4, 20.3,  9.7, 14.5, 34.9,\n",
       "         26.6,  7.2, 50. , 32.4, 21.6, 29.8, 13.1, 27.5, 21.2, 23.1, 21.9,\n",
       "         13. , 23.2,  8.1,  5.6, 21.7, 29.6, 19.6,  7. , 26.4, 18.9, 20.9,\n",
       "         28.1, 35.4, 10.2, 24.3, 43.1, 17.6, 15.4, 16.2, 27.1, 21.4, 21.5,\n",
       "         22.4, 25. , 16.6, 18.6, 22. , 42.8, 35.1, 21.5, 36. , 21.9, 24.1,\n",
       "         50. , 26.7, 25. ])))"
      ]
     },
     "execution_count": 97,
     "metadata": {},
     "output_type": "execute_result"
    }
   ],
   "source": [
    "##### Your Code Here #####\n",
    "import tensorflow as tf\n",
    "from sklearn import datasets\n",
    "boston = datasets.load_boston()\n",
    "feature_names = boston['feature_names']\n",
    "\n",
    "tf.keras.datasets.boston_housing.load_data(\n",
    "    path=\"boston_housing.npz\", test_split=0.2, seed=113\n",
    ")\n",
    "\n"
   ]
  },
  {
   "cell_type": "code",
   "execution_count": 98,
   "metadata": {},
   "outputs": [
    {
     "data": {
      "text/plain": [
       "array(['CRIM', 'ZN', 'INDUS', 'CHAS', 'NOX', 'RM', 'AGE', 'DIS', 'RAD',\n",
       "       'TAX', 'PTRATIO', 'B', 'LSTAT'], dtype='<U7')"
      ]
     },
     "execution_count": 98,
     "metadata": {},
     "output_type": "execute_result"
    }
   ],
   "source": [
    "feature_names"
   ]
  },
  {
   "cell_type": "code",
   "execution_count": 99,
   "metadata": {},
   "outputs": [
    {
     "name": "stdout",
     "output_type": "stream",
     "text": [
      ".. _boston_dataset:\n",
      "\n",
      "Boston house prices dataset\n",
      "---------------------------\n",
      "\n",
      "**Data Set Characteristics:**  \n",
      "\n",
      "    :Number of Instances: 506 \n",
      "\n",
      "    :Number of Attributes: 13 numeric/categorical predictive. Median Value (attribute 14) is usually the target.\n",
      "\n",
      "    :Attribute Information (in order):\n",
      "        - CRIM     per capita crime rate by town\n",
      "        - ZN       proportion of residential land zoned for lots over 25,000 sq.ft.\n",
      "        - INDUS    proportion of non-retail business acres per town\n",
      "        - CHAS     Charles River dummy variable (= 1 if tract bounds river; 0 otherwise)\n",
      "        - NOX      nitric oxides concentration (parts per 10 million)\n",
      "        - RM       average number of rooms per dwelling\n",
      "        - AGE      proportion of owner-occupied units built prior to 1940\n",
      "        - DIS      weighted distances to five Boston employment centres\n",
      "        - RAD      index of accessibility to radial highways\n",
      "        - TAX      full-value property-tax rate per $10,000\n",
      "        - PTRATIO  pupil-teacher ratio by town\n",
      "        - B        1000(Bk - 0.63)^2 where Bk is the proportion of blacks by town\n",
      "        - LSTAT    % lower status of the population\n",
      "        - MEDV     Median value of owner-occupied homes in $1000's\n",
      "\n",
      "    :Missing Attribute Values: None\n",
      "\n",
      "    :Creator: Harrison, D. and Rubinfeld, D.L.\n",
      "\n",
      "This is a copy of UCI ML housing dataset.\n",
      "https://archive.ics.uci.edu/ml/machine-learning-databases/housing/\n",
      "\n",
      "\n",
      "This dataset was taken from the StatLib library which is maintained at Carnegie Mellon University.\n",
      "\n",
      "The Boston house-price data of Harrison, D. and Rubinfeld, D.L. 'Hedonic\n",
      "prices and the demand for clean air', J. Environ. Economics & Management,\n",
      "vol.5, 81-102, 1978.   Used in Belsley, Kuh & Welsch, 'Regression diagnostics\n",
      "...', Wiley, 1980.   N.B. Various transformations are used in the table on\n",
      "pages 244-261 of the latter.\n",
      "\n",
      "The Boston house-price data has been used in many machine learning papers that address regression\n",
      "problems.   \n",
      "     \n",
      ".. topic:: References\n",
      "\n",
      "   - Belsley, Kuh & Welsch, 'Regression diagnostics: Identifying Influential Data and Sources of Collinearity', Wiley, 1980. 244-261.\n",
      "   - Quinlan,R. (1993). Combining Instance-Based and Model-Based Learning. In Proceedings on the Tenth International Conference of Machine Learning, 236-243, University of Massachusetts, Amherst. Morgan Kaufmann.\n",
      "\n"
     ]
    }
   ],
   "source": [
    "print(boston['DESCR'])"
   ]
  },
  {
   "cell_type": "code",
   "execution_count": 100,
   "metadata": {},
   "outputs": [],
   "source": [
    "from tensorflow.keras.datasets import boston_housing\n",
    "from tensorflow.keras.models import Sequential\n",
    "from tensorflow.keras.layers import Dense, Activation\n",
    "import numpy as np\n",
    "from sklearn.model_selection import train_test_split\n",
    "from tensorflow.keras.callbacks import EarlyStopping\n",
    "\n",
    "\n",
    "\n",
    "\n",
    "import time\n",
    "start_time = time.time()\n",
    "\n",
    "#load data and target vector from boston data\n",
    "(X_train, y_train), (X_test, y_test) = boston_housing.load_data()"
   ]
  },
  {
   "cell_type": "code",
   "execution_count": 101,
   "metadata": {},
   "outputs": [
    {
     "data": {
      "text/plain": [
       "((404, 13), (404,))"
      ]
     },
     "execution_count": 101,
     "metadata": {},
     "output_type": "execute_result"
    }
   ],
   "source": [
    "X_train.shape, y_train.shape"
   ]
  },
  {
   "cell_type": "code",
   "execution_count": 102,
   "metadata": {},
   "outputs": [
    {
     "data": {
      "text/plain": [
       "array([[1.23247e+00, 0.00000e+00, 8.14000e+00, ..., 2.10000e+01,\n",
       "        3.96900e+02, 1.87200e+01],\n",
       "       [2.17700e-02, 8.25000e+01, 2.03000e+00, ..., 1.47000e+01,\n",
       "        3.95380e+02, 3.11000e+00],\n",
       "       [4.89822e+00, 0.00000e+00, 1.81000e+01, ..., 2.02000e+01,\n",
       "        3.75520e+02, 3.26000e+00],\n",
       "       ...,\n",
       "       [3.46600e-02, 3.50000e+01, 6.06000e+00, ..., 1.69000e+01,\n",
       "        3.62250e+02, 7.83000e+00],\n",
       "       [2.14918e+00, 0.00000e+00, 1.95800e+01, ..., 1.47000e+01,\n",
       "        2.61950e+02, 1.57900e+01],\n",
       "       [1.43900e-02, 6.00000e+01, 2.93000e+00, ..., 1.56000e+01,\n",
       "        3.76700e+02, 4.38000e+00]])"
      ]
     },
     "execution_count": 102,
     "metadata": {},
     "output_type": "execute_result"
    }
   ],
   "source": [
    "X_train"
   ]
  },
  {
   "cell_type": "code",
   "execution_count": 103,
   "metadata": {},
   "outputs": [
    {
     "data": {
      "text/plain": [
       "array([[1.80846e+01, 0.00000e+00, 1.81000e+01, ..., 2.02000e+01,\n",
       "        2.72500e+01, 2.90500e+01],\n",
       "       [1.23290e-01, 0.00000e+00, 1.00100e+01, ..., 1.78000e+01,\n",
       "        3.94950e+02, 1.62100e+01],\n",
       "       [5.49700e-02, 0.00000e+00, 5.19000e+00, ..., 2.02000e+01,\n",
       "        3.96900e+02, 9.74000e+00],\n",
       "       ...,\n",
       "       [1.83377e+00, 0.00000e+00, 1.95800e+01, ..., 1.47000e+01,\n",
       "        3.89610e+02, 1.92000e+00],\n",
       "       [3.58090e-01, 0.00000e+00, 6.20000e+00, ..., 1.74000e+01,\n",
       "        3.91700e+02, 9.71000e+00],\n",
       "       [2.92400e+00, 0.00000e+00, 1.95800e+01, ..., 1.47000e+01,\n",
       "        2.40160e+02, 9.81000e+00]])"
      ]
     },
     "execution_count": 103,
     "metadata": {},
     "output_type": "execute_result"
    }
   ],
   "source": [
    "X_test"
   ]
  },
  {
   "cell_type": "code",
   "execution_count": 104,
   "metadata": {},
   "outputs": [
    {
     "data": {
      "text/plain": [
       "((102, 13), (102,))"
      ]
     },
     "execution_count": 104,
     "metadata": {},
     "output_type": "execute_result"
    }
   ],
   "source": [
    "X_test.shape, y_test.shape"
   ]
  },
  {
   "cell_type": "code",
   "execution_count": 105,
   "metadata": {},
   "outputs": [],
   "source": [
    "# X_train, X_val = train_test_split(X_train, train_size=0.8, test_size=0.2, random_state=42)\n",
    "# X_train.shape, X_val.shape"
   ]
  },
  {
   "cell_type": "code",
   "execution_count": 106,
   "metadata": {},
   "outputs": [
    {
     "data": {
      "text/plain": [
       "LinearRegression(copy_X=True, fit_intercept=True, n_jobs=None, normalize=False)"
      ]
     },
     "execution_count": 106,
     "metadata": {},
     "output_type": "execute_result"
    }
   ],
   "source": [
    "from sklearn.linear_model import LinearRegression\n",
    "\n",
    "model = LinearRegression()\n",
    "model.fit(X_train, y_train)"
   ]
  },
  {
   "cell_type": "code",
   "execution_count": 107,
   "metadata": {},
   "outputs": [
    {
     "data": {
      "text/plain": [
       "23.195599256422906"
      ]
     },
     "execution_count": 107,
     "metadata": {},
     "output_type": "execute_result"
    }
   ],
   "source": [
    "from sklearn.metrics import mean_absolute_error, mean_squared_error\n",
    "pred = model.predict(X_test)\n",
    "mean_squared_error(pred, y_test)\n"
   ]
  },
  {
   "cell_type": "code",
   "execution_count": null,
   "metadata": {},
   "outputs": [],
   "source": []
  },
  {
   "cell_type": "markdown",
   "metadata": {},
   "source": [
    "### Normalizing the data"
   ]
  },
  {
   "cell_type": "code",
   "execution_count": 108,
   "metadata": {},
   "outputs": [],
   "source": [
    "\n",
    "from tensorflow.keras.models import Sequential\n",
    "from tensorflow.keras.layers import Dense, Activation\n",
    "import numpy as np\n",
    "from sklearn.model_selection import train_test_split\n",
    "from tensorflow.keras.callbacks import EarlyStopping\n",
    "\n",
    "from sklearn.preprocessing import Normalizer\n",
    "\n",
    "n = Normalizer()\n",
    "\n",
    "#load data and target vector from boston data\n",
    "(X_train, y_train), (X_test, y_test) = boston_housing.load_data()\n"
   ]
  },
  {
   "cell_type": "code",
   "execution_count": 109,
   "metadata": {},
   "outputs": [],
   "source": [
    "X_train = n.fit_transform(X_train)\n",
    "X_test = n.fit_transform(X_test)"
   ]
  },
  {
   "cell_type": "code",
   "execution_count": 110,
   "metadata": {},
   "outputs": [
    {
     "data": {
      "text/plain": [
       "array([[2.41189924e-03, 0.00000000e+00, 1.59296858e-02, ...,\n",
       "        4.10962409e-02, 7.76718953e-01, 3.66343633e-02],\n",
       "       [4.07923050e-05, 1.54587284e-01, 3.80378407e-03, ...,\n",
       "        2.75446433e-02, 7.40857215e-01, 5.82747215e-03],\n",
       "       [6.34505528e-03, 0.00000000e+00, 2.34463745e-02, ...,\n",
       "        2.61666721e-02, 4.86441025e-01, 4.22293817e-03],\n",
       "       ...,\n",
       "       [7.29281484e-05, 7.36435428e-02, 1.27508534e-02, ...,\n",
       "        3.55593107e-02, 7.62210668e-01, 1.64751126e-02],\n",
       "       [4.37205159e-03, 0.00000000e+00, 3.98313637e-02, ...,\n",
       "        2.99040371e-02, 5.32881804e-01, 3.21214113e-02],\n",
       "       [3.09311543e-05, 1.28969372e-01, 6.29800433e-03, ...,\n",
       "        3.35320367e-02, 8.09712706e-01, 9.41476414e-03]])"
      ]
     },
     "execution_count": 110,
     "metadata": {},
     "output_type": "execute_result"
    }
   ],
   "source": [
    "X_train"
   ]
  },
  {
   "cell_type": "code",
   "execution_count": 111,
   "metadata": {},
   "outputs": [
    {
     "data": {
      "text/plain": [
       "array([[2.67567471e-02, 0.00000000e+00, 2.67795319e-02, ...,\n",
       "        2.98865495e-02, 4.03172511e-02, 4.29804090e-02],\n",
       "       [2.07806276e-04, 0.00000000e+00, 1.68719346e-02, ...,\n",
       "        3.00020416e-02, 6.65691367e-01, 2.73220840e-02],\n",
       "       [1.19845746e-04, 0.00000000e+00, 1.13152524e-02, ...,\n",
       "        4.40400960e-02, 8.65322480e-01, 2.12351750e-02],\n",
       "       ...,\n",
       "       [3.21889389e-03, 0.00000000e+00, 3.43696005e-02, ...,\n",
       "        2.58035305e-02, 6.83898879e-01, 3.37025704e-03],\n",
       "       [7.07644197e-04, 0.00000000e+00, 1.22522104e-02, ...,\n",
       "        3.43852356e-02, 7.74063034e-01, 1.91885424e-02],\n",
       "       [6.10350794e-03, 0.00000000e+00, 4.08709594e-02, ...,\n",
       "        3.06845303e-02, 5.01305905e-01, 2.04772274e-02]])"
      ]
     },
     "execution_count": 111,
     "metadata": {},
     "output_type": "execute_result"
    }
   ],
   "source": [
    "X_test"
   ]
  },
  {
   "cell_type": "code",
   "execution_count": 112,
   "metadata": {},
   "outputs": [
    {
     "data": {
      "text/plain": [
       "18.16551049349646"
      ]
     },
     "execution_count": 112,
     "metadata": {},
     "output_type": "execute_result"
    }
   ],
   "source": [
    "model = LinearRegression()\n",
    "model.fit(X_train, y_train)\n",
    "\n",
    "pred = model.predict(X_test)\n",
    "mean_squared_error(pred, y_test)"
   ]
  },
  {
   "cell_type": "markdown",
   "metadata": {},
   "source": [
    "### Neural Network Model"
   ]
  },
  {
   "cell_type": "code",
   "execution_count": 147,
   "metadata": {},
   "outputs": [],
   "source": [
    "from tensorflow.keras.datasets import boston_housing\n",
    "from tensorflow.keras.models import Sequential\n",
    "from tensorflow.keras.layers import Dense, Activation, Flatten\n",
    "\n",
    "model = Sequential(name = \"boston_model\")\n",
    "model.add(Dense(10, input_shape=(X_train.shape[1],), activation='sigmoid'))\n",
    "model.add(Dense(10, activation = \"relu\"))\n",
    "\n",
    "model.compile(loss='mean_squared_error', optimizer='SGD', metrics=['mean_squared_error'])"
   ]
  },
  {
   "cell_type": "code",
   "execution_count": 114,
   "metadata": {},
   "outputs": [
    {
     "name": "stdout",
     "output_type": "stream",
     "text": [
      "Model: \"boston_model\"\n",
      "_________________________________________________________________\n",
      "Layer (type)                 Output Shape              Param #   \n",
      "=================================================================\n",
      "dense_21 (Dense)             (None, 10)                140       \n",
      "_________________________________________________________________\n",
      "dense_22 (Dense)             (None, 10)                110       \n",
      "=================================================================\n",
      "Total params: 250\n",
      "Trainable params: 250\n",
      "Non-trainable params: 0\n",
      "_________________________________________________________________\n"
     ]
    }
   ],
   "source": [
    "model.summary()"
   ]
  },
  {
   "cell_type": "code",
   "execution_count": 115,
   "metadata": {},
   "outputs": [
    {
     "name": "stdout",
     "output_type": "stream",
     "text": [
      "Epoch 1/100\n",
      "13/13 [==============================] - 0s 25ms/step - loss: 567.0136 - mean_squared_error: 567.0136\n",
      "Epoch 2/100\n",
      "13/13 [==============================] - 0s 1ms/step - loss: 567.2629 - mean_squared_error: 567.2629\n",
      "Epoch 3/100\n",
      "13/13 [==============================] - 0s 2ms/step - loss: 523.6423 - mean_squared_error: 523.6423\n",
      "Epoch 4/100\n",
      "13/13 [==============================] - 0s 2ms/step - loss: 482.1244 - mean_squared_error: 482.1244\n",
      "Epoch 5/100\n",
      "13/13 [==============================] - 0s 1ms/step - loss: 435.9824 - mean_squared_error: 435.9824\n",
      "Epoch 6/100\n",
      "13/13 [==============================] - 0s 1ms/step - loss: 412.1182 - mean_squared_error: 412.1182\n",
      "Epoch 7/100\n",
      "13/13 [==============================] - 0s 2ms/step - loss: 398.0923 - mean_squared_error: 398.0923\n",
      "Epoch 8/100\n",
      "13/13 [==============================] - 0s 1ms/step - loss: 392.5605 - mean_squared_error: 392.5605\n",
      "Epoch 9/100\n",
      "13/13 [==============================] - 0s 2ms/step - loss: 397.1087 - mean_squared_error: 397.1087\n",
      "Epoch 10/100\n",
      "13/13 [==============================] - 0s 1ms/step - loss: 383.2292 - mean_squared_error: 383.2292\n",
      "Epoch 11/100\n",
      "13/13 [==============================] - 0s 1ms/step - loss: 374.2857 - mean_squared_error: 374.2857\n",
      "Epoch 12/100\n",
      "13/13 [==============================] - 0s 2ms/step - loss: 382.5305 - mean_squared_error: 382.5305\n",
      "Epoch 13/100\n",
      "13/13 [==============================] - 0s 1ms/step - loss: 389.1685 - mean_squared_error: 389.1685\n",
      "Epoch 14/100\n",
      "13/13 [==============================] - 0s 1ms/step - loss: 412.4612 - mean_squared_error: 412.4612\n",
      "Epoch 15/100\n",
      "13/13 [==============================] - 0s 2ms/step - loss: 394.0552 - mean_squared_error: 394.0552\n",
      "Epoch 16/100\n",
      "13/13 [==============================] - 0s 1ms/step - loss: 377.2871 - mean_squared_error: 377.2871\n",
      "Epoch 17/100\n",
      "13/13 [==============================] - 0s 2ms/step - loss: 387.4094 - mean_squared_error: 387.4094\n",
      "Epoch 18/100\n",
      "13/13 [==============================] - 0s 2ms/step - loss: 401.5603 - mean_squared_error: 401.5603\n",
      "Epoch 19/100\n",
      "13/13 [==============================] - 0s 1ms/step - loss: 372.5939 - mean_squared_error: 372.5939\n",
      "Epoch 20/100\n",
      "13/13 [==============================] - 0s 2ms/step - loss: 389.7416 - mean_squared_error: 389.7416\n",
      "Epoch 21/100\n",
      "13/13 [==============================] - 0s 2ms/step - loss: 395.9008 - mean_squared_error: 395.9008\n",
      "Epoch 22/100\n",
      "13/13 [==============================] - 0s 2ms/step - loss: 388.6574 - mean_squared_error: 388.6574\n",
      "Epoch 23/100\n",
      "13/13 [==============================] - 0s 1ms/step - loss: 386.1562 - mean_squared_error: 386.1562\n",
      "Epoch 24/100\n",
      "13/13 [==============================] - 0s 1ms/step - loss: 388.0630 - mean_squared_error: 388.0630\n",
      "Epoch 25/100\n",
      "13/13 [==============================] - 0s 2ms/step - loss: 391.2906 - mean_squared_error: 391.2906\n",
      "Epoch 26/100\n",
      "13/13 [==============================] - 0s 1ms/step - loss: 389.1318 - mean_squared_error: 389.1318\n",
      "Epoch 27/100\n",
      "13/13 [==============================] - 0s 1ms/step - loss: 405.9312 - mean_squared_error: 405.9312\n",
      "Epoch 28/100\n",
      "13/13 [==============================] - 0s 1ms/step - loss: 380.1579 - mean_squared_error: 380.1579\n",
      "Epoch 29/100\n",
      "13/13 [==============================] - ETA: 0s - loss: 415.8298 - mean_squared_error: 415.82 - 0s 2ms/step - loss: 398.9800 - mean_squared_error: 398.9800\n",
      "Epoch 30/100\n",
      "13/13 [==============================] - 0s 1ms/step - loss: 405.9368 - mean_squared_error: 405.9368\n",
      "Epoch 31/100\n",
      "13/13 [==============================] - 0s 1ms/step - loss: 374.6836 - mean_squared_error: 374.6836\n",
      "Epoch 32/100\n",
      "13/13 [==============================] - 0s 1ms/step - loss: 393.3976 - mean_squared_error: 393.3976\n",
      "Epoch 33/100\n",
      "13/13 [==============================] - 0s 2ms/step - loss: 381.6900 - mean_squared_error: 381.6900\n",
      "Epoch 34/100\n",
      "13/13 [==============================] - 0s 1ms/step - loss: 408.3848 - mean_squared_error: 408.3848\n",
      "Epoch 35/100\n",
      "13/13 [==============================] - 0s 2ms/step - loss: 402.0865 - mean_squared_error: 402.0865\n",
      "Epoch 36/100\n",
      "13/13 [==============================] - 0s 2ms/step - loss: 381.3788 - mean_squared_error: 381.3788\n",
      "Epoch 37/100\n",
      "13/13 [==============================] - 0s 2ms/step - loss: 392.3816 - mean_squared_error: 392.3816\n",
      "Epoch 38/100\n",
      "13/13 [==============================] - 0s 2ms/step - loss: 368.3332 - mean_squared_error: 368.3332\n",
      "Epoch 39/100\n",
      "13/13 [==============================] - 0s 1ms/step - loss: 380.0579 - mean_squared_error: 380.0579\n",
      "Epoch 40/100\n",
      "13/13 [==============================] - 0s 2ms/step - loss: 387.7247 - mean_squared_error: 387.7247\n",
      "Epoch 41/100\n",
      "13/13 [==============================] - 0s 1ms/step - loss: 374.6981 - mean_squared_error: 374.6981\n",
      "Epoch 42/100\n",
      "13/13 [==============================] - 0s 2ms/step - loss: 370.6357 - mean_squared_error: 370.6357\n",
      "Epoch 43/100\n",
      "13/13 [==============================] - 0s 2ms/step - loss: 391.7086 - mean_squared_error: 391.7086\n",
      "Epoch 44/100\n",
      "13/13 [==============================] - 0s 1ms/step - loss: 373.5378 - mean_squared_error: 373.5378\n",
      "Epoch 45/100\n",
      "13/13 [==============================] - 0s 1ms/step - loss: 387.5124 - mean_squared_error: 387.5124\n",
      "Epoch 46/100\n",
      "13/13 [==============================] - 0s 1ms/step - loss: 406.2853 - mean_squared_error: 406.2853\n",
      "Epoch 47/100\n",
      "13/13 [==============================] - 0s 1ms/step - loss: 395.9796 - mean_squared_error: 395.9796\n",
      "Epoch 48/100\n",
      "13/13 [==============================] - 0s 2ms/step - loss: 370.9400 - mean_squared_error: 370.9400\n",
      "Epoch 49/100\n",
      "13/13 [==============================] - 0s 1ms/step - loss: 373.1536 - mean_squared_error: 373.1536\n",
      "Epoch 50/100\n",
      "13/13 [==============================] - 0s 2ms/step - loss: 380.4894 - mean_squared_error: 380.4894\n",
      "Epoch 51/100\n",
      "13/13 [==============================] - 0s 2ms/step - loss: 383.1554 - mean_squared_error: 383.1554\n",
      "Epoch 52/100\n",
      "13/13 [==============================] - 0s 1ms/step - loss: 397.0800 - mean_squared_error: 397.0800\n",
      "Epoch 53/100\n",
      "13/13 [==============================] - 0s 1ms/step - loss: 350.9764 - mean_squared_error: 350.9764\n",
      "Epoch 54/100\n",
      "13/13 [==============================] - 0s 1ms/step - loss: 388.3237 - mean_squared_error: 388.3237\n",
      "Epoch 55/100\n",
      "13/13 [==============================] - 0s 2ms/step - loss: 373.9680 - mean_squared_error: 373.9680\n",
      "Epoch 56/100\n",
      "13/13 [==============================] - 0s 1ms/step - loss: 376.4949 - mean_squared_error: 376.4949\n",
      "Epoch 57/100\n",
      "13/13 [==============================] - 0s 2ms/step - loss: 366.3157 - mean_squared_error: 366.3157\n",
      "Epoch 58/100\n",
      "13/13 [==============================] - 0s 1ms/step - loss: 361.4442 - mean_squared_error: 361.4442\n",
      "Epoch 59/100\n",
      "13/13 [==============================] - 0s 1ms/step - loss: 392.9928 - mean_squared_error: 392.9928\n",
      "Epoch 60/100\n",
      "13/13 [==============================] - 0s 1ms/step - loss: 398.4057 - mean_squared_error: 398.4057\n",
      "Epoch 61/100\n",
      "13/13 [==============================] - 0s 1ms/step - loss: 405.1237 - mean_squared_error: 405.1237\n",
      "Epoch 62/100\n",
      "13/13 [==============================] - 0s 2ms/step - loss: 378.9187 - mean_squared_error: 378.9187\n",
      "Epoch 63/100\n",
      "13/13 [==============================] - 0s 1ms/step - loss: 389.1009 - mean_squared_error: 389.1009\n",
      "Epoch 64/100\n",
      "13/13 [==============================] - 0s 1ms/step - loss: 381.8557 - mean_squared_error: 381.8557\n",
      "Epoch 65/100\n",
      "13/13 [==============================] - 0s 3ms/step - loss: 401.3528 - mean_squared_error: 401.3528\n",
      "Epoch 66/100\n",
      "13/13 [==============================] - 0s 2ms/step - loss: 348.6286 - mean_squared_error: 348.6286\n",
      "Epoch 67/100\n",
      "13/13 [==============================] - 0s 2ms/step - loss: 357.8037 - mean_squared_error: 357.8037\n",
      "Epoch 68/100\n",
      "13/13 [==============================] - 0s 2ms/step - loss: 372.5164 - mean_squared_error: 372.5164\n",
      "Epoch 69/100\n",
      "13/13 [==============================] - 0s 1ms/step - loss: 387.2699 - mean_squared_error: 387.2699\n",
      "Epoch 70/100\n",
      "13/13 [==============================] - 0s 2ms/step - loss: 361.1237 - mean_squared_error: 361.1237\n",
      "Epoch 71/100\n",
      "13/13 [==============================] - 0s 2ms/step - loss: 375.6706 - mean_squared_error: 375.6706\n",
      "Epoch 72/100\n",
      "13/13 [==============================] - 0s 2ms/step - loss: 374.5831 - mean_squared_error: 374.5831\n",
      "Epoch 73/100\n",
      "13/13 [==============================] - 0s 2ms/step - loss: 374.6938 - mean_squared_error: 374.6938\n",
      "Epoch 74/100\n",
      "13/13 [==============================] - 0s 1ms/step - loss: 374.4839 - mean_squared_error: 374.4839\n",
      "Epoch 75/100\n",
      "13/13 [==============================] - 0s 1ms/step - loss: 386.0982 - mean_squared_error: 386.0982\n",
      "Epoch 76/100\n",
      "13/13 [==============================] - 0s 2ms/step - loss: 389.5296 - mean_squared_error: 389.5296\n",
      "Epoch 77/100\n",
      "13/13 [==============================] - 0s 2ms/step - loss: 375.4610 - mean_squared_error: 375.4610\n",
      "Epoch 78/100\n",
      "13/13 [==============================] - 0s 2ms/step - loss: 403.2906 - mean_squared_error: 403.2906\n",
      "Epoch 79/100\n",
      "13/13 [==============================] - 0s 1ms/step - loss: 366.0279 - mean_squared_error: 366.0279\n",
      "Epoch 80/100\n",
      "13/13 [==============================] - 0s 2ms/step - loss: 385.5742 - mean_squared_error: 385.5742\n",
      "Epoch 81/100\n",
      "13/13 [==============================] - 0s 1ms/step - loss: 404.9403 - mean_squared_error: 404.9403\n",
      "Epoch 82/100\n",
      "13/13 [==============================] - 0s 1ms/step - loss: 406.7493 - mean_squared_error: 406.7493\n",
      "Epoch 83/100\n",
      "13/13 [==============================] - 0s 2ms/step - loss: 379.6314 - mean_squared_error: 379.6314\n",
      "Epoch 84/100\n",
      "13/13 [==============================] - 0s 1ms/step - loss: 364.4964 - mean_squared_error: 364.4964\n",
      "Epoch 85/100\n",
      "13/13 [==============================] - 0s 1ms/step - loss: 378.8746 - mean_squared_error: 378.8746\n",
      "Epoch 86/100\n",
      "13/13 [==============================] - 0s 1ms/step - loss: 403.5543 - mean_squared_error: 403.5543\n",
      "Epoch 87/100\n",
      "13/13 [==============================] - 0s 1ms/step - loss: 366.2397 - mean_squared_error: 366.2397\n",
      "Epoch 88/100\n",
      "13/13 [==============================] - 0s 2ms/step - loss: 370.0372 - mean_squared_error: 370.0372\n",
      "Epoch 89/100\n",
      "13/13 [==============================] - 0s 1ms/step - loss: 354.0226 - mean_squared_error: 354.0226\n",
      "Epoch 90/100\n",
      "13/13 [==============================] - 0s 1ms/step - loss: 347.7262 - mean_squared_error: 347.7262\n",
      "Epoch 91/100\n",
      "13/13 [==============================] - 0s 2ms/step - loss: 342.5133 - mean_squared_error: 342.5133\n",
      "Epoch 92/100\n",
      "13/13 [==============================] - 0s 1ms/step - loss: 333.2968 - mean_squared_error: 333.2968\n",
      "Epoch 93/100\n",
      "13/13 [==============================] - 0s 2ms/step - loss: 321.0978 - mean_squared_error: 321.0978\n",
      "Epoch 94/100\n",
      "13/13 [==============================] - 0s 1ms/step - loss: 316.1999 - mean_squared_error: 316.1999\n",
      "Epoch 95/100\n",
      "13/13 [==============================] - 0s 1ms/step - loss: 343.1309 - mean_squared_error: 343.1309\n",
      "Epoch 96/100\n",
      "13/13 [==============================] - 0s 1ms/step - loss: 316.4754 - mean_squared_error: 316.4754\n",
      "Epoch 97/100\n",
      "13/13 [==============================] - 0s 1ms/step - loss: 334.8073 - mean_squared_error: 334.8073\n",
      "Epoch 98/100\n",
      "13/13 [==============================] - 0s 1ms/step - loss: 323.7122 - mean_squared_error: 323.7122\n",
      "Epoch 99/100\n",
      "13/13 [==============================] - 0s 1ms/step - loss: 322.9403 - mean_squared_error: 322.9403\n",
      "Epoch 100/100\n",
      "13/13 [==============================] - 0s 2ms/step - loss: 336.2650 - mean_squared_error: 336.2650\n"
     ]
    }
   ],
   "source": [
    "hist = model.fit(X_train, y_train, batch_size=32, epochs=100)"
   ]
  },
  {
   "cell_type": "code",
   "execution_count": 116,
   "metadata": {},
   "outputs": [
    {
     "data": {
      "application/vnd.plotly.v1+json": {
       "config": {
        "plotlyServerURL": "https://plot.ly"
       },
       "data": [
        {
         "mode": "markers",
         "type": "scatter",
         "x": [
          0,
          1,
          2,
          3,
          4,
          5,
          6,
          7,
          8,
          9,
          10,
          11,
          12,
          13,
          14,
          15,
          16,
          17,
          18,
          19,
          20,
          21,
          22,
          23,
          24,
          25,
          26,
          27,
          28,
          29,
          30,
          31,
          32,
          33,
          34,
          35,
          36,
          37,
          38,
          39,
          40,
          41,
          42,
          43,
          44,
          45,
          46,
          47,
          48,
          49,
          50,
          51,
          52,
          53,
          54,
          55,
          56,
          57,
          58,
          59,
          60,
          61,
          62,
          63,
          64,
          65,
          66,
          67,
          68,
          69,
          70,
          71,
          72,
          73,
          74,
          75,
          76,
          77,
          78,
          79,
          80,
          81,
          82,
          83,
          84,
          85,
          86,
          87,
          88,
          89,
          90,
          91,
          92,
          93,
          94,
          95,
          96,
          97,
          98,
          99
         ],
         "y": [
          566.1949462890625,
          528.903564453125,
          489.8169860839844,
          454.6606140136719,
          428.0930480957031,
          410.545166015625,
          399.9541931152344,
          393.561767578125,
          389.89898681640625,
          387.84332275390625,
          386.6866455078125,
          386.0253601074219,
          385.6565856933594,
          385.4125061035156,
          385.2969665527344,
          385.2217712402344,
          385.1604309082031,
          385.1157531738281,
          385.0906066894531,
          385.03936767578125,
          385.00762939453125,
          384.9771728515625,
          384.9626770019531,
          384.94580078125,
          384.8841552734375,
          384.8615417480469,
          384.82293701171875,
          384.7998962402344,
          384.74981689453125,
          384.70684814453125,
          384.67620849609375,
          384.63641357421875,
          384.5821533203125,
          384.5565490722656,
          384.4922790527344,
          384.4648742675781,
          384.38995361328125,
          384.3395690917969,
          384.2809753417969,
          384.2176818847656,
          384.1904296875,
          384.0979919433594,
          384.0409851074219,
          383.9659118652344,
          383.89593505859375,
          383.8076171875,
          383.7404479980469,
          383.6398010253906,
          383.5602111816406,
          383.4599304199219,
          383.3717956542969,
          383.2750244140625,
          383.19647216796875,
          383.0738830566406,
          382.96380615234375,
          382.8575439453125,
          382.73687744140625,
          382.62237548828125,
          382.5013122558594,
          382.38525390625,
          382.2702331542969,
          382.1562805175781,
          382.0162353515625,
          381.866455078125,
          381.74029541015625,
          381.636962890625,
          381.492431640625,
          381.3804626464844,
          381.2308654785156,
          381.12835693359375,
          380.9841003417969,
          380.8663330078125,
          380.7510070800781,
          380.6407165527344,
          380.512451171875,
          380.4020080566406,
          380.2956848144531,
          380.19549560546875,
          380.0780944824219,
          380.007568359375,
          379.8841552734375,
          379.805419921875,
          379.69384765625,
          379.6146240234375,
          378.82452392578125,
          366.72174072265625,
          354.7115478515625,
          346.2339782714844,
          340.4508056640625,
          336.37359619140625,
          333.66864013671875,
          331.781982421875,
          330.43890380859375,
          329.5408935546875,
          328.8809814453125,
          328.4158020019531,
          328.0531005859375,
          327.8245544433594,
          327.5761413574219,
          327.4092712402344
         ]
        }
       ],
       "layout": {
        "template": {
         "data": {
          "bar": [
           {
            "error_x": {
             "color": "#2a3f5f"
            },
            "error_y": {
             "color": "#2a3f5f"
            },
            "marker": {
             "line": {
              "color": "#E5ECF6",
              "width": 0.5
             }
            },
            "type": "bar"
           }
          ],
          "barpolar": [
           {
            "marker": {
             "line": {
              "color": "#E5ECF6",
              "width": 0.5
             }
            },
            "type": "barpolar"
           }
          ],
          "carpet": [
           {
            "aaxis": {
             "endlinecolor": "#2a3f5f",
             "gridcolor": "white",
             "linecolor": "white",
             "minorgridcolor": "white",
             "startlinecolor": "#2a3f5f"
            },
            "baxis": {
             "endlinecolor": "#2a3f5f",
             "gridcolor": "white",
             "linecolor": "white",
             "minorgridcolor": "white",
             "startlinecolor": "#2a3f5f"
            },
            "type": "carpet"
           }
          ],
          "choropleth": [
           {
            "colorbar": {
             "outlinewidth": 0,
             "ticks": ""
            },
            "type": "choropleth"
           }
          ],
          "contour": [
           {
            "colorbar": {
             "outlinewidth": 0,
             "ticks": ""
            },
            "colorscale": [
             [
              0,
              "#0d0887"
             ],
             [
              0.1111111111111111,
              "#46039f"
             ],
             [
              0.2222222222222222,
              "#7201a8"
             ],
             [
              0.3333333333333333,
              "#9c179e"
             ],
             [
              0.4444444444444444,
              "#bd3786"
             ],
             [
              0.5555555555555556,
              "#d8576b"
             ],
             [
              0.6666666666666666,
              "#ed7953"
             ],
             [
              0.7777777777777778,
              "#fb9f3a"
             ],
             [
              0.8888888888888888,
              "#fdca26"
             ],
             [
              1,
              "#f0f921"
             ]
            ],
            "type": "contour"
           }
          ],
          "contourcarpet": [
           {
            "colorbar": {
             "outlinewidth": 0,
             "ticks": ""
            },
            "type": "contourcarpet"
           }
          ],
          "heatmap": [
           {
            "colorbar": {
             "outlinewidth": 0,
             "ticks": ""
            },
            "colorscale": [
             [
              0,
              "#0d0887"
             ],
             [
              0.1111111111111111,
              "#46039f"
             ],
             [
              0.2222222222222222,
              "#7201a8"
             ],
             [
              0.3333333333333333,
              "#9c179e"
             ],
             [
              0.4444444444444444,
              "#bd3786"
             ],
             [
              0.5555555555555556,
              "#d8576b"
             ],
             [
              0.6666666666666666,
              "#ed7953"
             ],
             [
              0.7777777777777778,
              "#fb9f3a"
             ],
             [
              0.8888888888888888,
              "#fdca26"
             ],
             [
              1,
              "#f0f921"
             ]
            ],
            "type": "heatmap"
           }
          ],
          "heatmapgl": [
           {
            "colorbar": {
             "outlinewidth": 0,
             "ticks": ""
            },
            "colorscale": [
             [
              0,
              "#0d0887"
             ],
             [
              0.1111111111111111,
              "#46039f"
             ],
             [
              0.2222222222222222,
              "#7201a8"
             ],
             [
              0.3333333333333333,
              "#9c179e"
             ],
             [
              0.4444444444444444,
              "#bd3786"
             ],
             [
              0.5555555555555556,
              "#d8576b"
             ],
             [
              0.6666666666666666,
              "#ed7953"
             ],
             [
              0.7777777777777778,
              "#fb9f3a"
             ],
             [
              0.8888888888888888,
              "#fdca26"
             ],
             [
              1,
              "#f0f921"
             ]
            ],
            "type": "heatmapgl"
           }
          ],
          "histogram": [
           {
            "marker": {
             "colorbar": {
              "outlinewidth": 0,
              "ticks": ""
             }
            },
            "type": "histogram"
           }
          ],
          "histogram2d": [
           {
            "colorbar": {
             "outlinewidth": 0,
             "ticks": ""
            },
            "colorscale": [
             [
              0,
              "#0d0887"
             ],
             [
              0.1111111111111111,
              "#46039f"
             ],
             [
              0.2222222222222222,
              "#7201a8"
             ],
             [
              0.3333333333333333,
              "#9c179e"
             ],
             [
              0.4444444444444444,
              "#bd3786"
             ],
             [
              0.5555555555555556,
              "#d8576b"
             ],
             [
              0.6666666666666666,
              "#ed7953"
             ],
             [
              0.7777777777777778,
              "#fb9f3a"
             ],
             [
              0.8888888888888888,
              "#fdca26"
             ],
             [
              1,
              "#f0f921"
             ]
            ],
            "type": "histogram2d"
           }
          ],
          "histogram2dcontour": [
           {
            "colorbar": {
             "outlinewidth": 0,
             "ticks": ""
            },
            "colorscale": [
             [
              0,
              "#0d0887"
             ],
             [
              0.1111111111111111,
              "#46039f"
             ],
             [
              0.2222222222222222,
              "#7201a8"
             ],
             [
              0.3333333333333333,
              "#9c179e"
             ],
             [
              0.4444444444444444,
              "#bd3786"
             ],
             [
              0.5555555555555556,
              "#d8576b"
             ],
             [
              0.6666666666666666,
              "#ed7953"
             ],
             [
              0.7777777777777778,
              "#fb9f3a"
             ],
             [
              0.8888888888888888,
              "#fdca26"
             ],
             [
              1,
              "#f0f921"
             ]
            ],
            "type": "histogram2dcontour"
           }
          ],
          "mesh3d": [
           {
            "colorbar": {
             "outlinewidth": 0,
             "ticks": ""
            },
            "type": "mesh3d"
           }
          ],
          "parcoords": [
           {
            "line": {
             "colorbar": {
              "outlinewidth": 0,
              "ticks": ""
             }
            },
            "type": "parcoords"
           }
          ],
          "pie": [
           {
            "automargin": true,
            "type": "pie"
           }
          ],
          "scatter": [
           {
            "marker": {
             "colorbar": {
              "outlinewidth": 0,
              "ticks": ""
             }
            },
            "type": "scatter"
           }
          ],
          "scatter3d": [
           {
            "line": {
             "colorbar": {
              "outlinewidth": 0,
              "ticks": ""
             }
            },
            "marker": {
             "colorbar": {
              "outlinewidth": 0,
              "ticks": ""
             }
            },
            "type": "scatter3d"
           }
          ],
          "scattercarpet": [
           {
            "marker": {
             "colorbar": {
              "outlinewidth": 0,
              "ticks": ""
             }
            },
            "type": "scattercarpet"
           }
          ],
          "scattergeo": [
           {
            "marker": {
             "colorbar": {
              "outlinewidth": 0,
              "ticks": ""
             }
            },
            "type": "scattergeo"
           }
          ],
          "scattergl": [
           {
            "marker": {
             "colorbar": {
              "outlinewidth": 0,
              "ticks": ""
             }
            },
            "type": "scattergl"
           }
          ],
          "scattermapbox": [
           {
            "marker": {
             "colorbar": {
              "outlinewidth": 0,
              "ticks": ""
             }
            },
            "type": "scattermapbox"
           }
          ],
          "scatterpolar": [
           {
            "marker": {
             "colorbar": {
              "outlinewidth": 0,
              "ticks": ""
             }
            },
            "type": "scatterpolar"
           }
          ],
          "scatterpolargl": [
           {
            "marker": {
             "colorbar": {
              "outlinewidth": 0,
              "ticks": ""
             }
            },
            "type": "scatterpolargl"
           }
          ],
          "scatterternary": [
           {
            "marker": {
             "colorbar": {
              "outlinewidth": 0,
              "ticks": ""
             }
            },
            "type": "scatterternary"
           }
          ],
          "surface": [
           {
            "colorbar": {
             "outlinewidth": 0,
             "ticks": ""
            },
            "colorscale": [
             [
              0,
              "#0d0887"
             ],
             [
              0.1111111111111111,
              "#46039f"
             ],
             [
              0.2222222222222222,
              "#7201a8"
             ],
             [
              0.3333333333333333,
              "#9c179e"
             ],
             [
              0.4444444444444444,
              "#bd3786"
             ],
             [
              0.5555555555555556,
              "#d8576b"
             ],
             [
              0.6666666666666666,
              "#ed7953"
             ],
             [
              0.7777777777777778,
              "#fb9f3a"
             ],
             [
              0.8888888888888888,
              "#fdca26"
             ],
             [
              1,
              "#f0f921"
             ]
            ],
            "type": "surface"
           }
          ],
          "table": [
           {
            "cells": {
             "fill": {
              "color": "#EBF0F8"
             },
             "line": {
              "color": "white"
             }
            },
            "header": {
             "fill": {
              "color": "#C8D4E3"
             },
             "line": {
              "color": "white"
             }
            },
            "type": "table"
           }
          ]
         },
         "layout": {
          "annotationdefaults": {
           "arrowcolor": "#2a3f5f",
           "arrowhead": 0,
           "arrowwidth": 1
          },
          "coloraxis": {
           "colorbar": {
            "outlinewidth": 0,
            "ticks": ""
           }
          },
          "colorscale": {
           "diverging": [
            [
             0,
             "#8e0152"
            ],
            [
             0.1,
             "#c51b7d"
            ],
            [
             0.2,
             "#de77ae"
            ],
            [
             0.3,
             "#f1b6da"
            ],
            [
             0.4,
             "#fde0ef"
            ],
            [
             0.5,
             "#f7f7f7"
            ],
            [
             0.6,
             "#e6f5d0"
            ],
            [
             0.7,
             "#b8e186"
            ],
            [
             0.8,
             "#7fbc41"
            ],
            [
             0.9,
             "#4d9221"
            ],
            [
             1,
             "#276419"
            ]
           ],
           "sequential": [
            [
             0,
             "#0d0887"
            ],
            [
             0.1111111111111111,
             "#46039f"
            ],
            [
             0.2222222222222222,
             "#7201a8"
            ],
            [
             0.3333333333333333,
             "#9c179e"
            ],
            [
             0.4444444444444444,
             "#bd3786"
            ],
            [
             0.5555555555555556,
             "#d8576b"
            ],
            [
             0.6666666666666666,
             "#ed7953"
            ],
            [
             0.7777777777777778,
             "#fb9f3a"
            ],
            [
             0.8888888888888888,
             "#fdca26"
            ],
            [
             1,
             "#f0f921"
            ]
           ],
           "sequentialminus": [
            [
             0,
             "#0d0887"
            ],
            [
             0.1111111111111111,
             "#46039f"
            ],
            [
             0.2222222222222222,
             "#7201a8"
            ],
            [
             0.3333333333333333,
             "#9c179e"
            ],
            [
             0.4444444444444444,
             "#bd3786"
            ],
            [
             0.5555555555555556,
             "#d8576b"
            ],
            [
             0.6666666666666666,
             "#ed7953"
            ],
            [
             0.7777777777777778,
             "#fb9f3a"
            ],
            [
             0.8888888888888888,
             "#fdca26"
            ],
            [
             1,
             "#f0f921"
            ]
           ]
          },
          "colorway": [
           "#636efa",
           "#EF553B",
           "#00cc96",
           "#ab63fa",
           "#FFA15A",
           "#19d3f3",
           "#FF6692",
           "#B6E880",
           "#FF97FF",
           "#FECB52"
          ],
          "font": {
           "color": "#2a3f5f"
          },
          "geo": {
           "bgcolor": "white",
           "lakecolor": "white",
           "landcolor": "#E5ECF6",
           "showlakes": true,
           "showland": true,
           "subunitcolor": "white"
          },
          "hoverlabel": {
           "align": "left"
          },
          "hovermode": "closest",
          "mapbox": {
           "style": "light"
          },
          "paper_bgcolor": "white",
          "plot_bgcolor": "#E5ECF6",
          "polar": {
           "angularaxis": {
            "gridcolor": "white",
            "linecolor": "white",
            "ticks": ""
           },
           "bgcolor": "#E5ECF6",
           "radialaxis": {
            "gridcolor": "white",
            "linecolor": "white",
            "ticks": ""
           }
          },
          "scene": {
           "xaxis": {
            "backgroundcolor": "#E5ECF6",
            "gridcolor": "white",
            "gridwidth": 2,
            "linecolor": "white",
            "showbackground": true,
            "ticks": "",
            "zerolinecolor": "white"
           },
           "yaxis": {
            "backgroundcolor": "#E5ECF6",
            "gridcolor": "white",
            "gridwidth": 2,
            "linecolor": "white",
            "showbackground": true,
            "ticks": "",
            "zerolinecolor": "white"
           },
           "zaxis": {
            "backgroundcolor": "#E5ECF6",
            "gridcolor": "white",
            "gridwidth": 2,
            "linecolor": "white",
            "showbackground": true,
            "ticks": "",
            "zerolinecolor": "white"
           }
          },
          "shapedefaults": {
           "line": {
            "color": "#2a3f5f"
           }
          },
          "ternary": {
           "aaxis": {
            "gridcolor": "white",
            "linecolor": "white",
            "ticks": ""
           },
           "baxis": {
            "gridcolor": "white",
            "linecolor": "white",
            "ticks": ""
           },
           "bgcolor": "#E5ECF6",
           "caxis": {
            "gridcolor": "white",
            "linecolor": "white",
            "ticks": ""
           }
          },
          "title": {
           "x": 0.05
          },
          "xaxis": {
           "automargin": true,
           "gridcolor": "white",
           "linecolor": "white",
           "ticks": "",
           "title": {
            "standoff": 15
           },
           "zerolinecolor": "white",
           "zerolinewidth": 2
          },
          "yaxis": {
           "automargin": true,
           "gridcolor": "white",
           "linecolor": "white",
           "ticks": "",
           "title": {
            "standoff": 15
           },
           "zerolinecolor": "white",
           "zerolinewidth": 2
          }
         }
        },
        "title": {
         "text": "Mean Squared Error by Epoch"
        }
       }
      },
      "text/html": [
       "<div>\n",
       "        \n",
       "        \n",
       "            <div id=\"65d75563-c0ce-4598-97f8-f8aef7958241\" class=\"plotly-graph-div\" style=\"height:525px; width:100%;\"></div>\n",
       "            <script type=\"text/javascript\">\n",
       "                require([\"plotly\"], function(Plotly) {\n",
       "                    window.PLOTLYENV=window.PLOTLYENV || {};\n",
       "                    \n",
       "                if (document.getElementById(\"65d75563-c0ce-4598-97f8-f8aef7958241\")) {\n",
       "                    Plotly.newPlot(\n",
       "                        '65d75563-c0ce-4598-97f8-f8aef7958241',\n",
       "                        [{\"mode\": \"markers\", \"type\": \"scatter\", \"x\": [0, 1, 2, 3, 4, 5, 6, 7, 8, 9, 10, 11, 12, 13, 14, 15, 16, 17, 18, 19, 20, 21, 22, 23, 24, 25, 26, 27, 28, 29, 30, 31, 32, 33, 34, 35, 36, 37, 38, 39, 40, 41, 42, 43, 44, 45, 46, 47, 48, 49, 50, 51, 52, 53, 54, 55, 56, 57, 58, 59, 60, 61, 62, 63, 64, 65, 66, 67, 68, 69, 70, 71, 72, 73, 74, 75, 76, 77, 78, 79, 80, 81, 82, 83, 84, 85, 86, 87, 88, 89, 90, 91, 92, 93, 94, 95, 96, 97, 98, 99], \"y\": [566.1949462890625, 528.903564453125, 489.8169860839844, 454.6606140136719, 428.0930480957031, 410.545166015625, 399.9541931152344, 393.561767578125, 389.89898681640625, 387.84332275390625, 386.6866455078125, 386.0253601074219, 385.6565856933594, 385.4125061035156, 385.2969665527344, 385.2217712402344, 385.1604309082031, 385.1157531738281, 385.0906066894531, 385.03936767578125, 385.00762939453125, 384.9771728515625, 384.9626770019531, 384.94580078125, 384.8841552734375, 384.8615417480469, 384.82293701171875, 384.7998962402344, 384.74981689453125, 384.70684814453125, 384.67620849609375, 384.63641357421875, 384.5821533203125, 384.5565490722656, 384.4922790527344, 384.4648742675781, 384.38995361328125, 384.3395690917969, 384.2809753417969, 384.2176818847656, 384.1904296875, 384.0979919433594, 384.0409851074219, 383.9659118652344, 383.89593505859375, 383.8076171875, 383.7404479980469, 383.6398010253906, 383.5602111816406, 383.4599304199219, 383.3717956542969, 383.2750244140625, 383.19647216796875, 383.0738830566406, 382.96380615234375, 382.8575439453125, 382.73687744140625, 382.62237548828125, 382.5013122558594, 382.38525390625, 382.2702331542969, 382.1562805175781, 382.0162353515625, 381.866455078125, 381.74029541015625, 381.636962890625, 381.492431640625, 381.3804626464844, 381.2308654785156, 381.12835693359375, 380.9841003417969, 380.8663330078125, 380.7510070800781, 380.6407165527344, 380.512451171875, 380.4020080566406, 380.2956848144531, 380.19549560546875, 380.0780944824219, 380.007568359375, 379.8841552734375, 379.805419921875, 379.69384765625, 379.6146240234375, 378.82452392578125, 366.72174072265625, 354.7115478515625, 346.2339782714844, 340.4508056640625, 336.37359619140625, 333.66864013671875, 331.781982421875, 330.43890380859375, 329.5408935546875, 328.8809814453125, 328.4158020019531, 328.0531005859375, 327.8245544433594, 327.5761413574219, 327.4092712402344]}],\n",
       "                        {\"template\": {\"data\": {\"bar\": [{\"error_x\": {\"color\": \"#2a3f5f\"}, \"error_y\": {\"color\": \"#2a3f5f\"}, \"marker\": {\"line\": {\"color\": \"#E5ECF6\", \"width\": 0.5}}, \"type\": \"bar\"}], \"barpolar\": [{\"marker\": {\"line\": {\"color\": \"#E5ECF6\", \"width\": 0.5}}, \"type\": \"barpolar\"}], \"carpet\": [{\"aaxis\": {\"endlinecolor\": \"#2a3f5f\", \"gridcolor\": \"white\", \"linecolor\": \"white\", \"minorgridcolor\": \"white\", \"startlinecolor\": \"#2a3f5f\"}, \"baxis\": {\"endlinecolor\": \"#2a3f5f\", \"gridcolor\": \"white\", \"linecolor\": \"white\", \"minorgridcolor\": \"white\", \"startlinecolor\": \"#2a3f5f\"}, \"type\": \"carpet\"}], \"choropleth\": [{\"colorbar\": {\"outlinewidth\": 0, \"ticks\": \"\"}, \"type\": \"choropleth\"}], \"contour\": [{\"colorbar\": {\"outlinewidth\": 0, \"ticks\": \"\"}, \"colorscale\": [[0.0, \"#0d0887\"], [0.1111111111111111, \"#46039f\"], [0.2222222222222222, \"#7201a8\"], [0.3333333333333333, \"#9c179e\"], [0.4444444444444444, \"#bd3786\"], [0.5555555555555556, \"#d8576b\"], [0.6666666666666666, \"#ed7953\"], [0.7777777777777778, \"#fb9f3a\"], [0.8888888888888888, \"#fdca26\"], [1.0, \"#f0f921\"]], \"type\": \"contour\"}], \"contourcarpet\": [{\"colorbar\": {\"outlinewidth\": 0, \"ticks\": \"\"}, \"type\": \"contourcarpet\"}], \"heatmap\": [{\"colorbar\": {\"outlinewidth\": 0, \"ticks\": \"\"}, \"colorscale\": [[0.0, \"#0d0887\"], [0.1111111111111111, \"#46039f\"], [0.2222222222222222, \"#7201a8\"], [0.3333333333333333, \"#9c179e\"], [0.4444444444444444, \"#bd3786\"], [0.5555555555555556, \"#d8576b\"], [0.6666666666666666, \"#ed7953\"], [0.7777777777777778, \"#fb9f3a\"], [0.8888888888888888, \"#fdca26\"], [1.0, \"#f0f921\"]], \"type\": \"heatmap\"}], \"heatmapgl\": [{\"colorbar\": {\"outlinewidth\": 0, \"ticks\": \"\"}, \"colorscale\": [[0.0, \"#0d0887\"], [0.1111111111111111, \"#46039f\"], [0.2222222222222222, \"#7201a8\"], [0.3333333333333333, \"#9c179e\"], [0.4444444444444444, \"#bd3786\"], [0.5555555555555556, \"#d8576b\"], [0.6666666666666666, \"#ed7953\"], [0.7777777777777778, \"#fb9f3a\"], [0.8888888888888888, \"#fdca26\"], [1.0, \"#f0f921\"]], \"type\": \"heatmapgl\"}], \"histogram\": [{\"marker\": {\"colorbar\": {\"outlinewidth\": 0, \"ticks\": \"\"}}, \"type\": \"histogram\"}], \"histogram2d\": [{\"colorbar\": {\"outlinewidth\": 0, \"ticks\": \"\"}, \"colorscale\": [[0.0, \"#0d0887\"], [0.1111111111111111, \"#46039f\"], [0.2222222222222222, \"#7201a8\"], [0.3333333333333333, \"#9c179e\"], [0.4444444444444444, \"#bd3786\"], [0.5555555555555556, \"#d8576b\"], [0.6666666666666666, \"#ed7953\"], [0.7777777777777778, \"#fb9f3a\"], [0.8888888888888888, \"#fdca26\"], [1.0, \"#f0f921\"]], \"type\": \"histogram2d\"}], \"histogram2dcontour\": [{\"colorbar\": {\"outlinewidth\": 0, \"ticks\": \"\"}, \"colorscale\": [[0.0, \"#0d0887\"], [0.1111111111111111, \"#46039f\"], [0.2222222222222222, \"#7201a8\"], [0.3333333333333333, \"#9c179e\"], [0.4444444444444444, \"#bd3786\"], [0.5555555555555556, \"#d8576b\"], [0.6666666666666666, \"#ed7953\"], [0.7777777777777778, \"#fb9f3a\"], [0.8888888888888888, \"#fdca26\"], [1.0, \"#f0f921\"]], \"type\": \"histogram2dcontour\"}], \"mesh3d\": [{\"colorbar\": {\"outlinewidth\": 0, \"ticks\": \"\"}, \"type\": \"mesh3d\"}], \"parcoords\": [{\"line\": {\"colorbar\": {\"outlinewidth\": 0, \"ticks\": \"\"}}, \"type\": \"parcoords\"}], \"pie\": [{\"automargin\": true, \"type\": \"pie\"}], \"scatter\": [{\"marker\": {\"colorbar\": {\"outlinewidth\": 0, \"ticks\": \"\"}}, \"type\": \"scatter\"}], \"scatter3d\": [{\"line\": {\"colorbar\": {\"outlinewidth\": 0, \"ticks\": \"\"}}, \"marker\": {\"colorbar\": {\"outlinewidth\": 0, \"ticks\": \"\"}}, \"type\": \"scatter3d\"}], \"scattercarpet\": [{\"marker\": {\"colorbar\": {\"outlinewidth\": 0, \"ticks\": \"\"}}, \"type\": \"scattercarpet\"}], \"scattergeo\": [{\"marker\": {\"colorbar\": {\"outlinewidth\": 0, \"ticks\": \"\"}}, \"type\": \"scattergeo\"}], \"scattergl\": [{\"marker\": {\"colorbar\": {\"outlinewidth\": 0, \"ticks\": \"\"}}, \"type\": \"scattergl\"}], \"scattermapbox\": [{\"marker\": {\"colorbar\": {\"outlinewidth\": 0, \"ticks\": \"\"}}, \"type\": \"scattermapbox\"}], \"scatterpolar\": [{\"marker\": {\"colorbar\": {\"outlinewidth\": 0, \"ticks\": \"\"}}, \"type\": \"scatterpolar\"}], \"scatterpolargl\": [{\"marker\": {\"colorbar\": {\"outlinewidth\": 0, \"ticks\": \"\"}}, \"type\": \"scatterpolargl\"}], \"scatterternary\": [{\"marker\": {\"colorbar\": {\"outlinewidth\": 0, \"ticks\": \"\"}}, \"type\": \"scatterternary\"}], \"surface\": [{\"colorbar\": {\"outlinewidth\": 0, \"ticks\": \"\"}, \"colorscale\": [[0.0, \"#0d0887\"], [0.1111111111111111, \"#46039f\"], [0.2222222222222222, \"#7201a8\"], [0.3333333333333333, \"#9c179e\"], [0.4444444444444444, \"#bd3786\"], [0.5555555555555556, \"#d8576b\"], [0.6666666666666666, \"#ed7953\"], [0.7777777777777778, \"#fb9f3a\"], [0.8888888888888888, \"#fdca26\"], [1.0, \"#f0f921\"]], \"type\": \"surface\"}], \"table\": [{\"cells\": {\"fill\": {\"color\": \"#EBF0F8\"}, \"line\": {\"color\": \"white\"}}, \"header\": {\"fill\": {\"color\": \"#C8D4E3\"}, \"line\": {\"color\": \"white\"}}, \"type\": \"table\"}]}, \"layout\": {\"annotationdefaults\": {\"arrowcolor\": \"#2a3f5f\", \"arrowhead\": 0, \"arrowwidth\": 1}, \"coloraxis\": {\"colorbar\": {\"outlinewidth\": 0, \"ticks\": \"\"}}, \"colorscale\": {\"diverging\": [[0, \"#8e0152\"], [0.1, \"#c51b7d\"], [0.2, \"#de77ae\"], [0.3, \"#f1b6da\"], [0.4, \"#fde0ef\"], [0.5, \"#f7f7f7\"], [0.6, \"#e6f5d0\"], [0.7, \"#b8e186\"], [0.8, \"#7fbc41\"], [0.9, \"#4d9221\"], [1, \"#276419\"]], \"sequential\": [[0.0, \"#0d0887\"], [0.1111111111111111, \"#46039f\"], [0.2222222222222222, \"#7201a8\"], [0.3333333333333333, \"#9c179e\"], [0.4444444444444444, \"#bd3786\"], [0.5555555555555556, \"#d8576b\"], [0.6666666666666666, \"#ed7953\"], [0.7777777777777778, \"#fb9f3a\"], [0.8888888888888888, \"#fdca26\"], [1.0, \"#f0f921\"]], \"sequentialminus\": [[0.0, \"#0d0887\"], [0.1111111111111111, \"#46039f\"], [0.2222222222222222, \"#7201a8\"], [0.3333333333333333, \"#9c179e\"], [0.4444444444444444, \"#bd3786\"], [0.5555555555555556, \"#d8576b\"], [0.6666666666666666, \"#ed7953\"], [0.7777777777777778, \"#fb9f3a\"], [0.8888888888888888, \"#fdca26\"], [1.0, \"#f0f921\"]]}, \"colorway\": [\"#636efa\", \"#EF553B\", \"#00cc96\", \"#ab63fa\", \"#FFA15A\", \"#19d3f3\", \"#FF6692\", \"#B6E880\", \"#FF97FF\", \"#FECB52\"], \"font\": {\"color\": \"#2a3f5f\"}, \"geo\": {\"bgcolor\": \"white\", \"lakecolor\": \"white\", \"landcolor\": \"#E5ECF6\", \"showlakes\": true, \"showland\": true, \"subunitcolor\": \"white\"}, \"hoverlabel\": {\"align\": \"left\"}, \"hovermode\": \"closest\", \"mapbox\": {\"style\": \"light\"}, \"paper_bgcolor\": \"white\", \"plot_bgcolor\": \"#E5ECF6\", \"polar\": {\"angularaxis\": {\"gridcolor\": \"white\", \"linecolor\": \"white\", \"ticks\": \"\"}, \"bgcolor\": \"#E5ECF6\", \"radialaxis\": {\"gridcolor\": \"white\", \"linecolor\": \"white\", \"ticks\": \"\"}}, \"scene\": {\"xaxis\": {\"backgroundcolor\": \"#E5ECF6\", \"gridcolor\": \"white\", \"gridwidth\": 2, \"linecolor\": \"white\", \"showbackground\": true, \"ticks\": \"\", \"zerolinecolor\": \"white\"}, \"yaxis\": {\"backgroundcolor\": \"#E5ECF6\", \"gridcolor\": \"white\", \"gridwidth\": 2, \"linecolor\": \"white\", \"showbackground\": true, \"ticks\": \"\", \"zerolinecolor\": \"white\"}, \"zaxis\": {\"backgroundcolor\": \"#E5ECF6\", \"gridcolor\": \"white\", \"gridwidth\": 2, \"linecolor\": \"white\", \"showbackground\": true, \"ticks\": \"\", \"zerolinecolor\": \"white\"}}, \"shapedefaults\": {\"line\": {\"color\": \"#2a3f5f\"}}, \"ternary\": {\"aaxis\": {\"gridcolor\": \"white\", \"linecolor\": \"white\", \"ticks\": \"\"}, \"baxis\": {\"gridcolor\": \"white\", \"linecolor\": \"white\", \"ticks\": \"\"}, \"bgcolor\": \"#E5ECF6\", \"caxis\": {\"gridcolor\": \"white\", \"linecolor\": \"white\", \"ticks\": \"\"}}, \"title\": {\"x\": 0.05}, \"xaxis\": {\"automargin\": true, \"gridcolor\": \"white\", \"linecolor\": \"white\", \"ticks\": \"\", \"title\": {\"standoff\": 15}, \"zerolinecolor\": \"white\", \"zerolinewidth\": 2}, \"yaxis\": {\"automargin\": true, \"gridcolor\": \"white\", \"linecolor\": \"white\", \"ticks\": \"\", \"title\": {\"standoff\": 15}, \"zerolinecolor\": \"white\", \"zerolinewidth\": 2}}}, \"title\": {\"text\": \"Mean Squared Error by Epoch\"}},\n",
       "                        {\"responsive\": true}\n",
       "                    ).then(function(){\n",
       "                            \n",
       "var gd = document.getElementById('65d75563-c0ce-4598-97f8-f8aef7958241');\n",
       "var x = new MutationObserver(function (mutations, observer) {{\n",
       "        var display = window.getComputedStyle(gd).display;\n",
       "        if (!display || display === 'none') {{\n",
       "            console.log([gd, 'removed!']);\n",
       "            Plotly.purge(gd);\n",
       "            observer.disconnect();\n",
       "        }}\n",
       "}});\n",
       "\n",
       "// Listen for the removal of the full notebook cells\n",
       "var notebookContainer = gd.closest('#notebook-container');\n",
       "if (notebookContainer) {{\n",
       "    x.observe(notebookContainer, {childList: true});\n",
       "}}\n",
       "\n",
       "// Listen for the clearing of the current output cell\n",
       "var outputEl = gd.closest('.output');\n",
       "if (outputEl) {{\n",
       "    x.observe(outputEl, {childList: true});\n",
       "}}\n",
       "\n",
       "                        })\n",
       "                };\n",
       "                });\n",
       "            </script>\n",
       "        </div>"
      ]
     },
     "metadata": {},
     "output_type": "display_data"
    }
   ],
   "source": [
    "import plotly.graph_objects as go\n",
    "\n",
    "fig = go.Figure(data=go.Scatter(x=hist.epoch, y=hist.history['mean_squared_error'], mode='markers'))\n",
    "fig.update_layout(title=\"Mean Squared Error by Epoch\")\n",
    "fig.show()"
   ]
  },
  {
   "cell_type": "code",
   "execution_count": 117,
   "metadata": {},
   "outputs": [
    {
     "name": "stdout",
     "output_type": "stream",
     "text": [
      "4/4 [==============================] - 0s 34ms/step - loss: 340.2130 - mean_squared_error: 340.2130\n"
     ]
    },
    {
     "data": {
      "text/plain": [
       "[340.2129821777344, 340.2129821777344]"
      ]
     },
     "execution_count": 117,
     "metadata": {},
     "output_type": "execute_result"
    }
   ],
   "source": [
    "scores = model.evaluate(X_test, y_test)\n",
    "scores"
   ]
  },
  {
   "cell_type": "markdown",
   "metadata": {
    "colab_type": "text",
    "id": "SfcFnOONyuNm"
   },
   "source": [
    "## Use the Keras Library to build an image recognition network using the Fashion-MNIST dataset (also comes with keras)\n",
    "\n",
    "- Load and preprocess the image data similar to how we preprocessed the MNIST data in class.\n",
    "- Make sure to one-hot encode your category labels\n",
    "- The number of nodes in your output layer should equal the number of classes you want to predict for Fashion-MNIST.\n",
    "- Try different hyperparameters. What is the highest accuracy that you are able to achieve.\n",
    "- Use the history object that is returned from model.fit to make graphs of the model's loss or train/validation accuracies by epoch. \n",
    "- Remember that neural networks fall prey to randomness so you may need to run your model multiple times (or use Cross Validation) in order to tell if a change to a hyperparameter is truly producing better results."
   ]
  },
  {
   "cell_type": "code",
   "execution_count": 129,
   "metadata": {
    "colab": {},
    "colab_type": "code",
    "id": "szi6-IpuzaH1"
   },
   "outputs": [
    {
     "name": "stdout",
     "output_type": "stream",
     "text": [
      "2.4.0-dev20200727\n"
     ]
    }
   ],
   "source": [
    "##### Your Code Here #####\n",
    "import tensorflow as tf\n",
    "from tensorflow import keras\n",
    "\n",
    "#helper libraries\n",
    "import numpy as np\n",
    "import matplotlib.pyplot as plt\n",
    "\n",
    "print (tf.__version__)\n",
    "\n",
    "from tensorflow.keras.datasets import fashion_mnist"
   ]
  },
  {
   "cell_type": "code",
   "execution_count": 119,
   "metadata": {},
   "outputs": [],
   "source": [
    "(X_train, y_train), (X_test, y_test) = fashion_mnist.load_data()"
   ]
  },
  {
   "cell_type": "code",
   "execution_count": 120,
   "metadata": {},
   "outputs": [
    {
     "data": {
      "text/plain": [
       "(60000, 28, 28)"
      ]
     },
     "execution_count": 120,
     "metadata": {},
     "output_type": "execute_result"
    }
   ],
   "source": [
    "X_train.shape"
   ]
  },
  {
   "cell_type": "code",
   "execution_count": 131,
   "metadata": {},
   "outputs": [
    {
     "data": {
      "image/png": "[encoded data removed]",
      "text/plain": [
       "<Figure size 432x288 with 2 Axes>"
      ]
     },
     "metadata": {
      "needs_background": "light"
     },
     "output_type": "display_data"
    }
   ],
   "source": [
    "plt.figure()\n",
    "plt.imshow(X_train[0])\n",
    "plt.colorbar()\n",
    "plt.grid(False)\n",
    "plt.show()"
   ]
  },
  {
   "cell_type": "code",
   "execution_count": 153,
   "metadata": {},
   "outputs": [],
   "source": [
    "import numpy as np\n",
    "\n",
    "X_train = X_train/255\n",
    "X_test = X_test/255\n"
   ]
  },
  {
   "cell_type": "code",
   "execution_count": 158,
   "metadata": {},
   "outputs": [
    {
     "data": {
      "image/png": "[encoded data removed]",
      "text/plain": [
       "<Figure size 432x288 with 2 Axes>"
      ]
     },
     "metadata": {
      "needs_background": "light"
     },
     "output_type": "display_data"
    }
   ],
   "source": [
    "plt.figure()\n",
    "plt.imshow(X_train[0])\n",
    "plt.colorbar()\n",
    "plt.grid(False)\n",
    "plt.show()"
   ]
  },
  {
   "cell_type": "code",
   "execution_count": 154,
   "metadata": {},
   "outputs": [],
   "source": [
    "from tensorflow import keras\n"
   ]
  },
  {
   "cell_type": "code",
   "execution_count": 155,
   "metadata": {},
   "outputs": [
    {
     "data": {
      "text/plain": [
       "((60000, 28, 28), (60000,))"
      ]
     },
     "execution_count": 155,
     "metadata": {},
     "output_type": "execute_result"
    }
   ],
   "source": [
    "X_train.shape, y_train.shape"
   ]
  },
  {
   "cell_type": "code",
   "execution_count": 160,
   "metadata": {},
   "outputs": [
    {
     "name": "stdout",
     "output_type": "stream",
     "text": [
      "Model: \"sequential_23\"\n",
      "_________________________________________________________________\n",
      "Layer (type)                 Output Shape              Param #   \n",
      "=================================================================\n",
      "flatten_3 (Flatten)          (None, 784)               0         \n",
      "_________________________________________________________________\n",
      "dense_45 (Dense)             (None, 128)               100480    \n",
      "_________________________________________________________________\n",
      "dense_46 (Dense)             (None, 10)                1290      \n",
      "=================================================================\n",
      "Total params: 101,770\n",
      "Trainable params: 101,770\n",
      "Non-trainable params: 0\n",
      "_________________________________________________________________\n"
     ]
    }
   ],
   "source": [
    "mnist_model = Sequential()\n",
    "mnist_model.add(Flatten(input_shape=(28,28)))\n",
    "mnist_model.add(Dense(128, activation=\"relu\"))\n",
    "mnist_model.add(Dense(10, activation=\"softmax\"))\n",
    "\n",
    "mnist_model.compile(loss='sparse_categorical_crossentropy', optimizer='adam', metrics=['accuracy'])\n",
    "mnist_model.summary()"
   ]
  },
  {
   "cell_type": "code",
   "execution_count": 165,
   "metadata": {},
   "outputs": [
    {
     "name": "stdout",
     "output_type": "stream",
     "text": [
      "Epoch 1/100\n",
      "1875/1875 [==============================] - ETA: 0s - loss: 8.4791 - accuracy: 0.7397WARNING:tensorflow:Early stopping conditioned on metric `val_loss` which is not available. Available metrics are: loss,accuracy\n",
      "1875/1875 [==============================] - 4s 2ms/step - loss: 8.4791 - accuracy: 0.7397\n",
      "Epoch 2/100\n",
      "1855/1875 [============================>.] - ETA: 0s - loss: 2.1540 - accuracy: 0.6965WARNING:tensorflow:Early stopping conditioned on metric `val_loss` which is not available. Available metrics are: loss,accuracy\n",
      "1875/1875 [==============================] - 4s 2ms/step - loss: 2.1582 - accuracy: 0.6963\n",
      "Epoch 3/100\n",
      "1860/1875 [============================>.] - ETA: 0s - loss: 1.3778 - accuracy: 0.6671WARNING:tensorflow:Early stopping conditioned on metric `val_loss` which is not available. Available metrics are: loss,accuracy\n",
      "1875/1875 [==============================] - 4s 2ms/step - loss: 1.3808 - accuracy: 0.6671\n",
      "Epoch 4/100\n",
      "1856/1875 [============================>.] - ETA: 0s - loss: 1.2296 - accuracy: 0.6847WARNING:tensorflow:Early stopping conditioned on metric `val_loss` which is not available. Available metrics are: loss,accuracy\n",
      "1875/1875 [==============================] - 4s 2ms/step - loss: 1.2249 - accuracy: 0.6852\n",
      "Epoch 5/100\n",
      "1864/1875 [============================>.] - ETA: 0s - loss: 1.0715 - accuracy: 0.6812WARNING:tensorflow:Early stopping conditioned on metric `val_loss` which is not available. Available metrics are: loss,accuracy\n",
      "1875/1875 [==============================] - 4s 2ms/step - loss: 1.0694 - accuracy: 0.6815\n",
      "Epoch 6/100\n",
      "1851/1875 [============================>.] - ETA: 0s - loss: 0.9297 - accuracy: 0.6872WARNING:tensorflow:Early stopping conditioned on metric `val_loss` which is not available. Available metrics are: loss,accuracy\n",
      "1875/1875 [==============================] - 4s 2ms/step - loss: 0.9309 - accuracy: 0.6874\n",
      "Epoch 7/100\n",
      "1857/1875 [============================>.] - ETA: 0s - loss: 0.9297 - accuracy: 0.7058WARNING:tensorflow:Early stopping conditioned on metric `val_loss` which is not available. Available metrics are: loss,accuracy\n",
      "1875/1875 [==============================] - 4s 2ms/step - loss: 0.9281 - accuracy: 0.7062\n",
      "Epoch 8/100\n",
      "1861/1875 [============================>.] - ETA: 0s - loss: 0.8261 - accuracy: 0.7137WARNING:tensorflow:Early stopping conditioned on metric `val_loss` which is not available. Available metrics are: loss,accuracy\n",
      "1875/1875 [==============================] - 4s 2ms/step - loss: 0.8253 - accuracy: 0.7137\n",
      "Epoch 9/100\n",
      "1861/1875 [============================>.] - ETA: 0s - loss: 0.8103 - accuracy: 0.7350WARNING:tensorflow:Early stopping conditioned on metric `val_loss` which is not available. Available metrics are: loss,accuracy\n",
      "1875/1875 [==============================] - 4s 2ms/step - loss: 0.8094 - accuracy: 0.7349\n",
      "Epoch 10/100\n",
      "1852/1875 [============================>.] - ETA: 0s - loss: 0.7420 - accuracy: 0.7422WARNING:tensorflow:Early stopping conditioned on metric `val_loss` which is not available. Available metrics are: loss,accuracy\n",
      "1875/1875 [==============================] - 4s 2ms/step - loss: 0.7420 - accuracy: 0.7422\n",
      "Epoch 11/100\n",
      "1864/1875 [============================>.] - ETA: 0s - loss: 0.6860 - accuracy: 0.7695WARNING:tensorflow:Early stopping conditioned on metric `val_loss` which is not available. Available metrics are: loss,accuracy\n",
      "1875/1875 [==============================] - 4s 2ms/step - loss: 0.6852 - accuracy: 0.7696\n",
      "Epoch 12/100\n",
      "1874/1875 [============================>.] - ETA: 0s - loss: 0.6919 - accuracy: 0.7683WARNING:tensorflow:Early stopping conditioned on metric `val_loss` which is not available. Available metrics are: loss,accuracy\n",
      "1875/1875 [==============================] - 4s 2ms/step - loss: 0.6919 - accuracy: 0.7683\n",
      "Epoch 13/100\n",
      "1864/1875 [============================>.] - ETA: 0s - loss: 0.6565 - accuracy: 0.7735WARNING:tensorflow:Early stopping conditioned on metric `val_loss` which is not available. Available metrics are: loss,accuracy\n",
      "1875/1875 [==============================] - 4s 2ms/step - loss: 0.6554 - accuracy: 0.7737\n",
      "Epoch 14/100\n",
      "1852/1875 [============================>.] - ETA: 0s - loss: 0.6606 - accuracy: 0.7825WARNING:tensorflow:Early stopping conditioned on metric `val_loss` which is not available. Available metrics are: loss,accuracy\n",
      "1875/1875 [==============================] - 4s 2ms/step - loss: 0.6612 - accuracy: 0.7820\n",
      "Epoch 15/100\n",
      "1873/1875 [============================>.] - ETA: 0s - loss: 0.6286 - accuracy: 0.7868WARNING:tensorflow:Early stopping conditioned on metric `val_loss` which is not available. Available metrics are: loss,accuracy\n",
      "1875/1875 [==============================] - 4s 2ms/step - loss: 0.6285 - accuracy: 0.7868\n",
      "Epoch 16/100\n",
      "1860/1875 [============================>.] - ETA: 0s - loss: 0.6448 - accuracy: 0.7900WARNING:tensorflow:Early stopping conditioned on metric `val_loss` which is not available. Available metrics are: loss,accuracy\n",
      "1875/1875 [==============================] - 4s 2ms/step - loss: 0.6474 - accuracy: 0.7898\n",
      "Epoch 17/100\n",
      "1873/1875 [============================>.] - ETA: 0s - loss: 0.6031 - accuracy: 0.8038WARNING:tensorflow:Early stopping conditioned on metric `val_loss` which is not available. Available metrics are: loss,accuracy\n",
      "1875/1875 [==============================] - 4s 2ms/step - loss: 0.6040 - accuracy: 0.8037\n",
      "Epoch 18/100\n",
      "1859/1875 [============================>.] - ETA: 0s - loss: 0.5636 - accuracy: 0.8042WARNING:tensorflow:Early stopping conditioned on metric `val_loss` which is not available. Available metrics are: loss,accuracy\n",
      "1875/1875 [==============================] - 4s 2ms/step - loss: 0.5636 - accuracy: 0.8041\n",
      "Epoch 19/100\n",
      "1862/1875 [============================>.] - ETA: 0s - loss: 0.5875 - accuracy: 0.7961WARNING:tensorflow:Early stopping conditioned on metric `val_loss` which is not available. Available metrics are: loss,accuracy\n",
      "1875/1875 [==============================] - 4s 2ms/step - loss: 0.5881 - accuracy: 0.7961\n",
      "Epoch 20/100\n",
      "1873/1875 [============================>.] - ETA: 0s - loss: 0.6512 - accuracy: 0.7899WARNING:tensorflow:Early stopping conditioned on metric `val_loss` which is not available. Available metrics are: loss,accuracy\n",
      "1875/1875 [==============================] - 4s 2ms/step - loss: 0.6530 - accuracy: 0.7897\n",
      "Epoch 21/100\n",
      "1861/1875 [============================>.] - ETA: 0s - loss: 0.5927 - accuracy: 0.8000WARNING:tensorflow:Early stopping conditioned on metric `val_loss` which is not available. Available metrics are: loss,accuracy\n",
      "1875/1875 [==============================] - 4s 2ms/step - loss: 0.5926 - accuracy: 0.7998\n",
      "Epoch 22/100\n",
      "1867/1875 [============================>.] - ETA: 0s - loss: 0.5946 - accuracy: 0.8041WARNING:tensorflow:Early stopping conditioned on metric `val_loss` which is not available. Available metrics are: loss,accuracy\n",
      "1875/1875 [==============================] - 4s 2ms/step - loss: 0.5946 - accuracy: 0.8039\n",
      "Epoch 23/100\n",
      "1871/1875 [============================>.] - ETA: 0s - loss: 0.5680 - accuracy: 0.7952WARNING:tensorflow:Early stopping conditioned on metric `val_loss` which is not available. Available metrics are: loss,accuracy\n",
      "1875/1875 [==============================] - 4s 2ms/step - loss: 0.5682 - accuracy: 0.7951\n",
      "Epoch 24/100\n",
      "1874/1875 [============================>.] - ETA: 0s - loss: 0.5610 - accuracy: 0.7990 ETA: 0s - loss: 0.559 - ETA: 0s - loss: 0.5624 - accuracy: 0.WARNING:tensorflow:Early stopping conditioned on metric `val_loss` which is not available. Available metrics are: loss,accuracy\n",
      "1875/1875 [==============================] - 4s 2ms/step - loss: 0.5610 - accuracy: 0.7990\n",
      "Epoch 25/100\n",
      "1870/1875 [============================>.] - ETA: 0s - loss: 0.5651 - accuracy: 0.8115WARNING:tensorflow:Early stopping conditioned on metric `val_loss` which is not available. Available metrics are: loss,accuracy\n",
      "1875/1875 [==============================] - 4s 2ms/step - loss: 0.5651 - accuracy: 0.8115\n",
      "Epoch 26/100\n",
      "1859/1875 [============================>.] - ETA: 0s - loss: 0.5590 - accuracy: 0.8099WARNING:tensorflow:Early stopping conditioned on metric `val_loss` which is not available. Available metrics are: loss,accuracy\n",
      "1875/1875 [==============================] - 4s 2ms/step - loss: 0.5590 - accuracy: 0.8097\n",
      "Epoch 27/100\n",
      "1866/1875 [============================>.] - ETA: 0s - loss: 0.5318 - accuracy: 0.8134WARNING:tensorflow:Early stopping conditioned on metric `val_loss` which is not available. Available metrics are: loss,accuracy\n",
      "1875/1875 [==============================] - 4s 2ms/step - loss: 0.5316 - accuracy: 0.8134\n",
      "Epoch 28/100\n",
      "1855/1875 [============================>.] - ETA: 0s - loss: 0.5415 - accuracy: 0.8155WARNING:tensorflow:Early stopping conditioned on metric `val_loss` which is not available. Available metrics are: loss,accuracy\n",
      "1875/1875 [==============================] - 4s 2ms/step - loss: 0.5406 - accuracy: 0.8158\n",
      "Epoch 29/100\n",
      "1862/1875 [============================>.] - ETA: 0s - loss: 0.5964 - accuracy: 0.8196WARNING:tensorflow:Early stopping conditioned on metric `val_loss` which is not available. Available metrics are: loss,accuracy\n",
      "1875/1875 [==============================] - 4s 2ms/step - loss: 0.5956 - accuracy: 0.8196\n",
      "Epoch 30/100\n",
      "1861/1875 [============================>.] - ETA: 0s - loss: 0.5180 - accuracy: 0.8209WARNING:tensorflow:Early stopping conditioned on metric `val_loss` which is not available. Available metrics are: loss,accuracy\n",
      "1875/1875 [==============================] - 4s 2ms/step - loss: 0.5185 - accuracy: 0.8209\n",
      "Epoch 31/100\n",
      "1873/1875 [============================>.] - ETA: 0s - loss: 0.5126 - accuracy: 0.8230WARNING:tensorflow:Early stopping conditioned on metric `val_loss` which is not available. Available metrics are: loss,accuracy\n",
      "1875/1875 [==============================] - 4s 2ms/step - loss: 0.5128 - accuracy: 0.8231\n",
      "Epoch 32/100\n",
      "1859/1875 [============================>.] - ETA: 0s - loss: 0.5009 - accuracy: 0.8292WARNING:tensorflow:Early stopping conditioned on metric `val_loss` which is not available. Available metrics are: loss,accuracy\n",
      "1875/1875 [==============================] - 4s 2ms/step - loss: 0.5006 - accuracy: 0.8291\n",
      "Epoch 33/100\n",
      "1867/1875 [============================>.] - ETA: 0s - loss: 0.5058 - accuracy: 0.8286WARNING:tensorflow:Early stopping conditioned on metric `val_loss` which is not available. Available metrics are: loss,accuracy\n",
      "1875/1875 [==============================] - 4s 2ms/step - loss: 0.5058 - accuracy: 0.8285\n",
      "Epoch 34/100\n",
      "1866/1875 [============================>.] - ETA: 0s - loss: 0.5037 - accuracy: 0.8280WARNING:tensorflow:Early stopping conditioned on metric `val_loss` which is not available. Available metrics are: loss,accuracy\n",
      "1875/1875 [==============================] - 4s 2ms/step - loss: 0.5042 - accuracy: 0.8281\n",
      "Epoch 35/100\n",
      "1863/1875 [============================>.] - ETA: 0s - loss: 0.4935 - accuracy: 0.8300WARNING:tensorflow:Early stopping conditioned on metric `val_loss` which is not available. Available metrics are: loss,accuracy\n",
      "1875/1875 [==============================] - 4s 2ms/step - loss: 0.4929 - accuracy: 0.8303\n",
      "Epoch 36/100\n",
      "1854/1875 [============================>.] - ETA: 0s - loss: 0.5272 - accuracy: 0.8171WARNING:tensorflow:Early stopping conditioned on metric `val_loss` which is not available. Available metrics are: loss,accuracy\n",
      "1875/1875 [==============================] - 4s 2ms/step - loss: 0.5271 - accuracy: 0.8172\n",
      "Epoch 37/100\n",
      "1869/1875 [============================>.] - ETA: 0s - loss: 0.4943 - accuracy: 0.8342 ETA: 0s - losWARNING:tensorflow:Early stopping conditioned on metric `val_loss` which is not available. Available metrics are: loss,accuracy\n",
      "1875/1875 [==============================] - 4s 2ms/step - loss: 0.4942 - accuracy: 0.8342\n",
      "Epoch 38/100\n",
      "1858/1875 [============================>.] - ETA: 0s - loss: 0.4948 - accuracy: 0.8363WARNING:tensorflow:Early stopping conditioned on metric `val_loss` which is not available. Available metrics are: loss,accuracy\n",
      "1875/1875 [==============================] - 4s 2ms/step - loss: 0.4944 - accuracy: 0.8363\n",
      "Epoch 39/100\n",
      "1855/1875 [============================>.] - ETA: 0s - loss: 0.4950 - accuracy: 0.8331WARNING:tensorflow:Early stopping conditioned on metric `val_loss` which is not available. Available metrics are: loss,accuracy\n",
      "1875/1875 [==============================] - 4s 2ms/step - loss: 0.4942 - accuracy: 0.8333\n",
      "Epoch 40/100\n",
      "1867/1875 [============================>.] - ETA: 0s - loss: 0.4764 - accuracy: 0.8395WARNING:tensorflow:Early stopping conditioned on metric `val_loss` which is not available. Available metrics are: loss,accuracy\n",
      "1875/1875 [==============================] - 4s 2ms/step - loss: 0.4765 - accuracy: 0.8395\n",
      "Epoch 41/100\n",
      "1871/1875 [============================>.] - ETA: 0s - loss: 0.4950 - accuracy: 0.8286WARNING:tensorflow:Early stopping conditioned on metric `val_loss` which is not available. Available metrics are: loss,accuracy\n",
      "1875/1875 [==============================] - 4s 2ms/step - loss: 0.4947 - accuracy: 0.8286\n",
      "Epoch 42/100\n",
      "1872/1875 [============================>.] - ETA: 0s - loss: 0.4774 - accuracy: 0.8337WARNING:tensorflow:Early stopping conditioned on metric `val_loss` which is not available. Available metrics are: loss,accuracy\n",
      "1875/1875 [==============================] - 4s 2ms/step - loss: 0.4776 - accuracy: 0.8336\n",
      "Epoch 43/100\n",
      "1851/1875 [============================>.] - ETA: 0s - loss: 0.4731 - accuracy: 0.8341WARNING:tensorflow:Early stopping conditioned on metric `val_loss` which is not available. Available metrics are: loss,accuracy\n",
      "1875/1875 [==============================] - 4s 2ms/step - loss: 0.4729 - accuracy: 0.8339\n",
      "Epoch 44/100\n",
      "1860/1875 [============================>.] - ETA: 0s - loss: 0.4620 - accuracy: 0.8398WARNING:tensorflow:Early stopping conditioned on metric `val_loss` which is not available. Available metrics are: loss,accuracy\n",
      "1875/1875 [==============================] - 4s 2ms/step - loss: 0.4619 - accuracy: 0.8399\n",
      "Epoch 45/100\n",
      "1856/1875 [============================>.] - ETA: 0s - loss: 0.4862 - accuracy: 0.8330WARNING:tensorflow:Early stopping conditioned on metric `val_loss` which is not available. Available metrics are: loss,accuracy\n",
      "1875/1875 [==============================] - 4s 2ms/step - loss: 0.4861 - accuracy: 0.8329\n",
      "Epoch 46/100\n",
      "1864/1875 [============================>.] - ETA: 0s - loss: 0.4987 - accuracy: 0.8292WARNING:tensorflow:Early stopping conditioned on metric `val_loss` which is not available. Available metrics are: loss,accuracy\n",
      "1875/1875 [==============================] - 4s 2ms/step - loss: 0.4979 - accuracy: 0.8294\n",
      "Epoch 47/100\n",
      "1868/1875 [============================>.] - ETA: 0s - loss: 0.4684 - accuracy: 0.8417WARNING:tensorflow:Early stopping conditioned on metric `val_loss` which is not available. Available metrics are: loss,accuracy\n",
      "1875/1875 [==============================] - 4s 2ms/step - loss: 0.4680 - accuracy: 0.8418\n",
      "Epoch 48/100\n",
      "1868/1875 [============================>.] - ETA: 0s - loss: 0.4827 - accuracy: 0.8345WARNING:tensorflow:Early stopping conditioned on metric `val_loss` which is not available. Available metrics are: loss,accuracy\n",
      "1875/1875 [==============================] - 4s 2ms/step - loss: 0.4831 - accuracy: 0.8343\n",
      "Epoch 49/100\n",
      "1871/1875 [============================>.] - ETA: 0s - loss: 0.4549 - accuracy: 0.8446WARNING:tensorflow:Early stopping conditioned on metric `val_loss` which is not available. Available metrics are: loss,accuracy\n",
      "1875/1875 [==============================] - 4s 2ms/step - loss: 0.4546 - accuracy: 0.8448\n",
      "Epoch 50/100\n",
      "1863/1875 [============================>.] - ETA: 0s - loss: 0.4628 - accuracy: 0.8408WARNING:tensorflow:Early stopping conditioned on metric `val_loss` which is not available. Available metrics are: loss,accuracy\n",
      "1875/1875 [==============================] - 4s 2ms/step - loss: 0.4627 - accuracy: 0.8407\n",
      "Epoch 51/100\n",
      "1866/1875 [============================>.] - ETA: 0s - loss: 0.4721 - accuracy: 0.8367WARNING:tensorflow:Early stopping conditioned on metric `val_loss` which is not available. Available metrics are: loss,accuracy\n",
      "1875/1875 [==============================] - 4s 2ms/step - loss: 0.4718 - accuracy: 0.8369\n",
      "Epoch 52/100\n",
      "1871/1875 [============================>.] - ETA: 0s - loss: 0.4712 - accuracy: 0.8406WARNING:tensorflow:Early stopping conditioned on metric `val_loss` which is not available. Available metrics are: loss,accuracy\n",
      "1875/1875 [==============================] - 4s 2ms/step - loss: 0.4710 - accuracy: 0.8407\n",
      "Epoch 53/100\n",
      "1869/1875 [============================>.] - ETA: 0s - loss: 0.4520 - accuracy: 0.8393WARNING:tensorflow:Early stopping conditioned on metric `val_loss` which is not available. Available metrics are: loss,accuracy\n",
      "1875/1875 [==============================] - 4s 2ms/step - loss: 0.4516 - accuracy: 0.8395\n",
      "Epoch 54/100\n",
      "1862/1875 [============================>.] - ETA: 0s - loss: 0.4600 - accuracy: 0.8405WARNING:tensorflow:Early stopping conditioned on metric `val_loss` which is not available. Available metrics are: loss,accuracy\n",
      "1875/1875 [==============================] - 4s 2ms/step - loss: 0.4598 - accuracy: 0.8405\n",
      "Epoch 55/100\n",
      "1854/1875 [============================>.] - ETA: 0s - loss: 0.4525 - accuracy: 0.8418WARNING:tensorflow:Early stopping conditioned on metric `val_loss` which is not available. Available metrics are: loss,accuracy\n",
      "1875/1875 [==============================] - 4s 2ms/step - loss: 0.4524 - accuracy: 0.8418\n",
      "Epoch 56/100\n",
      "1861/1875 [============================>.] - ETA: 0s - loss: 0.4587 - accuracy: 0.8453WARNING:tensorflow:Early stopping conditioned on metric `val_loss` which is not available. Available metrics are: loss,accuracy\n",
      "1875/1875 [==============================] - 5s 3ms/step - loss: 0.4587 - accuracy: 0.8453\n",
      "Epoch 57/100\n",
      "1862/1875 [============================>.] - ETA: 0s - loss: 0.4609 - accuracy: 0.8423WARNING:tensorflow:Early stopping conditioned on metric `val_loss` which is not available. Available metrics are: loss,accuracy\n",
      "1875/1875 [==============================] - 4s 2ms/step - loss: 0.4608 - accuracy: 0.8421\n",
      "Epoch 58/100\n",
      "1858/1875 [============================>.] - ETA: 0s - loss: 0.4542 - accuracy: 0.8445WARNING:tensorflow:Early stopping conditioned on metric `val_loss` which is not available. Available metrics are: loss,accuracy\n",
      "1875/1875 [==============================] - 4s 2ms/step - loss: 0.4543 - accuracy: 0.8444\n",
      "Epoch 59/100\n",
      "1865/1875 [============================>.] - ETA: 0s - loss: 0.4859 - accuracy: 0.8422WARNING:tensorflow:Early stopping conditioned on metric `val_loss` which is not available. Available metrics are: loss,accuracy\n",
      "1875/1875 [==============================] - 4s 2ms/step - loss: 0.4864 - accuracy: 0.8421\n",
      "Epoch 60/100\n",
      "1855/1875 [============================>.] - ETA: 0s - loss: 0.4591 - accuracy: 0.8422WARNING:tensorflow:Early stopping conditioned on metric `val_loss` which is not available. Available metrics are: loss,accuracy\n",
      "1875/1875 [==============================] - 4s 2ms/step - loss: 0.4588 - accuracy: 0.8423\n",
      "Epoch 61/100\n",
      "1865/1875 [============================>.] - ETA: 0s - loss: 0.4571 - accuracy: 0.8436WARNING:tensorflow:Early stopping conditioned on metric `val_loss` which is not available. Available metrics are: loss,accuracy\n",
      "1875/1875 [==============================] - 4s 2ms/step - loss: 0.4574 - accuracy: 0.8435\n",
      "Epoch 62/100\n",
      "1862/1875 [============================>.] - ETA: 0s - loss: 0.4416 - accuracy: 0.8468WARNING:tensorflow:Early stopping conditioned on metric `val_loss` which is not available. Available metrics are: loss,accuracy\n",
      "1875/1875 [==============================] - 5s 3ms/step - loss: 0.4418 - accuracy: 0.8468\n",
      "Epoch 63/100\n",
      "1852/1875 [============================>.] - ETA: 0s - loss: 0.4316 - accuracy: 0.8458WARNING:tensorflow:Early stopping conditioned on metric `val_loss` which is not available. Available metrics are: loss,accuracy\n",
      "1875/1875 [==============================] - 5s 3ms/step - loss: 0.4318 - accuracy: 0.8458\n",
      "Epoch 64/100\n",
      "1867/1875 [============================>.] - ETA: 0s - loss: 0.4696 - accuracy: 0.8439WARNING:tensorflow:Early stopping conditioned on metric `val_loss` which is not available. Available metrics are: loss,accuracy\n",
      "1875/1875 [==============================] - 4s 2ms/step - loss: 0.4692 - accuracy: 0.8439\n",
      "Epoch 65/100\n",
      "1860/1875 [============================>.] - ETA: 0s - loss: 0.4478 - accuracy: 0.8452 ETA: 0s -WARNING:tensorflow:Early stopping conditioned on metric `val_loss` which is not available. Available metrics are: loss,accuracy\n",
      "1875/1875 [==============================] - 4s 2ms/step - loss: 0.4473 - accuracy: 0.8454\n",
      "Epoch 66/100\n",
      "1861/1875 [============================>.] - ETA: 0s - loss: 0.4373 - accuracy: 0.8485WARNING:tensorflow:Early stopping conditioned on metric `val_loss` which is not available. Available metrics are: loss,accuracy\n",
      "1875/1875 [==============================] - 4s 2ms/step - loss: 0.4366 - accuracy: 0.8487\n",
      "Epoch 67/100\n",
      "1858/1875 [============================>.] - ETA: 0s - loss: 0.4625 - accuracy: 0.8445WARNING:tensorflow:Early stopping conditioned on metric `val_loss` which is not available. Available metrics are: loss,accuracy\n",
      "1875/1875 [==============================] - 4s 2ms/step - loss: 0.4620 - accuracy: 0.8446\n",
      "Epoch 68/100\n",
      "1873/1875 [============================>.] - ETA: 0s - loss: 0.4306 - accuracy: 0.8484WARNING:tensorflow:Early stopping conditioned on metric `val_loss` which is not available. Available metrics are: loss,accuracy\n",
      "1875/1875 [==============================] - 4s 2ms/step - loss: 0.4306 - accuracy: 0.8484\n",
      "Epoch 69/100\n",
      "1869/1875 [============================>.] - ETA: 0s - loss: 0.4509 - accuracy: 0.8466 ETA: 0s - loss: 0.4463 - accuWARNING:tensorflow:Early stopping conditioned on metric `val_loss` which is not available. Available metrics are: loss,accuracy\n",
      "1875/1875 [==============================] - 4s 2ms/step - loss: 0.4514 - accuracy: 0.8465\n",
      "Epoch 70/100\n",
      "1866/1875 [============================>.] - ETA: 0s - loss: 0.4771 - accuracy: 0.8435WARNING:tensorflow:Early stopping conditioned on metric `val_loss` which is not available. Available metrics are: loss,accuracy\n",
      "1875/1875 [==============================] - 4s 2ms/step - loss: 0.4764 - accuracy: 0.8438\n",
      "Epoch 71/100\n",
      "1862/1875 [============================>.] - ETA: 0s - loss: 0.4281 - accuracy: 0.8515WARNING:tensorflow:Early stopping conditioned on metric `val_loss` which is not available. Available metrics are: loss,accuracy\n",
      "1875/1875 [==============================] - 5s 2ms/step - loss: 0.4275 - accuracy: 0.8516\n",
      "Epoch 72/100\n",
      "1861/1875 [============================>.] - ETA: 0s - loss: 0.4389 - accuracy: 0.8510WARNING:tensorflow:Early stopping conditioned on metric `val_loss` which is not available. Available metrics are: loss,accuracy\n",
      "1875/1875 [==============================] - 4s 2ms/step - loss: 0.4384 - accuracy: 0.8512\n",
      "Epoch 73/100\n",
      "1859/1875 [============================>.] - ETA: 0s - loss: 0.4255 - accuracy: 0.8504WARNING:tensorflow:Early stopping conditioned on metric `val_loss` which is not available. Available metrics are: loss,accuracy\n",
      "1875/1875 [==============================] - 4s 2ms/step - loss: 0.4255 - accuracy: 0.8503\n",
      "Epoch 74/100\n",
      "1860/1875 [============================>.] - ETA: 0s - loss: 0.4362 - accuracy: 0.8509WARNING:tensorflow:Early stopping conditioned on metric `val_loss` which is not available. Available metrics are: loss,accuracy\n",
      "1875/1875 [==============================] - 4s 2ms/step - loss: 0.4364 - accuracy: 0.8508\n",
      "Epoch 75/100\n",
      "1871/1875 [============================>.] - ETA: 0s - loss: 0.4603 - accuracy: 0.8376WARNING:tensorflow:Early stopping conditioned on metric `val_loss` which is not available. Available metrics are: loss,accuracy\n",
      "1875/1875 [==============================] - 4s 2ms/step - loss: 0.4603 - accuracy: 0.8377\n",
      "Epoch 76/100\n",
      "1870/1875 [============================>.] - ETA: 0s - loss: 0.4348 - accuracy: 0.8492WARNING:tensorflow:Early stopping conditioned on metric `val_loss` which is not available. Available metrics are: loss,accuracy\n",
      "1875/1875 [==============================] - 4s 2ms/step - loss: 0.4348 - accuracy: 0.8492\n",
      "Epoch 77/100\n",
      "1868/1875 [============================>.] - ETA: 0s - loss: 0.4295 - accuracy: 0.8502WARNING:tensorflow:Early stopping conditioned on metric `val_loss` which is not available. Available metrics are: loss,accuracy\n",
      "1875/1875 [==============================] - 4s 2ms/step - loss: 0.4295 - accuracy: 0.8502\n",
      "Epoch 78/100\n",
      "1862/1875 [============================>.] - ETA: 0s - loss: 0.4345 - accuracy: 0.8472WARNING:tensorflow:Early stopping conditioned on metric `val_loss` which is not available. Available metrics are: loss,accuracy\n",
      "1875/1875 [==============================] - 4s 2ms/step - loss: 0.4352 - accuracy: 0.8471\n",
      "Epoch 79/100\n",
      "1860/1875 [============================>.] - ETA: 0s - loss: 0.4319 - accuracy: 0.8524WARNING:tensorflow:Early stopping conditioned on metric `val_loss` which is not available. Available metrics are: loss,accuracy\n",
      "1875/1875 [==============================] - 4s 2ms/step - loss: 0.4326 - accuracy: 0.8523\n",
      "Epoch 80/100\n",
      "1858/1875 [============================>.] - ETA: 0s - loss: 0.4294 - accuracy: 0.8513WARNING:tensorflow:Early stopping conditioned on metric `val_loss` which is not available. Available metrics are: loss,accuracy\n",
      "1875/1875 [==============================] - 4s 2ms/step - loss: 0.4299 - accuracy: 0.8514\n",
      "Epoch 81/100\n",
      "1873/1875 [============================>.] - ETA: 0s - loss: 0.4456 - accuracy: 0.8491WARNING:tensorflow:Early stopping conditioned on metric `val_loss` which is not available. Available metrics are: loss,accuracy\n",
      "1875/1875 [==============================] - 4s 2ms/step - loss: 0.4456 - accuracy: 0.8490\n",
      "Epoch 82/100\n",
      "1860/1875 [============================>.] - ETA: 0s - loss: 0.4483 - accuracy: 0.8453WARNING:tensorflow:Early stopping conditioned on metric `val_loss` which is not available. Available metrics are: loss,accuracy\n",
      "1875/1875 [==============================] - 4s 2ms/step - loss: 0.4487 - accuracy: 0.8453\n",
      "Epoch 83/100\n",
      "1862/1875 [============================>.] - ETA: 0s - loss: 0.4217 - accuracy: 0.8538WARNING:tensorflow:Early stopping conditioned on metric `val_loss` which is not available. Available metrics are: loss,accuracy\n",
      "1875/1875 [==============================] - 4s 2ms/step - loss: 0.4212 - accuracy: 0.8539\n",
      "Epoch 84/100\n",
      "1867/1875 [============================>.] - ETA: 0s - loss: 0.4289 - accuracy: 0.8530WARNING:tensorflow:Early stopping conditioned on metric `val_loss` which is not available. Available metrics are: loss,accuracy\n",
      "1875/1875 [==============================] - 4s 2ms/step - loss: 0.4287 - accuracy: 0.8529\n",
      "Epoch 85/100\n",
      "1857/1875 [============================>.] - ETA: 0s - loss: 0.4238 - accuracy: 0.8550WARNING:tensorflow:Early stopping conditioned on metric `val_loss` which is not available. Available metrics are: loss,accuracy\n",
      "1875/1875 [==============================] - 4s 2ms/step - loss: 0.4240 - accuracy: 0.8551\n",
      "Epoch 86/100\n",
      "1867/1875 [============================>.] - ETA: 0s - loss: 0.4414 - accuracy: 0.8508WARNING:tensorflow:Early stopping conditioned on metric `val_loss` which is not available. Available metrics are: loss,accuracy\n",
      "1875/1875 [==============================] - 4s 2ms/step - loss: 0.4412 - accuracy: 0.8508\n",
      "Epoch 87/100\n",
      "1851/1875 [============================>.] - ETA: 0s - loss: 0.4154 - accuracy: 0.8539WARNING:tensorflow:Early stopping conditioned on metric `val_loss` which is not available. Available metrics are: loss,accuracy\n",
      "1875/1875 [==============================] - 4s 2ms/step - loss: 0.4158 - accuracy: 0.8538\n",
      "Epoch 88/100\n",
      "1860/1875 [============================>.] - ETA: 0s - loss: 0.4083 - accuracy: 0.8560WARNING:tensorflow:Early stopping conditioned on metric `val_loss` which is not available. Available metrics are: loss,accuracy\n",
      "1875/1875 [==============================] - 4s 2ms/step - loss: 0.4082 - accuracy: 0.8559\n",
      "Epoch 89/100\n",
      "1867/1875 [============================>.] - ETA: 0s - loss: 0.4295 - accuracy: 0.8545WARNING:tensorflow:Early stopping conditioned on metric `val_loss` which is not available. Available metrics are: loss,accuracy\n",
      "1875/1875 [==============================] - 4s 2ms/step - loss: 0.4294 - accuracy: 0.8545\n",
      "Epoch 90/100\n",
      "1868/1875 [============================>.] - ETA: 0s - loss: 0.4117 - accuracy: 0.8569WARNING:tensorflow:Early stopping conditioned on metric `val_loss` which is not available. Available metrics are: loss,accuracy\n",
      "1875/1875 [==============================] - 4s 2ms/step - loss: 0.4113 - accuracy: 0.8571\n",
      "Epoch 91/100\n",
      "1852/1875 [============================>.] - ETA: 0s - loss: 0.4347 - accuracy: 0.8542WARNING:tensorflow:Early stopping conditioned on metric `val_loss` which is not available. Available metrics are: loss,accuracy\n",
      "1875/1875 [==============================] - 4s 2ms/step - loss: 0.4340 - accuracy: 0.8544\n",
      "Epoch 92/100\n",
      "1874/1875 [============================>.] - ETA: 0s - loss: 0.4406 - accuracy: 0.8517WARNING:tensorflow:Early stopping conditioned on metric `val_loss` which is not available. Available metrics are: loss,accuracy\n",
      "1875/1875 [==============================] - 4s 2ms/step - loss: 0.4406 - accuracy: 0.8518\n",
      "Epoch 93/100\n",
      "1856/1875 [============================>.] - ETA: 0s - loss: 0.4366 - accuracy: 0.8515WARNING:tensorflow:Early stopping conditioned on metric `val_loss` which is not available. Available metrics are: loss,accuracy\n",
      "1875/1875 [==============================] - 4s 2ms/step - loss: 0.4361 - accuracy: 0.8518\n",
      "Epoch 94/100\n",
      "1866/1875 [============================>.] - ETA: 0s - loss: 0.4301 - accuracy: 0.8555WARNING:tensorflow:Early stopping conditioned on metric `val_loss` which is not available. Available metrics are: loss,accuracy\n",
      "1875/1875 [==============================] - 4s 2ms/step - loss: 0.4302 - accuracy: 0.8555\n",
      "Epoch 95/100\n",
      "1868/1875 [============================>.] - ETA: 0s - loss: 0.4323 - accuracy: 0.8545WARNING:tensorflow:Early stopping conditioned on metric `val_loss` which is not available. Available metrics are: loss,accuracy\n",
      "1875/1875 [==============================] - 4s 2ms/step - loss: 0.4322 - accuracy: 0.8546\n",
      "Epoch 96/100\n",
      "1874/1875 [============================>.] - ETA: 0s - loss: 0.4239 - accuracy: 0.8549WARNING:tensorflow:Early stopping conditioned on metric `val_loss` which is not available. Available metrics are: loss,accuracy\n",
      "1875/1875 [==============================] - 4s 2ms/step - loss: 0.4239 - accuracy: 0.8549\n",
      "Epoch 97/100\n",
      "1854/1875 [============================>.] - ETA: 0s - loss: 0.4196 - accuracy: 0.8589 ETA: 0sWARNING:tensorflow:Early stopping conditioned on metric `val_loss` which is not available. Available metrics are: loss,accuracy\n",
      "1875/1875 [==============================] - 4s 2ms/step - loss: 0.4195 - accuracy: 0.8590\n",
      "Epoch 98/100\n",
      "1857/1875 [============================>.] - ETA: 0s - loss: 0.4354 - accuracy: 0.8544WARNING:tensorflow:Early stopping conditioned on metric `val_loss` which is not available. Available metrics are: loss,accuracy\n",
      "1875/1875 [==============================] - 4s 2ms/step - loss: 0.4351 - accuracy: 0.8543\n",
      "Epoch 99/100\n",
      "1861/1875 [============================>.] - ETA: 0s - loss: 0.4110 - accuracy: 0.8571WARNING:tensorflow:Early stopping conditioned on metric `val_loss` which is not available. Available metrics are: loss,accuracy\n",
      "1875/1875 [==============================] - 4s 2ms/step - loss: 0.4106 - accuracy: 0.8572\n",
      "Epoch 100/100\n",
      "1861/1875 [============================>.] - ETA: 0s - loss: 0.4333 - accuracy: 0.8579WARNING:tensorflow:Early stopping conditioned on metric `val_loss` which is not available. Available metrics are: loss,accuracy\n",
      "1875/1875 [==============================] - 4s 2ms/step - loss: 0.4333 - accuracy: 0.8579\n"
     ]
    }
   ],
   "source": [
    "from tensorflow.keras.callbacks import EarlyStopping\n",
    "\n",
    "my_callbacks =[tf.keras.callbacks.EarlyStopping(patience=2)]\n",
    "\n",
    "hist = mnist_model.fit(X_train, \n",
    "                       y_train, \n",
    "                       batch_size=32, \n",
    "                       epochs=100,\n",
    "                       callbacks=my_callbacks\n",
    "                       )"
   ]
  },
  {
   "cell_type": "code",
   "execution_count": 162,
   "metadata": {},
   "outputs": [
    {
     "name": "stdout",
     "output_type": "stream",
     "text": [
      "313/313 [==============================] - 1s 3ms/step - loss: 0.3798 - accuracy: 0.8844\n"
     ]
    }
   ],
   "source": [
    "scores=mnist_model.evaluate(X_test, y_test)"
   ]
  },
  {
   "cell_type": "code",
   "execution_count": 163,
   "metadata": {},
   "outputs": [
    {
     "data": {
      "text/plain": [
       "[0.3797932267189026, 0.8844000101089478]"
      ]
     },
     "execution_count": 163,
     "metadata": {},
     "output_type": "execute_result"
    }
   ],
   "source": [
    "scores"
   ]
  },
  {
   "cell_type": "code",
   "execution_count": 164,
   "metadata": {},
   "outputs": [
    {
     "name": "stderr",
     "output_type": "stream",
     "text": [
      "/opt/anaconda3/envs/U4-S1-NLP/lib/python3.7/site-packages/ipykernel_launcher.py:13: UserWarning:\n",
      "\n",
      "Matplotlib is currently using module://ipykernel.pylab.backend_inline, which is a non-GUI backend, so cannot show the figure.\n",
      "\n"
     ]
    },
    {
     "data": {
      "image/png": "[encoded data removed]",
      "text/plain": [
       "<Figure size 3600x360 with 10 Axes>"
      ]
     },
     "metadata": {
      "needs_background": "light"
     },
     "output_type": "display_data"
    },
    {
     "data": {
      "image/png": "[encoded data removed]",
      "text/plain": [
       "<Figure size 3600x360 with 10 Axes>"
      ]
     },
     "metadata": {
      "needs_background": "light"
     },
     "output_type": "display_data"
    },
    {
     "data": {
      "image/png": "[encoded data removed]",
      "text/plain": [
       "<Figure size 3600x360 with 10 Axes>"
      ]
     },
     "metadata": {
      "needs_background": "light"
     },
     "output_type": "display_data"
    },
    {
     "data": {
      "image/png": "[encoded data removed]",
      "text/plain": [
       "<Figure size 3600x360 with 10 Axes>"
      ]
     },
     "metadata": {
      "needs_background": "light"
     },
     "output_type": "display_data"
    },
    {
     "data": {
      "image/png": "[encoded data removed]",
      "text/plain": [
       "<Figure size 3600x360 with 10 Axes>"
      ]
     },
     "metadata": {
      "needs_background": "light"
     },
     "output_type": "display_data"
    },
    {
     "data": {
      "image/png": "[encoded data removed]",
      "text/plain": [
       "<Figure size 3600x360 with 10 Axes>"
      ]
     },
     "metadata": {
      "needs_background": "light"
     },
     "output_type": "display_data"
    },
    {
     "data": {
      "image/png": "[encoded data removed]",
      "text/plain": [
       "<Figure size 3600x360 with 10 Axes>"
      ]
     },
     "metadata": {
      "needs_background": "light"
     },
     "output_type": "display_data"
    },
    {
     "data": {
      "image/png": "[encoded data removed]",
      "text/plain": [
       "<Figure size 3600x360 with 10 Axes>"
      ]
     },
     "metadata": {
      "needs_background": "light"
     },
     "output_type": "display_data"
    },
    {
     "data": {
      "image/png": "[encoded data removed]",
      "text/plain": [
       "<Figure size 3600x360 with 10 Axes>"
      ]
     },
     "metadata": {
      "needs_background": "light"
     },
     "output_type": "display_data"
    },
    {
     "data": {
      "image/png": "[encoded data removed]",
      "text/plain": [
       "<Figure size 3600x360 with 10 Axes>"
      ]
     },
     "metadata": {
      "needs_background": "light"
     },
     "output_type": "display_data"
    }
   ],
   "source": [
    "(X_train, y_train), (X_test, y_test) = fashion_mnist.load_data()\n",
    "X_train[0]\n",
    "\n",
    "import matplotlib.pyplot as plt\n",
    "\n",
    "for n in range(10):\n",
    "    samples = [sample for sample, label in zip(X_train, y_train) if label == n][:10]\n",
    "    \n",
    "    fig, axes = plt.subplots(ncols=10, figsize=(50,5))\n",
    "    for sample, ax in zip(samples, axes):\n",
    "        ax.imshow(sample, \"gray\")\n",
    "    axes[0].set_title(f\"Label: {n}\")\n",
    "    fig.show()\n"
   ]
  },
  {
   "cell_type": "code",
   "execution_count": null,
   "metadata": {},
   "outputs": [],
   "source": []
  },
  {
   "cell_type": "markdown",
   "metadata": {
    "colab_type": "text",
    "id": "zv_3xNMjzdLI"
   },
   "source": [
    "## Stretch Goals:\n",
    "\n",
    "- Use Hyperparameter Tuning to make the accuracy of your models as high as possible. (error as low as possible)\n",
    "- Use Cross Validation techniques to get more consistent results with your model.\n",
    "- Use GridSearchCV to try different combinations of hyperparameters. \n",
    "- Start looking into other types of Keras layers for CNNs and RNNs maybe try and build a CNN model for fashion-MNIST to see how the results compare."
   ]
  }
 ],
 "metadata": {
  "colab": {
   "name": "LS_DS_433_Keras_Assignment.ipynb",
   "provenance": [],
   "version": "0.3.2"
  },
  "kernelspec": {
   "display_name": "U4-S1-NLP (Python3)",
   "language": "python",
   "name": "u4-s1-nlp"
  },
  "language_info": {
   "codemirror_mode": {
    "name": "ipython",
    "version": 3
   },
   "file_extension": ".py",
   "mimetype": "text/x-python",
   "name": "python",
   "nbconvert_exporter": "python",
   "pygments_lexer": "ipython3",
   "version": "3.7.0"
  }
 },
 "nbformat": 4,
 "nbformat_minor": 4
}
